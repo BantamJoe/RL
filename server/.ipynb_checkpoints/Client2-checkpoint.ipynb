{
 "cells": [
  {
   "cell_type": "code",
   "execution_count": 38,
   "metadata": {},
   "outputs": [
    {
     "data": {
      "text/plain": [
       "1"
      ]
     },
     "execution_count": 38,
     "metadata": {},
     "output_type": "execute_result"
    }
   ],
   "source": [
    "import socket\n",
    "import mss\n",
    "import mss.tools\n",
    "import struct\n",
    "from PIL import ImageGrab\n",
    "from PIL import Image\n",
    "import zlib\n",
    "import numpy as np\n",
    "from ctypes import windll\n",
    "import io\n",
    "import cv2\n",
    "import time\n",
    "user32 = windll.user32\n",
    "user32.SetProcessDPIAware()"
   ]
  },
  {
   "cell_type": "code",
   "execution_count": 173,
   "metadata": {
    "collapsed": true
   },
   "outputs": [],
   "source": [
    "sock = socket.socket(socket.AF_INET, socket.SOCK_STREAM) #TCP\n",
    "host = '127.0.0.1'#'36.231.62.198'\n",
    "port = 5555\n",
    "sock.connect((host, port))\n",
    "sock.setsockopt(socket.IPPROTO_TCP, socket.TCP_NODELAY, 1)"
   ]
  },
  {
   "cell_type": "code",
   "execution_count": 174,
   "metadata": {},
   "outputs": [
    {
     "name": "stdout",
     "output_type": "stream",
     "text": [
      "conversion time elapsed : 0.2792496033575844\n",
      "transmission time elapsed : 0.000442469485278707\n",
      "conversion time elapsed : 0.23726794055710343\n",
      "transmission time elapsed : 0.00069530919108729\n",
      "conversion time elapsed : 0.2860272877251191\n",
      "transmission time elapsed : 0.012243367698374641\n",
      "conversion time elapsed : 0.4799355890845618\n",
      "transmission time elapsed : 0.0022119523650871997\n",
      "conversion time elapsed : 0.4589388317540397\n",
      "transmission time elapsed : 0.0004239015693201509\n",
      "conversion time elapsed : 0.5842880665977646\n",
      "transmission time elapsed : 0.0006921486951796396\n",
      "conversion time elapsed : 0.4906820667119973\n",
      "transmission time elapsed : 0.0005396547476266278\n",
      "conversion time elapsed : 0.49759288698714954\n",
      "transmission time elapsed : 0.0005127905287736212\n",
      "conversion time elapsed : 0.43261387268285034\n",
      "transmission time elapsed : 0.0007600993662890687\n",
      "conversion time elapsed : 0.30051658312413565\n",
      "transmission time elapsed : 0.00047091395208553877\n",
      "conversion time elapsed : 0.3059376244445957\n",
      "transmission time elapsed : 0.00039427191632057657\n",
      "conversion time elapsed : 0.3434700985440031\n",
      "transmission time elapsed : 0.0004677534557231411\n",
      "conversion time elapsed : 0.31833388115228445\n",
      "transmission time elapsed : 0.0003741237524081953\n",
      "conversion time elapsed : 0.31144557941388484\n",
      "transmission time elapsed : 0.0004922473026454099\n",
      "conversion time elapsed : 0.3082191077282914\n",
      "transmission time elapsed : 0.000350815091678669\n",
      "conversion time elapsed : 0.3630513485836673\n",
      "transmission time elapsed : 0.000436148493008659\n",
      "conversion time elapsed : 0.32889586480632715\n",
      "transmission time elapsed : 0.0003974324131377216\n",
      "conversion time elapsed : 0.3711564414074928\n",
      "transmission time elapsed : 0.0004602472768056032\n",
      "conversion time elapsed : 0.31642336112463454\n",
      "transmission time elapsed : 0.00039308673058258137\n",
      "conversion time elapsed : 0.3091269602978173\n",
      "transmission time elapsed : 0.0003764941247936804\n",
      "conversion time elapsed : 0.31662918844767773\n",
      "transmission time elapsed : 0.0016406926542913425\n",
      "conversion time elapsed : 0.33739641473312076\n",
      "transmission time elapsed : 0.0007095314249454532\n",
      "conversion time elapsed : 0.3278758146175278\n",
      "transmission time elapsed : 0.0004152102046646178\n",
      "conversion time elapsed : 0.32985270506878805\n",
      "transmission time elapsed : 0.0006293338306022633\n",
      "conversion time elapsed : 0.3226779833503315\n",
      "transmission time elapsed : 0.0003994077228526294\n",
      "conversion time elapsed : 0.32659146792411775\n",
      "transmission time elapsed : 0.00038874104802744114\n",
      "conversion time elapsed : 0.32120874762176754\n",
      "transmission time elapsed : 0.00047407444844793645\n",
      "conversion time elapsed : 0.3486268433598525\n",
      "transmission time elapsed : 0.0004349633063611691\n",
      "conversion time elapsed : 0.3291965070193328\n",
      "transmission time elapsed : 0.00042666700392146595\n",
      "conversion time elapsed : 0.35135869736950553\n",
      "transmission time elapsed : 0.00036266695360609447\n",
      "conversion time elapsed : 0.3179530413458451\n",
      "transmission time elapsed : 0.0004017780952381145\n",
      "conversion time elapsed : 0.3147407918936551\n",
      "transmission time elapsed : 0.0006534326148539549\n",
      "conversion time elapsed : 0.34060076294372266\n",
      "transmission time elapsed : 0.0007984203839441761\n",
      "conversion time elapsed : 0.3419933566369764\n",
      "transmission time elapsed : 0.0004160003290962777\n",
      "conversion time elapsed : 0.3337377451757675\n",
      "transmission time elapsed : 0.0004748645728795964\n",
      "conversion time elapsed : 0.3341608566211107\n",
      "transmission time elapsed : 0.000370173132068885\n",
      "conversion time elapsed : 0.3171423740386672\n",
      "transmission time elapsed : 0.00217165603680769\n",
      "conversion time elapsed : 0.30044270652251726\n",
      "transmission time elapsed : 0.0015703716112511756\n",
      "conversion time elapsed : 0.30843165110673\n",
      "transmission time elapsed : 0.001252741730240814\n",
      "conversion time elapsed : 0.31941358570975353\n",
      "transmission time elapsed : 0.0007336302091971447\n",
      "conversion time elapsed : 0.3272982339144619\n",
      "transmission time elapsed : 0.000386765737857786\n",
      "conversion time elapsed : 0.32766129592982907\n",
      "transmission time elapsed : 0.0007648401106052916\n",
      "conversion time elapsed : 0.3213165995584859\n",
      "transmission time elapsed : 0.0005226670796218968\n",
      "conversion time elapsed : 0.3656184617229883\n",
      "transmission time elapsed : 0.0009228649269061862\n",
      "conversion time elapsed : 0.3362017471222316\n",
      "transmission time elapsed : 0.0010907662940553564\n",
      "conversion time elapsed : 0.31599195337639685\n",
      "transmission time elapsed : 0.001508346870650712\n",
      "conversion time elapsed : 0.3390039221758343\n",
      "transmission time elapsed : 0.0004665682699851459\n",
      "conversion time elapsed : 0.32354988527367823\n",
      "transmission time elapsed : 0.0010113588236890791\n",
      "conversion time elapsed : 0.3126386667759107\n",
      "transmission time elapsed : 0.0010208403127762722\n",
      "conversion time elapsed : 0.3437932592933066\n",
      "transmission time elapsed : 0.00042034601074192324\n",
      "conversion time elapsed : 0.31716607776070305\n",
      "transmission time elapsed : 0.00043180281045351876\n",
      "conversion time elapsed : 0.341985455395843\n",
      "transmission time elapsed : 0.002253038817343622\n",
      "conversion time elapsed : 0.35206664854649716\n",
      "transmission time elapsed : 0.0003729385666702001\n",
      "conversion time elapsed : 0.3214967478493236\n",
      "transmission time elapsed : 0.0006921486947248923\n",
      "conversion time elapsed : 0.3119145180558007\n",
      "transmission time elapsed : 0.0013918035688220698\n",
      "conversion time elapsed : 0.34839731231386395\n",
      "transmission time elapsed : 0.0008683463652232604\n",
      "conversion time elapsed : 0.31376617384012206\n",
      "transmission time elapsed : 0.001721285310395615\n",
      "conversion time elapsed : 0.33598920374470254\n",
      "transmission time elapsed : 0.0003950620407522365\n",
      "conversion time elapsed : 0.3134884452251754\n",
      "transmission time elapsed : 0.0009493340835433628\n",
      "conversion time elapsed : 0.32496934318578496\n",
      "transmission time elapsed : 0.0005451856159197632\n",
      "conversion time elapsed : 0.34068096053806585\n",
      "transmission time elapsed : 0.0003444940989538736\n",
      "conversion time elapsed : 0.33395621448426027\n",
      "transmission time elapsed : 0.0004882966818513523\n",
      "conversion time elapsed : 0.3106009367711522\n",
      "transmission time elapsed : 0.0007687907309446018\n",
      "conversion time elapsed : 0.3566809731801186\n",
      "transmission time elapsed : 0.00030656814351459616\n",
      "conversion time elapsed : 0.30908271334919846\n",
      "transmission time elapsed : 0.0010299267396476353\n",
      "conversion time elapsed : 0.32327136653566413\n",
      "transmission time elapsed : 0.0003567410226423817\n",
      "conversion time elapsed : 0.33958861399605667\n",
      "transmission time elapsed : 0.0006214325899236428\n",
      "conversion time elapsed : 0.3273290487536542\n",
      "transmission time elapsed : 0.0005396547476266278\n",
      "conversion time elapsed : 0.33189162026019403\n",
      "transmission time elapsed : 0.00038400030325647094\n",
      "conversion time elapsed : 0.35010990625960403\n",
      "transmission time elapsed : 0.000403358343646687\n",
      "conversion time elapsed : 0.34500886519208507\n",
      "transmission time elapsed : 0.0003859756134261261\n",
      "conversion time elapsed : 0.3122815306915072\n",
      "transmission time elapsed : 0.0007103215489223658\n",
      "conversion time elapsed : 0.3285083089449472\n",
      "transmission time elapsed : 0.0007063709285830555\n",
      "conversion time elapsed : 0.3323234230701928\n",
      "transmission time elapsed : 0.0007762969094073924\n",
      "conversion time elapsed : 0.31006957832687476\n",
      "transmission time elapsed : 0.00044128429908596445\n",
      "conversion time elapsed : 0.3426989374411278\n",
      "transmission time elapsed : 0.0003555558364496392\n",
      "conversion time elapsed : 0.2971391977393978\n",
      "transmission time elapsed : 0.0004634077736227482\n",
      "conversion time elapsed : 0.3182469675034554\n",
      "transmission time elapsed : 0.00039506204029748915\n",
      "conversion time elapsed : 0.3906843580716668\n",
      "transmission time elapsed : 0.001154766344370728\n",
      "conversion time elapsed : 0.5436476394252168\n",
      "transmission time elapsed : 0.0010800996187754208\n",
      "conversion time elapsed : 0.5625770370979808\n",
      "transmission time elapsed : 0.0010477045316292788\n",
      "conversion time elapsed : 0.458164510154802\n",
      "transmission time elapsed : 0.0009291859191762342\n",
      "conversion time elapsed : 0.5413388968604522\n",
      "transmission time elapsed : 0.0003543706502568966\n",
      "conversion time elapsed : 0.5486333223766451\n",
      "transmission time elapsed : 0.0005147658389432763\n",
      "conversion time elapsed : 0.4943415263933275\n",
      "transmission time elapsed : 0.001288297314204101\n",
      "conversion time elapsed : 0.6040486748038347\n",
      "transmission time elapsed : 0.0006352597611112287\n"
     ]
    },
    {
     "name": "stdout",
     "output_type": "stream",
     "text": [
      "conversion time elapsed : 0.45766515173545486\n",
      "transmission time elapsed : 0.0004922473026454099\n",
      "conversion time elapsed : 0.3612091742888879\n",
      "transmission time elapsed : 0.0014206430978447315\n",
      "conversion time elapsed : 0.3374375011853772\n",
      "transmission time elapsed : 0.0007020252460279153\n",
      "conversion time elapsed : 0.319885289785816\n",
      "transmission time elapsed : 0.00037886449672441813\n",
      "conversion time elapsed : 0.3364233769270868\n",
      "transmission time elapsed : 0.0005451856159197632\n",
      "conversion time elapsed : 0.3555222562149538\n",
      "transmission time elapsed : 0.0006870128886475868\n",
      "conversion time elapsed : 0.3541363785766407\n",
      "transmission time elapsed : 0.00046775345617788844\n",
      "conversion time elapsed : 0.329945149586365\n",
      "transmission time elapsed : 0.00039190154393509147\n",
      "conversion time elapsed : 0.35544324380680337\n",
      "transmission time elapsed : 0.00047407444844793645\n",
      "conversion time elapsed : 0.34469044518755254\n",
      "transmission time elapsed : 0.0003567410226423817\n",
      "conversion time elapsed : 0.3099364424192572\n",
      "transmission time elapsed : 0.0008912599632822094\n",
      "conversion time elapsed : 0.3638319911756298\n",
      "transmission time elapsed : 0.0021767918433397426\n",
      "conversion time elapsed : 0.3402882688696991\n",
      "transmission time elapsed : 0.000878222916071536\n",
      "conversion time elapsed : 0.317791460970966\n",
      "transmission time elapsed : 0.0004021731569991971\n",
      "conversion time elapsed : 0.34366209869585873\n",
      "transmission time elapsed : 0.00040572871557742474\n",
      "conversion time elapsed : 0.3572087760658178\n",
      "transmission time elapsed : 0.0015494333229071344\n",
      "conversion time elapsed : 0.3227724031780781\n",
      "transmission time elapsed : 0.0005289880718919449\n",
      "conversion time elapsed : 0.326970727483058\n",
      "transmission time elapsed : 0.0005937782470937236\n",
      "conversion time elapsed : 0.30748310714716354\n",
      "transmission time elapsed : 0.00028641997914746753\n",
      "conversion time elapsed : 0.31718504073887743\n",
      "transmission time elapsed : 0.00048750655787443975\n",
      "conversion time elapsed : 0.3254469731923564\n",
      "transmission time elapsed : 0.0006858277024548443\n",
      "conversion time elapsed : 0.3039848327780419\n",
      "transmission time elapsed : 0.0007660252963432868\n",
      "conversion time elapsed : 0.3175157076666437\n",
      "transmission time elapsed : 0.0004456299816411047\n",
      "conversion time elapsed : 0.5554157474889507\n"
     ]
    }
   ],
   "source": [
    "sct = mss.mss()\n",
    "while True:\n",
    "    try:\n",
    "        start = time.clock()\n",
    "        sct_img = sct.grab(mon)\n",
    "#         img = ImageGrab.grab((0,0,2000,2000))\n",
    "        imgByteArr = io.BytesIO()\n",
    "        img = Image.frombytes('RGB', sct_img.size, sct_img.rgb)\n",
    "        img.save(imgByteArr, format='JPEG', quality=100)\n",
    "        imgByteArr = imgByteArr.getvalue()\n",
    "#         imgByteArr = mss.tools.to_png(sct_img.rgb, sct_img.size, level=6)\n",
    "        end = time.clock()\n",
    "        print(\"conversion time elapsed : \"+str(end - start))\n",
    "#         compress = zlib.compressobj(zlib.Z_DEFAULT_COMPRESSION, zlib.DEFLATED, 15)\n",
    "#         compressed_data = compress.compress(imgByteArr)  \n",
    "#         compressed_data += compress.flush()\n",
    "        start = time.clock()\n",
    "        packed_size = struct.pack(\"i\", len(imgByteArr))\n",
    "        sock.sendall(packed_size)\n",
    "        sock.sendall(imgByteArr)\n",
    "        end = time.clock()\n",
    "        print(\"transmission time elapsed : \"+str(end - start))\n",
    "    except:\n",
    "        break"
   ]
  },
  {
   "cell_type": "code",
   "execution_count": 33,
   "metadata": {},
   "outputs": [
    {
     "name": "stdout",
     "output_type": "stream",
     "text": [
      "conversion time elapsed : 0.3593650246834841\n"
     ]
    }
   ],
   "source": [
    "start = time.clock()\n",
    "img = ImageGrab.grab((0,0,2000,2000))\n",
    "imgByteArr = io.BytesIO()\n",
    "img.save(imgByteArr, format='JPEG', quality=10)\n",
    "imgByteArr = imgByteArr.getvalue()\n",
    "end = time.clock()\n",
    "print(\"conversion time elapsed : \"+str(end - start))"
   ]
  },
  {
   "cell_type": "code",
   "execution_count": 66,
   "metadata": {
    "collapsed": true
   },
   "outputs": [],
   "source": [
    "compress = zlib.compressobj(zlib.Z_DEFAULT_COMPRESSION, zlib.DEFLATED, 15)\n",
    "compressed_data = compress.compress(imgByteArr)  \n",
    "compressed_data += compress.flush()"
   ]
  },
  {
   "cell_type": "code",
   "execution_count": 67,
   "metadata": {},
   "outputs": [
    {
     "name": "stdout",
     "output_type": "stream",
     "text": [
      "12000054\n",
      "2352637\n"
     ]
    }
   ],
   "source": [
    "print(len(imgByteArr))\n",
    "print(len(compressed_data))"
   ]
  },
  {
   "cell_type": "code",
   "execution_count": 155,
   "metadata": {
    "collapsed": true
   },
   "outputs": [],
   "source": [
    "while True:\n",
    "    cv2.namedWindow(\"a\", cv2.WINDOW_NORMAL)\n",
    "    cv2.resizeWindow('a', img.shape[1]//2, img.shape[0]//2)\n",
    "    cv2.imshow('a', img)\n",
    "    k = cv2.waitKey(30) & 0xff #esc\n",
    "    if k == 27:\n",
    "        break\n",
    "cv2.destroyAllWindows()"
   ]
  },
  {
   "cell_type": "code",
   "execution_count": 31,
   "metadata": {
    "collapsed": true
   },
   "outputs": [],
   "source": [
    "sock.close()"
   ]
  },
  {
   "cell_type": "code",
   "execution_count": 161,
   "metadata": {},
   "outputs": [
    {
     "name": "stdout",
     "output_type": "stream",
     "text": [
      "conversion time elapsed : 0.2693276202094239\n"
     ]
    }
   ],
   "source": [
    "mon = {'top': 0, 'left': 0, 'width': 2000, 'height': 2000}\n",
    "start = time.clock()\n",
    "# ImageGrab.grab((0,0,2000,2000))\n",
    "with mss.mss() as sct:\n",
    "    sct_img = sct.grab(mon)\n",
    "imgByteArr = io.BytesIO()\n",
    "img = Image.frombytes('RGB', sct_img.size, sct_img.rgb)\n",
    "img.save(imgByteArr, format='JPEG', quality=10)\n",
    "imgByteArr = imgByteArr.getvalue()\n",
    "# imgByteArr = mss.tools.to_png(sct_img.rgb, sct_img.size, level=6)\n",
    "end = time.clock()\n",
    "print(\"conversion time elapsed : \"+str(end - start))"
   ]
  },
  {
   "cell_type": "code",
   "execution_count": 150,
   "metadata": {},
   "outputs": [
    {
     "data": {
      "text/plain": [
       "12002983"
      ]
     },
     "execution_count": 150,
     "metadata": {},
     "output_type": "execute_result"
    }
   ],
   "source": [
    "len(imgByteArr)"
   ]
  },
  {
   "cell_type": "code",
   "execution_count": null,
   "metadata": {
    "collapsed": true
   },
   "outputs": [],
   "source": []
  }
 ],
 "metadata": {
  "kernelspec": {
   "display_name": "Python 3",
   "language": "python",
   "name": "python3"
  },
  "language_info": {
   "codemirror_mode": {
    "name": "ipython",
    "version": 3
   },
   "file_extension": ".py",
   "mimetype": "text/x-python",
   "name": "python",
   "nbconvert_exporter": "python",
   "pygments_lexer": "ipython3",
   "version": "3.6.1"
  }
 },
 "nbformat": 4,
 "nbformat_minor": 2
}
