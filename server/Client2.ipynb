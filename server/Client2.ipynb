{
 "cells": [
  {
   "cell_type": "code",
   "execution_count": 84,
   "metadata": {
    "collapsed": true
   },
   "outputs": [],
   "source": [
    "import socket\n",
    "import mss\n",
    "import mss.tools\n",
    "import struct\n",
    "from PIL import ImageGrab\n",
    "from PIL import Image\n",
    "import zlib\n",
    "import numpy as np\n",
    "from ctypes import windll\n",
    "import io\n",
    "import cv2\n",
    "import time\n",
    "user32 = windll.user32\n",
    "user32.SetProcessDPIAware()\n",
    "mon = {'top': 0, 'left': 0, 'width': 2000, 'height': 2000}\n",
    "sct = mss.mss()"
   ]
  },
  {
   "cell_type": "code",
   "execution_count": 85,
   "metadata": {},
   "outputs": [
    {
     "ename": "ConnectionRefusedError",
     "evalue": "[WinError 10061] No connection could be made because the target machine actively refused it",
     "output_type": "error",
     "traceback": [
      "\u001b[1;31m---------------------------------------------------------------------------\u001b[0m",
      "\u001b[1;31mConnectionRefusedError\u001b[0m                    Traceback (most recent call last)",
      "\u001b[1;32m<ipython-input-85-4035e9d67481>\u001b[0m in \u001b[0;36m<module>\u001b[1;34m()\u001b[0m\n\u001b[0;32m      2\u001b[0m \u001b[0mhost\u001b[0m \u001b[1;33m=\u001b[0m \u001b[1;34m'127.0.0.1'\u001b[0m\u001b[1;31m#'36.231.62.198'\u001b[0m\u001b[1;33m\u001b[0m\u001b[0m\n\u001b[0;32m      3\u001b[0m \u001b[0mport\u001b[0m \u001b[1;33m=\u001b[0m \u001b[1;36m5555\u001b[0m\u001b[1;33m\u001b[0m\u001b[0m\n\u001b[1;32m----> 4\u001b[1;33m \u001b[0msock\u001b[0m\u001b[1;33m.\u001b[0m\u001b[0mconnect\u001b[0m\u001b[1;33m(\u001b[0m\u001b[1;33m(\u001b[0m\u001b[0mhost\u001b[0m\u001b[1;33m,\u001b[0m \u001b[0mport\u001b[0m\u001b[1;33m)\u001b[0m\u001b[1;33m)\u001b[0m\u001b[1;33m\u001b[0m\u001b[0m\n\u001b[0m\u001b[0;32m      5\u001b[0m \u001b[0msock\u001b[0m\u001b[1;33m.\u001b[0m\u001b[0msetsockopt\u001b[0m\u001b[1;33m(\u001b[0m\u001b[0msocket\u001b[0m\u001b[1;33m.\u001b[0m\u001b[0mIPPROTO_TCP\u001b[0m\u001b[1;33m,\u001b[0m \u001b[0msocket\u001b[0m\u001b[1;33m.\u001b[0m\u001b[0mTCP_NODELAY\u001b[0m\u001b[1;33m,\u001b[0m \u001b[1;36m1\u001b[0m\u001b[1;33m)\u001b[0m\u001b[1;33m\u001b[0m\u001b[0m\n",
      "\u001b[1;31mConnectionRefusedError\u001b[0m: [WinError 10061] No connection could be made because the target machine actively refused it"
     ]
    }
   ],
   "source": [
    "sock = socket.socket(socket.AF_INET, socket.SOCK_STREAM) #TCP\n",
    "host = '127.0.0.1'#'36.231.62.198'\n",
    "port = 5555\n",
    "sock.connect((host, port))\n",
    "sock.setsockopt(socket.IPPROTO_TCP, socket.TCP_NODELAY, 1)"
   ]
  },
  {
   "cell_type": "code",
   "execution_count": 335,
   "metadata": {},
   "outputs": [
    {
     "name": "stdout",
     "output_type": "stream",
     "text": [
      "conversion time elapsed : 0.2614974905663985\n",
      "transmission time elapsed : 0.0008237043548433576\n",
      "conversion time elapsed : 0.2507521981242462\n",
      "transmission time elapsed : 0.001982816382223973\n",
      "conversion time elapsed : 0.285395188460825\n",
      "transmission time elapsed : 0.0016205444899242138\n",
      "conversion time elapsed : 0.479678008634437\n",
      "transmission time elapsed : 0.0009078525690711103\n",
      "conversion time elapsed : 0.2794649121697148\n",
      "transmission time elapsed : 0.0012930380580655765\n",
      "conversion time elapsed : 0.4374818271462573\n",
      "transmission time elapsed : 0.0048592630973871564\n",
      "conversion time elapsed : 0.42636359613970853\n",
      "transmission time elapsed : 0.0026931379306915915\n",
      "conversion time elapsed : 0.568751066668483\n",
      "transmission time elapsed : 0.0012926429972139886\n",
      "conversion time elapsed : 0.5057671156682773\n",
      "transmission time elapsed : 0.001084840363546391\n",
      "conversion time elapsed : 0.4139574628788978\n",
      "transmission time elapsed : 0.0006984696883591823\n",
      "conversion time elapsed : 0.3429501968985278\n",
      "transmission time elapsed : 0.0011907169900950976\n",
      "conversion time elapsed : 0.3292648527531128\n",
      "transmission time elapsed : 0.0011239515060879057\n",
      "conversion time elapsed : 0.3552476880959148\n",
      "transmission time elapsed : 0.0010054328940896085\n",
      "conversion time elapsed : 0.3471828916008235\n",
      "transmission time elapsed : 0.0007439018227159977\n",
      "conversion time elapsed : 0.3410365163745155\n",
      "transmission time elapsed : 0.0013159516565792728\n",
      "conversion time elapsed : 0.37589007477799896\n",
      "transmission time elapsed : 0.0010800996187754208\n",
      "conversion time elapsed : 0.45308085181750357\n",
      "transmission time elapsed : 0.00657383235557063\n",
      "conversion time elapsed : 0.6869737773613451\n",
      "transmission time elapsed : 0.0009517044563835952\n",
      "conversion time elapsed : 0.5336320265723771\n",
      "transmission time elapsed : 0.0009299760440626414\n",
      "conversion time elapsed : 0.4229257662627788\n",
      "transmission time elapsed : 0.003839607970803627\n",
      "conversion time elapsed : 0.42667925070963975\n",
      "transmission time elapsed : 0.0006889881988172419\n",
      "conversion time elapsed : 0.45051097324176226\n",
      "transmission time elapsed : 0.0008877044056134764\n",
      "conversion time elapsed : 0.46429152734162926\n",
      "transmission time elapsed : 0.0017600013889023103\n",
      "conversion time elapsed : 0.5467117406114994\n",
      "transmission time elapsed : 0.0007288894648809219\n",
      "conversion time elapsed : 0.334497449479386\n",
      "transmission time elapsed : 0.0008880994664650643\n",
      "conversion time elapsed : 0.5070822772013344\n",
      "transmission time elapsed : 0.006519313792523462\n",
      "conversion time elapsed : 0.3802401029061002\n",
      "transmission time elapsed : 0.0006463214976974996\n",
      "conversion time elapsed : 0.381038918350896\n",
      "transmission time elapsed : 0.002394471028310363\n",
      "conversion time elapsed : 0.5291532082192134\n",
      "transmission time elapsed : 0.002184693084927858\n",
      "conversion time elapsed : 0.36693836400081636\n",
      "transmission time elapsed : 0.0007841981496312656\n",
      "conversion time elapsed : 0.3552658609496575\n",
      "transmission time elapsed : 0.0014731863484485075\n",
      "conversion time elapsed : 0.3362716731026012\n",
      "transmission time elapsed : 0.0009517044563835952\n",
      "conversion time elapsed : 0.3303907795670966\n",
      "transmission time elapsed : 0.0012420750554156257\n",
      "conversion time elapsed : 0.3655520912998327\n",
      "transmission time elapsed : 0.001569581487274263\n",
      "conversion time elapsed : 0.33320599166836473\n",
      "transmission time elapsed : 0.0007395561387966154\n",
      "conversion time elapsed : 0.310912245658983\n",
      "transmission time elapsed : 0.0006439511253120145\n",
      "conversion time elapsed : 0.3652072021395725\n",
      "transmission time elapsed : 0.001268939275178127\n",
      "conversion time elapsed : 0.3565897138487344\n",
      "transmission time elapsed : 0.0009035068869707175\n",
      "conversion time elapsed : 0.3275629254821979\n",
      "transmission time elapsed : 0.0007838030887796776\n",
      "conversion time elapsed : 0.36027880318397365\n",
      "transmission time elapsed : 0.0019215817646909272\n",
      "conversion time elapsed : 0.3261039613662433\n",
      "transmission time elapsed : 0.0010536304616834968\n",
      "conversion time elapsed : 0.3453814086951752\n",
      "transmission time elapsed : 0.0010307168631698005\n",
      "conversion time elapsed : 0.386907169900951\n",
      "transmission time elapsed : 0.0011077539620600874\n",
      "conversion time elapsed : 0.36628453632329183\n",
      "transmission time elapsed : 0.0035650398531288374\n",
      "conversion time elapsed : 0.37779387875161774\n",
      "transmission time elapsed : 0.0008671611794852652\n",
      "conversion time elapsed : 0.392658483087871\n",
      "transmission time elapsed : 0.001469235729018692\n",
      "conversion time elapsed : 0.3477671883592848\n",
      "transmission time elapsed : 0.0012057293479301734\n",
      "conversion time elapsed : 0.36019346978355316\n",
      "transmission time elapsed : 0.0008944204600993544\n",
      "conversion time elapsed : 0.33516510432673385\n",
      "transmission time elapsed : 0.0007901240824139677\n",
      "conversion time elapsed : 0.32106415491398366\n",
      "transmission time elapsed : 0.0008999513283924898\n",
      "conversion time elapsed : 0.4781795383150893\n"
     ]
    }
   ],
   "source": [
    "while True:\n",
    "    try:\n",
    "        start = time.clock()\n",
    "        sct_img = sct.grab(mon)\n",
    "#         img = ImageGrab.grab((0,0,2000,2000))\n",
    "        imgByteArr = io.BytesIO()\n",
    "        img = Image.frombytes('RGB', sct_img.size, sct_img.rgb)\n",
    "        img.save(imgByteArr, format='JPEG', quality=50)\n",
    "        imgByteArr = imgByteArr.getvalue()\n",
    "#         imgByteArr = mss.tools.to_png(sct_img.rgb, sct_img.size, level=6)\n",
    "        end = time.clock()\n",
    "        print(\"conversion time elapsed : \"+str(end - start))\n",
    "#         compress = zlib.compressobj(zlib.Z_DEFAULT_COMPRESSION, zlib.DEFLATED, 15)\n",
    "#         compressed_data = compress.compress(imgByteArr)  \n",
    "#         compressed_data += compress.flush()\n",
    "        start = time.clock()\n",
    "        packed_size = struct.pack(\"i\", len(imgByteArr))\n",
    "        sock.sendall(packed_size)\n",
    "        sock.sendall(imgByteArr)\n",
    "        end = time.clock()\n",
    "        print(\"transmission time elapsed : \"+str(end - start))\n",
    "    except:\n",
    "        break"
   ]
  },
  {
   "cell_type": "code",
   "execution_count": 141,
   "metadata": {
    "collapsed": true
   },
   "outputs": [],
   "source": [
    "compress = zlib.compressobj(zlib.Z_DEFAULT_COMPRESSION, zlib.DEFLATED, 15)\n",
    "compressed_data = compress.compress(imgByteArr)  \n",
    "compressed_data += compress.flush()"
   ]
  },
  {
   "cell_type": "code",
   "execution_count": 142,
   "metadata": {},
   "outputs": [
    {
     "name": "stdout",
     "output_type": "stream",
     "text": [
      "297608\n",
      "229203\n"
     ]
    }
   ],
   "source": [
    "print(len(imgByteArr))\n",
    "print(len(compressed_data))"
   ]
  },
  {
   "cell_type": "code",
   "execution_count": 11,
   "metadata": {},
   "outputs": [
    {
     "name": "stdout",
     "output_type": "stream",
     "text": [
      "conversion time elapsed : 0.20984865963350785\n",
      "conversion time elapsed : 0.2910615633078919\n",
      "conversion time elapsed : 0.17223638300157518\n",
      "conversion time elapsed : 0.13775457797896706\n",
      "conversion time elapsed : 0.16011034872917662\n",
      "conversion time elapsed : 0.17951026529203773\n",
      "conversion time elapsed : 0.14589167082800714\n",
      "conversion time elapsed : 0.20319304943649286\n",
      "conversion time elapsed : 0.13500178568040155\n",
      "conversion time elapsed : 0.12977906550446505\n",
      "conversion time elapsed : 0.1053745030119444\n",
      "conversion time elapsed : 0.11809036491087\n",
      "conversion time elapsed : 0.126065877385372\n",
      "conversion time elapsed : 0.12941797879938122\n",
      "conversion time elapsed : 0.12556217328369712\n",
      "conversion time elapsed : 0.14261226082942358\n",
      "conversion time elapsed : 0.13124079505445252\n",
      "conversion time elapsed : 0.12294093664473849\n",
      "conversion time elapsed : 0.14753986966115917\n",
      "conversion time elapsed : 0.1470578939716347\n",
      "conversion time elapsed : 0.1545498505084879\n",
      "conversion time elapsed : 0.15840526096218355\n",
      "conversion time elapsed : 0.09922141173046839\n",
      "conversion time elapsed : 0.11072127266868392\n",
      "conversion time elapsed : 0.1244789131685593\n"
     ]
    }
   ],
   "source": [
    "while True:\n",
    "    start = time.clock()\n",
    "    sct_img = sct.grab(mon)\n",
    "    img = np.asarray(sct_img)\n",
    "#     cv2.namedWindow(\"a\", cv2.WINDOW_NORMAL)\n",
    "#     cv2.resizeWindow('a', img.shape[1]//2, img.shape[0]//2)\n",
    "    cv2.imshow('a', img)\n",
    "    end = time.clock()\n",
    "    print(\"conversion time elapsed : \"+str(end - start))\n",
    "    k = cv2.waitKey(30) & 0xff #esc\n",
    "    if k == 27:\n",
    "        break\n",
    "cv2.destroyAllWindows()"
   ]
  },
  {
   "cell_type": "code",
   "execution_count": 31,
   "metadata": {
    "collapsed": true
   },
   "outputs": [],
   "source": [
    "sock.close()"
   ]
  },
  {
   "cell_type": "code",
   "execution_count": 8,
   "metadata": {
    "scrolled": true
   },
   "outputs": [
    {
     "name": "stdout",
     "output_type": "stream",
     "text": [
      "img time elapsed : 0.203741790610799\n",
      "conversion time elapsed : 0.08368204142778524\n",
      "img time elapsed : 0.15007814327162095\n",
      "conversion time elapsed : 0.10412689708791945\n",
      "img time elapsed : 0.14644791818107095\n",
      "conversion time elapsed : 0.09024915772772957\n",
      "img time elapsed : 0.15357009664797872\n",
      "conversion time elapsed : 0.09238288780870363\n",
      "img time elapsed : 0.14702707913250634\n",
      "conversion time elapsed : 0.08746278515578254\n",
      "img time elapsed : 0.14945315512348145\n",
      "conversion time elapsed : 0.08467838789403359\n",
      "img time elapsed : 0.135624403456319\n",
      "conversion time elapsed : 0.08519275867082143\n",
      "img time elapsed : 0.13193689436988976\n",
      "conversion time elapsed : 0.09310901183921771\n",
      "img time elapsed : 0.15547745617971742\n",
      "conversion time elapsed : 0.08877794668875083\n",
      "img time elapsed : 0.19974731831887027\n",
      "conversion time elapsed : 0.10145114188732052\n",
      "img time elapsed : 0.12727516229148605\n",
      "conversion time elapsed : 0.09429261771268571\n",
      "img time elapsed : 0.14861562359752867\n",
      "conversion time elapsed : 0.08997577479567553\n",
      "img time elapsed : 0.1446353735390602\n",
      "conversion time elapsed : 0.09104836823574658\n",
      "img time elapsed : 0.13046568333090747\n",
      "conversion time elapsed : 0.09708333596707774\n",
      "img time elapsed : 0.22132521191127807\n",
      "conversion time elapsed : 0.08838841551677135\n",
      "img time elapsed : 0.2164477759587342\n",
      "conversion time elapsed : 0.08356352281562351\n",
      "img time elapsed : 0.13690361434359488\n",
      "conversion time elapsed : 0.09284471533409899\n",
      "img time elapsed : 0.133182129921682\n",
      "conversion time elapsed : 0.09059246664096321\n",
      "img time elapsed : 0.14213621107058927\n",
      "conversion time elapsed : 0.09223078892309289\n",
      "img time elapsed : 0.14574312750074014\n",
      "conversion time elapsed : 0.0984680284191839\n"
     ]
    }
   ],
   "source": [
    "mon = {'top': 0, 'left': 0, 'width': 2000, 'height': 2000}\n",
    "for _ in range(20):\n",
    "    start = time.clock()\n",
    "    sct_img = sct.grab(mon)\n",
    "    imgByteArr = io.BytesIO()\n",
    "    img = Image.frombytes('RGB', sct_img.size, sct_img.rgb)\n",
    "    print(\"img time elapsed : \"+str(time.clock() - start))\n",
    "    start = time.clock()\n",
    "    img.copy().save(imgByteArr, format='JPEG', quality=10)\n",
    "    imgByteArr2 = imgByteArr.getvalue()\n",
    "    print(\"conversion time elapsed : \"+str(time.clock() - start))"
   ]
  },
  {
   "cell_type": "code",
   "execution_count": 82,
   "metadata": {},
   "outputs": [
    {
     "name": "stdout",
     "output_type": "stream",
     "text": [
      "time elapsed : 0.00047328432447102387\n"
     ]
    }
   ],
   "source": [
    "l = \"\"\n",
    "start = time.clock()\n",
    "for i in range(3):\n",
    "    l += \"1\"*10000\n",
    "print(\"time elapsed : \"+str(time.clock() - start))"
   ]
  },
  {
   "cell_type": "code",
   "execution_count": 83,
   "metadata": {},
   "outputs": [
    {
     "name": "stdout",
     "output_type": "stream",
     "text": [
      "time elapsed : 0.0007893339570728131\n"
     ]
    }
   ],
   "source": [
    "l = []\n",
    "start = time.clock()\n",
    "for i in range(3):\n",
    "    l += [\"1\"*10000]\n",
    "l = ''.join(l)\n",
    "print(\"time elapsed : \"+str(time.clock() - start))"
   ]
  },
  {
   "cell_type": "code",
   "execution_count": null,
   "metadata": {
    "collapsed": true
   },
   "outputs": [],
   "source": []
  }
 ],
 "metadata": {
  "kernelspec": {
   "display_name": "Python 3",
   "language": "python",
   "name": "python3"
  },
  "language_info": {
   "codemirror_mode": {
    "name": "ipython",
    "version": 3
   },
   "file_extension": ".py",
   "mimetype": "text/x-python",
   "name": "python",
   "nbconvert_exporter": "python",
   "pygments_lexer": "ipython3",
   "version": "3.6.1"
  }
 },
 "nbformat": 4,
 "nbformat_minor": 2
}
