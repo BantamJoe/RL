{
 "cells": [
  {
   "cell_type": "code",
   "execution_count": 1,
   "metadata": {
    "collapsed": true
   },
   "outputs": [],
   "source": [
    "import tensorflow as tf\n",
    "import numpy as np"
   ]
  },
  {
   "cell_type": "code",
   "execution_count": 20,
   "metadata": {},
   "outputs": [],
   "source": [
    "size = 4\n",
    "max_seqlen = 3\n",
    "n_input = 2 # x,y coordinate\n",
    "n_hidden = 10\n",
    "\n",
    "tf.reset_default_graph()\n",
    "\n",
    "x = tf.placeholder(tf.float32, [None, max_seqlen, n_input])\n",
    "seqlen = tf.placeholder(tf.int32, [None])\n",
    "\n",
    "# Unstack to get a list of 'max_seqlen' tensors of shape (batch_size, n_input)\n",
    "x_seq = tf.unstack(x, max_seqlen, 1)\n",
    "\n",
    "lstm_cell = tf.contrib.rnn.BasicLSTMCell(n_hidden)\n",
    "\n",
    "outputs, _ = tf.contrib.rnn.static_rnn(lstm_cell, x_seq, dtype=tf.float32)\n",
    "# outputs = tf.stack(outputs)\n",
    "# outputs = tf.transpose(outputs, [1, 0, 2])\n",
    "\n",
    "#We only want the last output for dynamic sequences\n",
    "# batch_size = tf.shape(outputs)[0]\n",
    "# index = tf.range(0, batch_size) * max_seqlen + (seqlen - 1)\n",
    "# outputs2 = tf.gather(tf.reshape(outputs, [-1, n_hidden]), index)\n",
    "\n",
    "# x2 = tf.placeholder(tf.float32, [None, 5])\n",
    "\n",
    "# outputs3 = tf.concat([outputs2, x2], axis=1)\n",
    "# print(outputs3.get_shape())\n",
    "\n",
    "sess = tf.Session()\n",
    "sess.run(tf.global_variables_initializer())"
   ]
  },
  {
   "cell_type": "code",
   "execution_count": 15,
   "metadata": {
    "collapsed": true
   },
   "outputs": [],
   "source": [
    "X = np.random.random((2, max_seqlen, n_input))\n",
    "S = np.array([2, 8])"
   ]
  },
  {
   "cell_type": "code",
   "execution_count": 21,
   "metadata": {},
   "outputs": [],
   "source": [
    "O = sess.run(outputs[-1], {x:X, seqlen:S})\n",
    "# O2 = sess.run(outputs2, {x:X, seqlen:S})"
   ]
  },
  {
   "cell_type": "code",
   "execution_count": 22,
   "metadata": {},
   "outputs": [
    {
     "data": {
      "text/plain": [
       "(2, 10)"
      ]
     },
     "execution_count": 22,
     "metadata": {},
     "output_type": "execute_result"
    }
   ],
   "source": [
    "O.shape"
   ]
  },
  {
   "cell_type": "code",
   "execution_count": 83,
   "metadata": {},
   "outputs": [
    {
     "data": {
      "text/plain": [
       "array([[-0.06139249, -0.0311462 , -0.0378199 , -0.02707916, -0.10405818,\n",
       "        -0.07279634,  0.10412914,  0.04687889,  0.06338149,  0.05348194],\n",
       "       [-0.21307515, -0.0533691 , -0.11397161,  0.05870926, -0.28898498,\n",
       "        -0.07304505,  0.22790647, -0.0004362 ,  0.10146099,  0.19327648]], dtype=float32)"
      ]
     },
     "execution_count": 83,
     "metadata": {},
     "output_type": "execute_result"
    }
   ],
   "source": [
    "O2"
   ]
  },
  {
   "cell_type": "code",
   "execution_count": 73,
   "metadata": {},
   "outputs": [
    {
     "data": {
      "text/plain": [
       "(2, 10)"
      ]
     },
     "execution_count": 73,
     "metadata": {},
     "output_type": "execute_result"
    }
   ],
   "source": [
    "O2.shape"
   ]
  },
  {
   "cell_type": "code",
   "execution_count": 84,
   "metadata": {
    "collapsed": true
   },
   "outputs": [],
   "source": [
    "X2 = np.random.random((2, 5))"
   ]
  },
  {
   "cell_type": "code",
   "execution_count": 85,
   "metadata": {},
   "outputs": [
    {
     "data": {
      "text/plain": [
       "array([[ -6.13924898e-02,  -3.11461966e-02,  -3.78199033e-02,\n",
       "         -2.70791575e-02,  -1.04058176e-01,  -7.27963373e-02,\n",
       "          1.04129136e-01,   4.68788855e-02,   6.33814856e-02,\n",
       "          5.34819365e-02,   7.31625378e-01,   6.80643082e-01,\n",
       "          9.91036773e-01,   1.62072226e-01,   4.71789718e-01],\n",
       "       [ -2.13075146e-01,  -5.33690974e-02,  -1.13971606e-01,\n",
       "          5.87092564e-02,  -2.88984984e-01,  -7.30450451e-02,\n",
       "          2.27906466e-01,  -4.36203089e-04,   1.01460993e-01,\n",
       "          1.93276480e-01,   2.72767283e-02,   7.19966054e-01,\n",
       "          4.69629914e-01,   4.59680974e-01,   1.41933113e-01]], dtype=float32)"
      ]
     },
     "execution_count": 85,
     "metadata": {},
     "output_type": "execute_result"
    }
   ],
   "source": [
    "sess.run(outputs3, {x:X, seqlen:S, x2:X2})"
   ]
  },
  {
   "cell_type": "code",
   "execution_count": null,
   "metadata": {
    "collapsed": true
   },
   "outputs": [],
   "source": []
  }
 ],
 "metadata": {
  "kernelspec": {
   "display_name": "Python 3",
   "language": "python",
   "name": "python3"
  },
  "language_info": {
   "codemirror_mode": {
    "name": "ipython",
    "version": 3
   },
   "file_extension": ".py",
   "mimetype": "text/x-python",
   "name": "python",
   "nbconvert_exporter": "python",
   "pygments_lexer": "ipython3",
   "version": "3.6.1"
  }
 },
 "nbformat": 4,
 "nbformat_minor": 2
}
