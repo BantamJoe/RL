{
 "cells": [
  {
   "cell_type": "code",
   "execution_count": 1,
   "metadata": {},
   "outputs": [
    {
     "name": "stderr",
     "output_type": "stream",
     "text": [
      "Using TensorFlow backend.\n"
     ]
    }
   ],
   "source": [
    "from keras.models import Model\n",
    "from keras.layers import (\n",
    "    Input,\n",
    "    Activation,\n",
    "    Dense,\n",
    "    Flatten\n",
    ")\n",
    "from keras.layers.convolutional import (\n",
    "    Conv2D,\n",
    "    MaxPooling2D,\n",
    "    AveragePooling2D\n",
    ")\n",
    "from keras.layers.merge import add\n",
    "from keras.layers.normalization import BatchNormalization\n",
    "from keras.regularizers import l2\n",
    "from keras import backend as K"
   ]
  },
  {
   "cell_type": "code",
   "execution_count": 22,
   "metadata": {
    "collapsed": true
   },
   "outputs": [],
   "source": [
    "if K.image_dim_ordering() == 'tf':\n",
    "    ROW_AXIS = 1\n",
    "    COL_AXIS = 2\n",
    "    CHANNEL_AXIS = 3\n",
    "input_shape = (32,32,3)\n",
    "output_shape = 100"
   ]
  },
  {
   "cell_type": "code",
   "execution_count": 32,
   "metadata": {
    "collapsed": true
   },
   "outputs": [],
   "source": [
    "def _conv_bn_relu(filters, kernel_size=(3,3), strides=(1, 1)):\n",
    "    \"\"\"\n",
    "    conv -> BN -> relu\n",
    "    \"\"\"\n",
    "    def f(inputs):\n",
    "        conv = Conv2D(filters=filters, kernel_size=kernel_size, strides=strides,\n",
    "                      padding='same', kernel_initializer=\"he_normal\", kernel_regularizer=l2(1e-4))(inputs)\n",
    "        norm = BatchNormalization(axis=CHANNEL_AXIS)(conv)\n",
    "        return Activation(\"relu\")(norm)\n",
    "    return f\n",
    "\n",
    "def _bn_relu_conv(filters, kernel_size=(3,3), strides=(1, 1)):\n",
    "    \"\"\"\n",
    "    BN -> relu -> conv\n",
    "    \"\"\"\n",
    "    def f(inputs):\n",
    "        norm = BatchNormalization(mode=0, axis=CHANNEL_AXIS)(inputs)\n",
    "        activation = Activation(\"relu\")(norm)\n",
    "        return Conv2D(filters=filters, kernel_size=kernel_size, strides=strides,\n",
    "                      padding='same', kernel_initializer=\"he_normal\", kernel_regularizer=l2(1e-4))(activation)\n",
    "    return f\n",
    "\n",
    "def _basic_block(filters, init_strides=(1, 1), is_first_block_of_first_layer=False):\n",
    "    \"\"\"\n",
    "    basic residual block : 3*3 kernel\n",
    "    \"\"\"\n",
    "    def f(inputs):\n",
    "        if is_first_block_of_first_layer:\n",
    "            # don't repeat bn->relu since we just did bn->relu->maxpool\n",
    "            conv1 = Conv2D(filters=filters, kernel_size=(3, 3),\n",
    "                           strides=init_strides,\n",
    "                           padding=\"same\",\n",
    "                           kernel_initializer=\"he_normal\",\n",
    "                           kernel_regularizer=l2(1e-4))(inputs)\n",
    "        else:\n",
    "            conv1 = _bn_relu_conv(filters, (3, 3), strides=init_strides)(inputs)\n",
    "        residual = _bn_relu_conv(filters, (3, 3))(conv1)\n",
    "        return _shortcut(inputs, residual)\n",
    "    return f\n",
    "\n",
    "def bottleneck(filters, init_strides=(1, 1), is_first_block_of_first_layer=False):\n",
    "    \"\"\"\n",
    "    bottleneck : 1*1 filters -> 3*3 filters -> 1*1 4*filters\n",
    "    \"\"\"\n",
    "    def f(inputs):\n",
    "        if is_first_block_of_first_layer:\n",
    "            # don't repeat bn->relu since we just did bn->relu->maxpool\n",
    "            conv_1_1 = Conv2D(filters=filters, kernel_size=(1, 1),\n",
    "                              strides=init_strides,\n",
    "                              padding=\"same\",\n",
    "                              kernel_initializer=\"he_normal\",\n",
    "                              kernel_regularizer=l2(1e-4))(inputs)\n",
    "        else:\n",
    "            conv_1_1 = _bn_relu_conv(filters=filters, kernel_size=(1, 1),\n",
    "                                     strides=init_strides)(inputs)\n",
    "\n",
    "        conv_3_3 = _bn_relu_conv(filters=filters, kernel_size=(3, 3))(conv_1_1)\n",
    "        residual = _bn_relu_conv(filters=filters * 4, kernel_size=(1, 1))(conv_3_3)\n",
    "        return _shortcut(inputs, residual)\n",
    "    return f\n",
    "\n",
    "def _shortcut(inputs, residual):\n",
    "    input_shape = K.int_shape(inputs)\n",
    "    residual_shape = K.int_shape(residual)\n",
    "    stride_width = int(round(input_shape[ROW_AXIS] / residual_shape[ROW_AXIS]))\n",
    "    stride_height = int(round(input_shape[COL_AXIS] / residual_shape[COL_AXIS]))\n",
    "    equal_channels = residual._keras_shape[CHANNEL_AXIS] == inputs._keras_shape[CHANNEL_AXIS]\n",
    "\n",
    "    shortcut = inputs\n",
    "    if stride_width > 1 or stride_height > 1 or not equal_channels:\n",
    "        shortcut = Conv2D(filters=residual._keras_shape[CHANNEL_AXIS], kernel_size=(1, 1), strides=(stride_width, stride_height),\n",
    "                          padding=\"valid\", kernel_initializer=\"he_normal\")(inputs)\n",
    "\n",
    "    return add([shortcut, residual])\n",
    "\n",
    "def _residual_block(block_function, filters, repetitions, is_first_layer=False):\n",
    "    def f(inputs):\n",
    "        for i in range(repetitions):\n",
    "            init_strides = (1, 1)\n",
    "            if i == 0 and not is_first_layer:\n",
    "                init_strides = (2, 2)\n",
    "            inputs = block_function(filters=filters, init_strides=init_strides,\n",
    "                                    is_first_block_of_first_layer=(is_first_layer and i == 0))(inputs)\n",
    "        return inputs\n",
    "    return f"
   ]
  },
  {
   "cell_type": "code",
   "execution_count": 33,
   "metadata": {},
   "outputs": [
    {
     "name": "stderr",
     "output_type": "stream",
     "text": [
      "C:\\Users\\kwea123\\Anaconda3\\lib\\site-packages\\ipykernel_launcher.py:17: UserWarning: Update your `BatchNormalization` call to the Keras 2 API: `BatchNormalization(axis=3)`\n"
     ]
    }
   ],
   "source": [
    "inputs = Input(shape=input_shape)\n",
    "conv1 = _conv_bn_relu(64, (7, 7), (2, 2))(inputs)\n",
    "pool1 = MaxPooling2D(pool_size=(3, 3), strides=(2, 2), padding=\"same\")(conv1)\n",
    "\n",
    "# Residual blocks\n",
    "block_fn = _basic_block\n",
    "block1 = _residual_block(block_fn, filters=64, repetitions=2, is_first_layer=True)(pool1)\n",
    "block2 = _residual_block(block_fn, filters=128, repetitions=2)(block1)\n",
    "block3 = _residual_block(block_fn, filters=256, repetitions=2)(block2)\n",
    "block4 = _residual_block(block_fn, filters=512, repetitions=2)(block3)\n",
    "\n",
    "# Classifier block\n",
    "pool2 = AveragePooling2D(pool_size=(7, 7), strides=(1, 1), padding=\"same\")(block4)\n",
    "flatten1 = Flatten()(pool2)\n",
    "dense = Dense(units=output_shape, kernel_initializer=\"he_normal\", activation=\"softmax\")(flatten1)\n",
    "\n",
    "model = Model(inputs=inputs, outputs=dense)"
   ]
  },
  {
   "cell_type": "code",
   "execution_count": null,
   "metadata": {
    "collapsed": true
   },
   "outputs": [],
   "source": []
  }
 ],
 "metadata": {
  "kernelspec": {
   "display_name": "Python 3",
   "language": "python",
   "name": "python3"
  },
  "language_info": {
   "codemirror_mode": {
    "name": "ipython",
    "version": 3
   },
   "file_extension": ".py",
   "mimetype": "text/x-python",
   "name": "python",
   "nbconvert_exporter": "python",
   "pygments_lexer": "ipython3",
   "version": "3.6.1"
  }
 },
 "nbformat": 4,
 "nbformat_minor": 2
}
