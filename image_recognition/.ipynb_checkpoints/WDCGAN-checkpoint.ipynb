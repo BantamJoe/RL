{
 "cells": [
  {
   "cell_type": "code",
   "execution_count": 1,
   "metadata": {},
   "outputs": [
    {
     "name": "stderr",
     "output_type": "stream",
     "text": [
      "Using TensorFlow backend.\n"
     ]
    }
   ],
   "source": [
    "import numpy as np\n",
    "import keras.backend as K\n",
    "import matplotlib.pyplot as plt\n",
    "\n",
    "from keras.layers.convolutional import Conv2D, Conv2DTranspose\n",
    "from keras.layers.normalization import BatchNormalization\n",
    "from keras.layers.core import Dense, Reshape, Flatten, Activation\n",
    "from keras.layers import Input\n",
    "from keras.models import Model\n",
    "from keras.optimizers import Adam\n",
    "\n",
    "from keras.datasets import mnist"
   ]
  },
  {
   "cell_type": "code",
   "execution_count": 6,
   "metadata": {},
   "outputs": [
    {
     "data": {
      "image/png": "[encoded data removed]",
      "text/plain": [
       "<matplotlib.figure.Figure at 0x245049747b8>"
      ]
     },
     "metadata": {},
     "output_type": "display_data"
    }
   ],
   "source": [
    "(X_train, Y_train), (X_test, Y_test) = mnist.load_data()\n",
    "X_train = X_train.astype(np.float32)\n",
    "X_test = X_test.astype(np.float32)\n",
    "X_train /= 255\n",
    "X_test /= 255\n",
    "plt.imshow(X_train[0], 'gray')\n",
    "plt.show()"
   ]
  },
  {
   "cell_type": "code",
   "execution_count": 7,
   "metadata": {
    "collapsed": true
   },
   "outputs": [],
   "source": [
    "X_train = X_train.reshape((-1,28,28,1))\n",
    "X_test = X_test.reshape((-1,28,28,1))"
   ]
  },
  {
   "cell_type": "code",
   "execution_count": 9,
   "metadata": {
    "collapsed": true
   },
   "outputs": [],
   "source": [
    "def generator_model(input_shape, train=True):\n",
    "    inputs = Input(shape=(input_shape,))\n",
    "    model = Dense(units=128*7*7)(inputs)\n",
    "    model = Reshape((7, 7, 128), input_shape=(128*7*7,))(model)\n",
    "    model = BatchNormalization()(model, training=train)\n",
    "    model = Activation('relu')(model)\n",
    "\n",
    "    model = Conv2DTranspose(64, (5, 5), strides=(2, 2), padding='same')(model)\n",
    "    model = BatchNormalization()(model, training=train)\n",
    "    model = Activation('relu')(model)\n",
    "    model = Conv2DTranspose(1, (5, 5), strides=(2, 2), padding='same')(model)\n",
    "    model = Activation('sigmoid')(model)\n",
    "    \n",
    "    return Model(inputs=inputs, outputs=model)\n",
    "\n",
    "def discriminator_model(n_rows, n_cols, channels, train=True):\n",
    "    inputs = Input(shape=(n_rows, n_cols, channels))\n",
    "    model = Conv2D(64, (5, 5), strides=(2, 2), padding='same')(inputs)\n",
    "    model = BatchNormalization()(model, training=train)\n",
    "    model = Activation('relu')(model)\n",
    "    model = Conv2D(128, (5, 5), strides=(2, 2), padding='same')(model)\n",
    "    model = BatchNormalization()(model, training=train)\n",
    "    model = Activation('relu')(model)\n",
    "    model = Flatten()(model)\n",
    "    model = Dense(1)(model)\n",
    "    \n",
    "    return Model(inputs=inputs, outputs=model)"
   ]
  },
  {
   "cell_type": "code",
   "execution_count": 10,
   "metadata": {},
   "outputs": [
    {
     "name": "stdout",
     "output_type": "stream",
     "text": [
      "_________________________________________________________________\n",
      "Layer (type)                 Output Shape              Param #   \n",
      "=================================================================\n",
      "input_1 (InputLayer)         (None, 100)               0         \n",
      "_________________________________________________________________\n",
      "dense_1 (Dense)              (None, 6272)              633472    \n",
      "_________________________________________________________________\n",
      "reshape_1 (Reshape)          (None, 7, 7, 128)         0         \n",
      "_________________________________________________________________\n",
      "batch_normalization_1 (Batch (None, 7, 7, 128)         512       \n",
      "_________________________________________________________________\n",
      "activation_1 (Activation)    (None, 7, 7, 128)         0         \n",
      "_________________________________________________________________\n",
      "conv2d_transpose_1 (Conv2DTr (None, 14, 14, 64)        204864    \n",
      "_________________________________________________________________\n",
      "batch_normalization_2 (Batch (None, 14, 14, 64)        256       \n",
      "_________________________________________________________________\n",
      "activation_2 (Activation)    (None, 14, 14, 64)        0         \n",
      "_________________________________________________________________\n",
      "conv2d_transpose_2 (Conv2DTr (None, 28, 28, 1)         1601      \n",
      "_________________________________________________________________\n",
      "activation_3 (Activation)    (None, 28, 28, 1)         0         \n",
      "=================================================================\n",
      "Total params: 840,705\n",
      "Trainable params: 840,321\n",
      "Non-trainable params: 384\n",
      "_________________________________________________________________\n",
      "_________________________________________________________________\n",
      "Layer (type)                 Output Shape              Param #   \n",
      "=================================================================\n",
      "input_2 (InputLayer)         (None, 28, 28, 1)         0         \n",
      "_________________________________________________________________\n",
      "conv2d_1 (Conv2D)            (None, 14, 14, 64)        1664      \n",
      "_________________________________________________________________\n",
      "batch_normalization_3 (Batch (None, 14, 14, 64)        256       \n",
      "_________________________________________________________________\n",
      "activation_4 (Activation)    (None, 14, 14, 64)        0         \n",
      "_________________________________________________________________\n",
      "conv2d_2 (Conv2D)            (None, 7, 7, 128)         204928    \n",
      "_________________________________________________________________\n",
      "batch_normalization_4 (Batch (None, 7, 7, 128)         512       \n",
      "_________________________________________________________________\n",
      "activation_5 (Activation)    (None, 7, 7, 128)         0         \n",
      "_________________________________________________________________\n",
      "flatten_1 (Flatten)          (None, 6272)              0         \n",
      "_________________________________________________________________\n",
      "dense_2 (Dense)              (None, 1)                 6273      \n",
      "=================================================================\n",
      "Total params: 213,633\n",
      "Trainable params: 213,249\n",
      "Non-trainable params: 384\n",
      "_________________________________________________________________\n"
     ]
    }
   ],
   "source": [
    "# Train models\n",
    "g = generator_model(100, train=True)\n",
    "g.summary()\n",
    "d = discriminator_model(28,28,1, train=True)\n",
    "d.summary()"
   ]
  },
  {
   "cell_type": "code",
   "execution_count": 11,
   "metadata": {
    "scrolled": true
   },
   "outputs": [
    {
     "name": "stdout",
     "output_type": "stream",
     "text": [
      "99\n",
      "199\n",
      "299\n",
      "399\n",
      "499\n",
      "599\n",
      "699\n",
      "799\n",
      "899\n"
     ]
    }
   ],
   "source": [
    "X_g = Input(shape=(100,))\n",
    "X_d = Input(shape=(28, 28, 1))\n",
    "\n",
    "d_real = d(X_d)\n",
    "d_fake = d(g(X_g))\n",
    "\n",
    "loss_d = K.mean(d_fake) - K.mean(d_real)\n",
    "loss_g = -K.mean(d_fake)\n",
    "\n",
    "opt_d = Adam(lr=5*lr).get_updates(loss=loss_d, params=d.trainable_weights, constraints=[])\n",
    "train_d = K.function([X_d, X_g], [loss_d], opt_d)\n",
    "opt_g = Adam(lr=lr).get_updates(loss=loss_g, params=g.trainable_weights, constraints=[])\n",
    "train_g = K.function([X_g], [loss_g], opt_g)"
   ]
  },
  {
   "cell_type": "code",
   "execution_count": 40,
   "metadata": {},
   "outputs": [
    {
     "name": "stdout",
     "output_type": "stream",
     "text": [
      "99\n",
      "199\n",
      "299\n",
      "399\n",
      "499\n",
      "599\n",
      "699\n",
      "799\n",
      "899\n"
     ]
    }
   ],
   "source": [
    "#Train\n",
    "batch_size = 64\n",
    "epochs = 1\n",
    "lr = 1e-4\n",
    "\n",
    "# g_losses = []\n",
    "# d_losses = []\n",
    "for ep in range(epochs):\n",
    "    for l in range(X_train.shape[0]//batch_size):\n",
    "        if (l+1)%100==0:\n",
    "            print(l)\n",
    "        noise_input = np.random.rand(batch_size, 100)\n",
    "        start = l * batch_size\n",
    "        end = (l + 1) * batch_size\n",
    "#         d.trainable = True\n",
    "        dLoss = train_d([X_train[start:end], noise_input])\n",
    "#         d.trainable = False\n",
    "        gLoss = train_g([noise_input])\n",
    "        g_losses += [gLoss]\n",
    "        d_losses += [dLoss]"
   ]
  },
  {
   "cell_type": "code",
   "execution_count": 41,
   "metadata": {},
   "outputs": [
    {
     "data": {
      "image/png": "[encoded data removed]",
      "text/plain": [
       "<matplotlib.figure.Figure at 0x2452357b5c0>"
      ]
     },
     "metadata": {},
     "output_type": "display_data"
    }
   ],
   "source": [
    "plt.plot(d_losses, label='d')\n",
    "plt.plot(g_losses, label='g')\n",
    "plt.legend()\n",
    "plt.show()"
   ]
  },
  {
   "cell_type": "code",
   "execution_count": 42,
   "metadata": {},
   "outputs": [
    {
     "data": {
      "image/png": "[encoded data removed]",
      "text/plain": [
       "<matplotlib.figure.Figure at 0x24523bc6ba8>"
      ]
     },
     "metadata": {},
     "output_type": "display_data"
    }
   ],
   "source": [
    "noise_input = np.random.rand(20, 100)\n",
    "fake_images = g.predict(noise_input)\n",
    "\n",
    "plt.figure(figsize=(10,10))\n",
    "for i in range(16):\n",
    "    plt.subplot(4, 4, i+1)\n",
    "    plt.imshow(fake_images[i, :, :, 0], cmap='gray')\n",
    "    plt.axis('off')\n",
    "plt.show()"
   ]
  },
  {
   "cell_type": "code",
   "execution_count": null,
   "metadata": {
    "collapsed": true
   },
   "outputs": [],
   "source": []
  }
 ],
 "metadata": {
  "kernelspec": {
   "display_name": "Python 3",
   "language": "python",
   "name": "python3"
  },
  "language_info": {
   "codemirror_mode": {
    "name": "ipython",
    "version": 3
   },
   "file_extension": ".py",
   "mimetype": "text/x-python",
   "name": "python",
   "nbconvert_exporter": "python",
   "pygments_lexer": "ipython3",
   "version": "3.6.1"
  }
 },
 "nbformat": 4,
 "nbformat_minor": 2
}
