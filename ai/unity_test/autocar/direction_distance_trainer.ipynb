{
 "cells": [
  {
   "cell_type": "code",
   "execution_count": 1,
   "metadata": {},
   "outputs": [
    {
     "name": "stderr",
     "output_type": "stream",
     "text": [
      "Using TensorFlow backend.\n"
     ]
    }
   ],
   "source": [
    "from keras.models import Sequential\n",
    "from keras.layers import Dense, Activation\n",
    "\n",
    "from sklearn.model_selection import train_test_split\n",
    "import matplotlib.pyplot as plt\n",
    "%matplotlib inline\n",
    "\n",
    "import seaborn as sns"
   ]
  },
  {
   "cell_type": "markdown",
   "metadata": {},
   "source": [
    "# Distance trainer"
   ]
  },
  {
   "cell_type": "code",
   "execution_count": 2,
   "metadata": {
    "collapsed": true
   },
   "outputs": [],
   "source": [
    "import pickle\n",
    "\n",
    "with open('bounding_box_coordinates.pickle', 'rb') as handle:\n",
    "    X = pickle.load(handle)\n",
    "    \n",
    "with open('distances.pickle', 'rb') as handle:\n",
    "    y = pickle.load(handle)"
   ]
  },
  {
   "cell_type": "code",
   "execution_count": 3,
   "metadata": {
    "collapsed": true
   },
   "outputs": [],
   "source": [
    "X_train, X_test, y_train, y_test = train_test_split(X, y, test_size=0.1)"
   ]
  },
  {
   "cell_type": "code",
   "execution_count": 4,
   "metadata": {
    "collapsed": true
   },
   "outputs": [],
   "source": [
    "model_distance = Sequential()\n",
    "model_distance.add(Dense(32, input_dim=4, activation='relu'))\n",
    "model_distance.add(Dense(32, activation='relu'))\n",
    "model_distance.add(Dense(1))\n",
    "\n",
    "model_distance.compile(optimizer='adam',\n",
    "                       loss='mse')"
   ]
  },
  {
   "cell_type": "code",
   "execution_count": 5,
   "metadata": {
    "scrolled": true
   },
   "outputs": [
    {
     "name": "stdout",
     "output_type": "stream",
     "text": [
      "Train on 3381 samples, validate on 376 samples\n",
      "Epoch 1/100\n",
      "3381/3381 [==============================] - 2s - loss: 40.4920 - val_loss: 20.5205\n",
      "Epoch 2/100\n",
      "3381/3381 [==============================] - 0s - loss: 5.4221 - val_loss: 2.5454\n",
      "Epoch 3/100\n",
      "3381/3381 [==============================] - 0s - loss: 2.4158 - val_loss: 2.5323\n",
      "Epoch 4/100\n",
      "3381/3381 [==============================] - 0s - loss: 2.4038 - val_loss: 2.5166\n",
      "Epoch 5/100\n",
      "3381/3381 [==============================] - 0s - loss: 2.3905 - val_loss: 2.4973\n",
      "Epoch 6/100\n",
      "3381/3381 [==============================] - 0s - loss: 2.3788 - val_loss: 2.5282\n",
      "Epoch 7/100\n",
      "3381/3381 [==============================] - 0s - loss: 2.3665 - val_loss: 2.5324\n",
      "Epoch 8/100\n",
      "3381/3381 [==============================] - 0s - loss: 2.3498 - val_loss: 2.4416\n",
      "Epoch 9/100\n",
      "3381/3381 [==============================] - 0s - loss: 2.3287 - val_loss: 2.4324\n",
      "Epoch 10/100\n",
      "3381/3381 [==============================] - 0s - loss: 2.3123 - val_loss: 2.4391\n",
      "Epoch 11/100\n",
      "3381/3381 [==============================] - 0s - loss: 2.2935 - val_loss: 2.4116\n",
      "Epoch 12/100\n",
      "3381/3381 [==============================] - 0s - loss: 2.2731 - val_loss: 2.3819\n",
      "Epoch 13/100\n",
      "3381/3381 [==============================] - 0s - loss: 2.2512 - val_loss: 2.3538\n",
      "Epoch 14/100\n",
      "3381/3381 [==============================] - 0s - loss: 2.2296 - val_loss: 2.3292\n",
      "Epoch 15/100\n",
      "3381/3381 [==============================] - 0s - loss: 2.2107 - val_loss: 2.3226\n",
      "Epoch 16/100\n",
      "3381/3381 [==============================] - 0s - loss: 2.1786 - val_loss: 2.2665\n",
      "Epoch 17/100\n",
      "3381/3381 [==============================] - 0s - loss: 2.1565 - val_loss: 2.2464\n",
      "Epoch 18/100\n",
      "3381/3381 [==============================] - 0s - loss: 2.1212 - val_loss: 2.2032\n",
      "Epoch 19/100\n",
      "3381/3381 [==============================] - 0s - loss: 2.1002 - val_loss: 2.2147\n",
      "Epoch 20/100\n",
      "3381/3381 [==============================] - 0s - loss: 2.0604 - val_loss: 2.1484\n",
      "Epoch 21/100\n",
      "3381/3381 [==============================] - 0s - loss: 2.0270 - val_loss: 2.0992\n",
      "Epoch 22/100\n",
      "3381/3381 [==============================] - 0s - loss: 1.9866 - val_loss: 2.1576\n",
      "Epoch 23/100\n",
      "3381/3381 [==============================] - 0s - loss: 1.9403 - val_loss: 2.0460\n",
      "Epoch 24/100\n",
      "3381/3381 [==============================] - 0s - loss: 1.8846 - val_loss: 2.0226\n",
      "Epoch 25/100\n",
      "3381/3381 [==============================] - 0s - loss: 1.8358 - val_loss: 1.9194\n",
      "Epoch 26/100\n",
      "3381/3381 [==============================] - 0s - loss: 1.7605 - val_loss: 1.8133\n",
      "Epoch 27/100\n",
      "3381/3381 [==============================] - 0s - loss: 1.6862 - val_loss: 1.7233\n",
      "Epoch 28/100\n",
      "3381/3381 [==============================] - 0s - loss: 1.5971 - val_loss: 1.6926\n",
      "Epoch 29/100\n",
      "3381/3381 [==============================] - 0s - loss: 1.4865 - val_loss: 1.5174\n",
      "Epoch 30/100\n",
      "3381/3381 [==============================] - 0s - loss: 1.3586 - val_loss: 1.3676\n",
      "Epoch 31/100\n",
      "3381/3381 [==============================] - 0s - loss: 1.2193 - val_loss: 1.1892\n",
      "Epoch 32/100\n",
      "3381/3381 [==============================] - 0s - loss: 1.0104 - val_loss: 0.9524\n",
      "Epoch 33/100\n",
      "3381/3381 [==============================] - 0s - loss: 0.7843 - val_loss: 0.7361\n",
      "Epoch 34/100\n",
      "3381/3381 [==============================] - 0s - loss: 0.5567 - val_loss: 0.5280\n",
      "Epoch 35/100\n",
      "3381/3381 [==============================] - 0s - loss: 0.3992 - val_loss: 0.4226\n",
      "Epoch 36/100\n",
      "3381/3381 [==============================] - 0s - loss: 0.3217 - val_loss: 0.3580\n",
      "Epoch 37/100\n",
      "3381/3381 [==============================] - 0s - loss: 0.2840 - val_loss: 0.3550\n",
      "Epoch 38/100\n",
      "3381/3381 [==============================] - 0s - loss: 0.2739 - val_loss: 0.3427\n",
      "Epoch 39/100\n",
      "3381/3381 [==============================] - 0s - loss: 0.2587 - val_loss: 0.3141\n",
      "Epoch 40/100\n",
      "3381/3381 [==============================] - 0s - loss: 0.2530 - val_loss: 0.3125\n",
      "Epoch 41/100\n",
      "3381/3381 [==============================] - 0s - loss: 0.2533 - val_loss: 0.3056\n",
      "Epoch 42/100\n",
      "3381/3381 [==============================] - 0s - loss: 0.2474 - val_loss: 0.3024\n",
      "Epoch 43/100\n",
      "3381/3381 [==============================] - 0s - loss: 0.2401 - val_loss: 0.3084\n",
      "Epoch 44/100\n",
      "3381/3381 [==============================] - 0s - loss: 0.2377 - val_loss: 0.2984\n",
      "Epoch 45/100\n",
      "3381/3381 [==============================] - 0s - loss: 0.2334 - val_loss: 0.3015\n",
      "Epoch 46/100\n",
      "3381/3381 [==============================] - 0s - loss: 0.2319 - val_loss: 0.2872\n",
      "Epoch 47/100\n",
      "3381/3381 [==============================] - 0s - loss: 0.2321 - val_loss: 0.2868\n",
      "Epoch 48/100\n",
      "3381/3381 [==============================] - 0s - loss: 0.2238 - val_loss: 0.2843\n",
      "Epoch 49/100\n",
      "3381/3381 [==============================] - 0s - loss: 0.2295 - val_loss: 0.2856\n",
      "Epoch 50/100\n",
      "3381/3381 [==============================] - 0s - loss: 0.2274 - val_loss: 0.2894\n",
      "Epoch 51/100\n",
      "3381/3381 [==============================] - 0s - loss: 0.2273 - val_loss: 0.2833\n",
      "Epoch 52/100\n",
      "3381/3381 [==============================] - 0s - loss: 0.2212 - val_loss: 0.2973\n",
      "Epoch 53/100\n",
      "3381/3381 [==============================] - 0s - loss: 0.2260 - val_loss: 0.2990\n",
      "Epoch 54/100\n",
      "3381/3381 [==============================] - 0s - loss: 0.2259 - val_loss: 0.2863\n",
      "Epoch 55/100\n",
      "3381/3381 [==============================] - 0s - loss: 0.2200 - val_loss: 0.2856\n",
      "Epoch 56/100\n",
      "3381/3381 [==============================] - 0s - loss: 0.2176 - val_loss: 0.2805\n",
      "Epoch 57/100\n",
      "3381/3381 [==============================] - 0s - loss: 0.2211 - val_loss: 0.2810\n",
      "Epoch 58/100\n",
      "3381/3381 [==============================] - 0s - loss: 0.2205 - val_loss: 0.2795\n",
      "Epoch 59/100\n",
      "3381/3381 [==============================] - 0s - loss: 0.2214 - val_loss: 0.3053\n",
      "Epoch 60/100\n",
      "3381/3381 [==============================] - 0s - loss: 0.2193 - val_loss: 0.2856\n",
      "Epoch 61/100\n",
      "3381/3381 [==============================] - 0s - loss: 0.2140 - val_loss: 0.2848\n",
      "Epoch 62/100\n",
      "3381/3381 [==============================] - 0s - loss: 0.2132 - val_loss: 0.2832\n",
      "Epoch 63/100\n",
      "3381/3381 [==============================] - 0s - loss: 0.2153 - val_loss: 0.2833\n",
      "Epoch 64/100\n",
      "3381/3381 [==============================] - 0s - loss: 0.2189 - val_loss: 0.2859\n",
      "Epoch 65/100\n",
      "3381/3381 [==============================] - 0s - loss: 0.2127 - val_loss: 0.2780\n",
      "Epoch 66/100\n",
      "3381/3381 [==============================] - 0s - loss: 0.2170 - val_loss: 0.2848\n",
      "Epoch 67/100\n",
      "3381/3381 [==============================] - 0s - loss: 0.2107 - val_loss: 0.2752\n",
      "Epoch 68/100\n",
      "3381/3381 [==============================] - 0s - loss: 0.2101 - val_loss: 0.2952\n",
      "Epoch 69/100\n",
      "3381/3381 [==============================] - 0s - loss: 0.2156 - val_loss: 0.3104\n",
      "Epoch 70/100\n",
      "3381/3381 [==============================] - 0s - loss: 0.2151 - val_loss: 0.2735\n",
      "Epoch 71/100\n",
      "3381/3381 [==============================] - 0s - loss: 0.2124 - val_loss: 0.2738\n",
      "Epoch 72/100\n",
      "3381/3381 [==============================] - 0s - loss: 0.2090 - val_loss: 0.2838\n",
      "Epoch 73/100\n",
      "3381/3381 [==============================] - 0s - loss: 0.2114 - val_loss: 0.2860\n",
      "Epoch 74/100\n",
      "3381/3381 [==============================] - 0s - loss: 0.2128 - val_loss: 0.2723\n",
      "Epoch 75/100\n",
      "3381/3381 [==============================] - 0s - loss: 0.2091 - val_loss: 0.2719\n",
      "Epoch 76/100\n",
      "3381/3381 [==============================] - 0s - loss: 0.2046 - val_loss: 0.2929\n",
      "Epoch 77/100\n",
      "3381/3381 [==============================] - 0s - loss: 0.2086 - val_loss: 0.2893\n",
      "Epoch 78/100\n",
      "3381/3381 [==============================] - 0s - loss: 0.2051 - val_loss: 0.2708\n",
      "Epoch 79/100\n",
      "3381/3381 [==============================] - 0s - loss: 0.2098 - val_loss: 0.2754\n",
      "Epoch 80/100\n",
      "3381/3381 [==============================] - 0s - loss: 0.2044 - val_loss: 0.2708\n",
      "Epoch 81/100\n",
      "3381/3381 [==============================] - 0s - loss: 0.2041 - val_loss: 0.2691\n",
      "Epoch 82/100\n",
      "3381/3381 [==============================] - 0s - loss: 0.2048 - val_loss: 0.2783\n",
      "Epoch 83/100\n",
      "3381/3381 [==============================] - 0s - loss: 0.2014 - val_loss: 0.2769\n",
      "Epoch 84/100\n",
      "3381/3381 [==============================] - 0s - loss: 0.2010 - val_loss: 0.2680\n",
      "Epoch 85/100\n",
      "3381/3381 [==============================] - 0s - loss: 0.1997 - val_loss: 0.2725\n",
      "Epoch 86/100\n",
      "3381/3381 [==============================] - 0s - loss: 0.2009 - val_loss: 0.2979\n",
      "Epoch 87/100\n",
      "3381/3381 [==============================] - 0s - loss: 0.2072 - val_loss: 0.2680\n",
      "Epoch 88/100\n",
      "3381/3381 [==============================] - 0s - loss: 0.2068 - val_loss: 0.2656\n",
      "Epoch 89/100\n",
      "3381/3381 [==============================] - 0s - loss: 0.2009 - val_loss: 0.2654\n",
      "Epoch 90/100\n",
      "3381/3381 [==============================] - 0s - loss: 0.2046 - val_loss: 0.2660\n",
      "Epoch 91/100\n",
      "3381/3381 [==============================] - 0s - loss: 0.2003 - val_loss: 0.2854\n",
      "Epoch 92/100\n",
      "3381/3381 [==============================] - 0s - loss: 0.2005 - val_loss: 0.2657\n",
      "Epoch 93/100\n",
      "3381/3381 [==============================] - 0s - loss: 0.1959 - val_loss: 0.2673\n",
      "Epoch 94/100\n",
      "3381/3381 [==============================] - 0s - loss: 0.2029 - val_loss: 0.2633ss: \n",
      "Epoch 95/100\n",
      "3381/3381 [==============================] - 0s - loss: 0.1991 - val_loss: 0.2751\n",
      "Epoch 96/100\n",
      "3381/3381 [==============================] - 0s - loss: 0.1980 - val_loss: 0.2904\n",
      "Epoch 97/100\n",
      "3381/3381 [==============================] - 0s - loss: 0.1955 - val_loss: 0.2655\n",
      "Epoch 98/100\n",
      "3381/3381 [==============================] - 0s - loss: 0.1980 - val_loss: 0.2759\n",
      "Epoch 99/100\n",
      "3381/3381 [==============================] - 0s - loss: 0.1979 - val_loss: 0.2640\n",
      "Epoch 100/100\n",
      "3381/3381 [==============================] - 0s - loss: 0.1938 - val_loss: 0.2613\n"
     ]
    },
    {
     "data": {
      "text/plain": [
       "<keras.callbacks.History at 0x7f34214f7eb8>"
      ]
     },
     "execution_count": 5,
     "metadata": {},
     "output_type": "execute_result"
    }
   ],
   "source": [
    "model_distance.fit(X_train, y_train, epochs=100, batch_size=32, validation_data=(X_test, y_test))"
   ]
  },
  {
   "cell_type": "code",
   "execution_count": 6,
   "metadata": {},
   "outputs": [
    {
     "data": {
      "text/plain": [
       "<seaborn.axisgrid.JointGrid at 0x7f3420ff3978>"
      ]
     },
     "execution_count": 6,
     "metadata": {},
     "output_type": "execute_result"
    },
    {
     "data": {
      "image/png": "[encoded data removed]",
      "text/plain": [
       "<matplotlib.figure.Figure at 0x7f3420ff3940>"
      ]
     },
     "metadata": {},
     "output_type": "display_data"
    }
   ],
   "source": [
    "import seaborn as sns\n",
    "sns.jointplot(model_distance.predict(X_test), y_test)"
   ]
  },
  {
   "cell_type": "code",
   "execution_count": 7,
   "metadata": {
    "collapsed": true
   },
   "outputs": [],
   "source": [
    "model_distance.save('model/model_distance.h5')"
   ]
  },
  {
   "cell_type": "markdown",
   "metadata": {},
   "source": [
    "# Direction trainer"
   ]
  },
  {
   "cell_type": "code",
   "execution_count": 2,
   "metadata": {
    "collapsed": true
   },
   "outputs": [],
   "source": [
    "import keras.backend as K\n",
    "from keras.layers import Dropout, Flatten, Conv2D, MaxPooling2D, BatchNormalization, Lambda"
   ]
  },
  {
   "cell_type": "code",
   "execution_count": 3,
   "metadata": {},
   "outputs": [
    {
     "data": {
      "text/plain": [
       "<matplotlib.image.AxesImage at 0x7fd6707a1f60>"
      ]
     },
     "execution_count": 3,
     "metadata": {},
     "output_type": "execute_result"
    },
    {
     "data": {
      "image/png": "[encoded data removed]",
      "text/plain": [
       "<matplotlib.figure.Figure at 0x7fd67c73a240>"
      ]
     },
     "metadata": {},
     "output_type": "display_data"
    }
   ],
   "source": [
    "import cv2\n",
    "\n",
    "img = cv2.imread('human_imgs/0_5281.jpg')\n",
    "img = cv2.cvtColor(img, cv2.COLOR_BGR2RGB)\n",
    "plt.imshow(img)"
   ]
  },
  {
   "cell_type": "code",
   "execution_count": 37,
   "metadata": {},
   "outputs": [
    {
     "name": "stdout",
     "output_type": "stream",
     "text": [
      "(100, 50, 3)\n",
      "[[[ 0.76078431  0.91372549  0.97254902]\n",
      "  [ 0.76078431  0.90980392  1.        ]\n",
      "  [ 0.76078431  0.90588235  1.        ]\n",
      "  ..., \n",
      "  [ 0.71764706  0.91372549  1.        ]\n",
      "  [ 0.75294118  0.89803922  1.        ]\n",
      "  [ 0.75294118  0.89803922  1.        ]]\n",
      "\n",
      " [[ 0.77254902  0.90588235  1.        ]\n",
      "  [ 0.78039216  0.90588235  0.99607843]\n",
      "  [ 0.77254902  0.90588235  1.        ]\n",
      "  ..., \n",
      "  [ 0.74901961  0.91372549  1.        ]\n",
      "  [ 0.75686275  0.90196078  1.        ]\n",
      "  [ 0.75686275  0.90196078  1.        ]]\n",
      "\n",
      " [[ 0.79607843  0.90196078  1.        ]\n",
      "  [ 0.79607843  0.90588235  0.99215686]\n",
      "  [ 0.78431373  0.90980392  1.        ]\n",
      "  ..., \n",
      "  [ 0.76862745  0.90980392  1.        ]\n",
      "  [ 0.76078431  0.90980392  1.        ]\n",
      "  [ 0.76078431  0.90980392  1.        ]]\n",
      "\n",
      " ..., \n",
      " [[ 0.6627451   0.65882353  0.64313725]\n",
      "  [ 0.72941176  0.7254902   0.70980392]\n",
      "  [ 0.67843137  0.6745098   0.65882353]\n",
      "  ..., \n",
      "  [ 0.14901961  0.17254902  0.21960784]\n",
      "  [ 0.16470588  0.19215686  0.23137255]\n",
      "  [ 0.18823529  0.21568627  0.25490196]]\n",
      "\n",
      " [[ 0.69019608  0.68627451  0.67058824]\n",
      "  [ 0.67843137  0.6745098   0.65882353]\n",
      "  [ 0.66666667  0.6627451   0.64705882]\n",
      "  ..., \n",
      "  [ 0.13333333  0.16078431  0.2       ]\n",
      "  [ 0.14509804  0.17254902  0.21176471]\n",
      "  [ 0.17254902  0.2         0.23921569]]\n",
      "\n",
      " [[ 0.68235294  0.67843137  0.6627451 ]\n",
      "  [ 0.6745098   0.67058824  0.65490196]\n",
      "  [ 0.64313725  0.63921569  0.62352941]\n",
      "  ..., \n",
      "  [ 0.12156863  0.14901961  0.18823529]\n",
      "  [ 0.18431373  0.21176471  0.24313725]\n",
      "  [ 0.21960784  0.24705882  0.27843137]]]\n"
     ]
    }
   ],
   "source": [
    "print(img.shape)\n",
    "print(img/255)"
   ]
  },
  {
   "cell_type": "code",
   "execution_count": 39,
   "metadata": {},
   "outputs": [],
   "source": [
    "imgs = []\n",
    "angles = []\n",
    "directions = []\n",
    "import os\n",
    "import numpy as np\n",
    "\n",
    "angle_thr = 30\n",
    "for jpg in os.listdir('human_imgs/'):\n",
    "    img = cv2.imread('human_imgs/'+jpg)\n",
    "    img = cv2.cvtColor(img, cv2.COLOR_BGR2RGB)\n",
    "    img = img/255\n",
    "    imgs += [img[np.newaxis, :]]\n",
    "    angle = int(jpg.split('_')[0])\n",
    "    angles += [angle]\n",
    "    direction = np.zeros((4))\n",
    "    if angle > angle_thr and angle < 180 - angle_thr:\n",
    "        direction[3] = 1\n",
    "    elif angle > 180 + angle_thr and angle < 360 - angle_thr:\n",
    "        direction[1] = 1\n",
    "    if angle > 90 + angle_thr and angle < 270 - angle_thr:\n",
    "        direction[0] = 1\n",
    "    elif angle < 90 - angle_thr or angle > 270 + angle_thr:\n",
    "        direction[2] = 1\n",
    "    directions += [direction]"
   ]
  },
  {
   "cell_type": "code",
   "execution_count": 40,
   "metadata": {},
   "outputs": [
    {
     "name": "stdout",
     "output_type": "stream",
     "text": [
      "(9654, 100, 50, 3)\n",
      "(9654, 1)\n",
      "(9654, 4)\n"
     ]
    }
   ],
   "source": [
    "imgs = np.vstack(imgs)\n",
    "angles = np.vstack(angles)\n",
    "directions = np.vstack(directions)\n",
    "print(imgs.shape)\n",
    "print(angles.shape)\n",
    "print(directions.shape)"
   ]
  },
  {
   "cell_type": "code",
   "execution_count": 41,
   "metadata": {
    "collapsed": true
   },
   "outputs": [],
   "source": [
    "img_train, img_test, angle_train, angle_test, direction_train, direction_test = train_test_split(imgs, angles, directions, test_size=0.1)"
   ]
  },
  {
   "cell_type": "code",
   "execution_count": 42,
   "metadata": {},
   "outputs": [
    {
     "name": "stdout",
     "output_type": "stream",
     "text": [
      "_________________________________________________________________\n",
      "Layer (type)                 Output Shape              Param #   \n",
      "=================================================================\n",
      "conv2d_44 (Conv2D)           (None, 96, 46, 64)        4864      \n",
      "_________________________________________________________________\n",
      "max_pooling2d_6 (MaxPooling2 (None, 48, 23, 64)        0         \n",
      "_________________________________________________________________\n",
      "batch_normalization_38 (Batc (None, 48, 23, 64)        256       \n",
      "_________________________________________________________________\n",
      "conv2d_45 (Conv2D)           (None, 44, 19, 128)       204928    \n",
      "_________________________________________________________________\n",
      "max_pooling2d_7 (MaxPooling2 (None, 22, 9, 128)        0         \n",
      "_________________________________________________________________\n",
      "batch_normalization_39 (Batc (None, 22, 9, 128)        512       \n",
      "_________________________________________________________________\n",
      "conv2d_46 (Conv2D)           (None, 20, 7, 256)        295168    \n",
      "_________________________________________________________________\n",
      "max_pooling2d_8 (MaxPooling2 (None, 10, 3, 256)        0         \n",
      "_________________________________________________________________\n",
      "batch_normalization_40 (Batc (None, 10, 3, 256)        1024      \n",
      "_________________________________________________________________\n",
      "flatten_4 (Flatten)          (None, 7680)              0         \n",
      "_________________________________________________________________\n",
      "dense_6 (Dense)              (None, 512)               3932672   \n",
      "_________________________________________________________________\n",
      "dropout_3 (Dropout)          (None, 512)               0         \n",
      "_________________________________________________________________\n",
      "dense_7 (Dense)              (None, 1024)              525312    \n",
      "_________________________________________________________________\n",
      "dropout_4 (Dropout)          (None, 1024)              0         \n",
      "_________________________________________________________________\n",
      "dense_8 (Dense)              (None, 4)                 4100      \n",
      "=================================================================\n",
      "Total params: 4,968,836\n",
      "Trainable params: 4,967,940\n",
      "Non-trainable params: 896\n",
      "_________________________________________________________________\n"
     ]
    }
   ],
   "source": [
    "model_direction = Sequential()\n",
    "model_direction.add(Conv2D(64, (5,5), strides=(1,1), input_shape=(100, 50, 3)))\n",
    "model_direction.add(MaxPooling2D(pool_size=(2, 2), strides=(2, 2)))\n",
    "model_direction.add(BatchNormalization(axis=-1))\n",
    "\n",
    "model_direction.add(Conv2D(128, (5,5), strides=(1,1)))\n",
    "model_direction.add(MaxPooling2D(pool_size=(2, 2), strides=(2, 2)))\n",
    "model_direction.add(BatchNormalization(axis=-1))\n",
    "\n",
    "model_direction.add(Conv2D(256, (3,3), strides=(1,1)))\n",
    "model_direction.add(MaxPooling2D(pool_size=(2, 2), strides=(2, 2)))\n",
    "model_direction.add(BatchNormalization(axis=-1))\n",
    "\n",
    "model_direction.add(Flatten())\n",
    "model_direction.add(Dense(512, activation='relu'))\n",
    "model_direction.add(Dropout(0.5))\n",
    "model_direction.add(Dense(1024, activation='relu'))\n",
    "model_direction.add(Dropout(0.5))\n",
    "model_direction.add(Dense(4, activation='sigmoid'))\n",
    "\n",
    "model_direction.summary()"
   ]
  },
  {
   "cell_type": "code",
   "execution_count": 44,
   "metadata": {
    "scrolled": true
   },
   "outputs": [
    {
     "name": "stdout",
     "output_type": "stream",
     "text": [
      "Train on 8688 samples, validate on 966 samples\n",
      "Epoch 1/10\n",
      "8688/8688 [==============================] - 7s - loss: 0.3446 - acc: 0.8957 - val_loss: 0.5248 - val_acc: 0.7655\n",
      "Epoch 2/10\n",
      "8688/8688 [==============================] - 5s - loss: 0.2088 - acc: 0.9284 - val_loss: 0.1265 - val_acc: 0.9485\n",
      "Epoch 3/10\n",
      "8688/8688 [==============================] - 5s - loss: 0.1640 - acc: 0.9416 - val_loss: 0.1406 - val_acc: 0.9472\n",
      "Epoch 4/10\n",
      "8688/8688 [==============================] - 5s - loss: 0.1323 - acc: 0.9491 - val_loss: 0.1152 - val_acc: 0.9513\n",
      "Epoch 5/10\n",
      "8688/8688 [==============================] - 6s - loss: 0.1159 - acc: 0.9559 - val_loss: 0.0897 - val_acc: 0.9620\n",
      "Epoch 6/10\n",
      "8688/8688 [==============================] - 6s - loss: 0.1085 - acc: 0.9586 - val_loss: 0.1803 - val_acc: 0.9319\n",
      "Epoch 7/10\n",
      "8688/8688 [==============================] - 5s - loss: 0.1029 - acc: 0.9611 - val_loss: 0.0814 - val_acc: 0.9648\n",
      "Epoch 8/10\n",
      "8688/8688 [==============================] - 5s - loss: 0.0949 - acc: 0.9651 - val_loss: 0.0893 - val_acc: 0.9617\n",
      "Epoch 9/10\n",
      "8688/8688 [==============================] - 5s - loss: 0.0903 - acc: 0.9658 - val_loss: 0.0713 - val_acc: 0.9715\n",
      "Epoch 10/10\n",
      "8688/8688 [==============================] - 5s - loss: 0.0816 - acc: 0.9696 - val_loss: 0.0889 - val_acc: 0.9653\n"
     ]
    },
    {
     "data": {
      "text/plain": [
       "<keras.callbacks.History at 0x7fd581a2ef98>"
      ]
     },
     "execution_count": 44,
     "metadata": {},
     "output_type": "execute_result"
    }
   ],
   "source": [
    "model_direction.compile(optimizer='adam',\n",
    "                       loss='binary_crossentropy',\n",
    "                       metrics=['accuracy'])\n",
    "model_direction.fit(img_train, direction_train, epochs=10, batch_size=32, validation_data=(img_test, direction_test))"
   ]
  },
  {
   "cell_type": "code",
   "execution_count": 53,
   "metadata": {
    "collapsed": true
   },
   "outputs": [],
   "source": [
    "model_direction.save_weights('model/model_direction_weights.h5')"
   ]
  },
  {
   "cell_type": "markdown",
   "metadata": {},
   "source": [
    "## Load model"
   ]
  },
  {
   "cell_type": "code",
   "execution_count": null,
   "metadata": {
    "collapsed": true
   },
   "outputs": [],
   "source": [
    "model_direction.load_weights('model/model_direction_weights.h5')"
   ]
  },
  {
   "cell_type": "code",
   "execution_count": 46,
   "metadata": {},
   "outputs": [],
   "source": [
    "preds = model_direction.predict(img_test)\n",
    "preds[preds>=0.5] = 1\n",
    "preds[preds<0.5] = 0"
   ]
  },
  {
   "cell_type": "code",
   "execution_count": 47,
   "metadata": {},
   "outputs": [
    {
     "data": {
      "text/plain": [
       "array([ 0.95800933,  0.93312597,  0.94736842,  0.95208655])"
      ]
     },
     "execution_count": 47,
     "metadata": {},
     "output_type": "execute_result"
    }
   ],
   "source": [
    "from sklearn.metrics import f1_score\n",
    "\n",
    "f1_score(direction_test, preds, average=None)"
   ]
  },
  {
   "cell_type": "code",
   "execution_count": 56,
   "metadata": {},
   "outputs": [
    {
     "name": "stdout",
     "output_type": "stream",
     "text": [
      "[[ 1.  0.  0.  0.]\n",
      " [ 1.  0.  0.  1.]\n",
      " [ 0.  0.  0.  0.]\n",
      " [ 0.  1.  0.  0.]\n",
      " [ 0.  0.  0.  1.]\n",
      " [ 0.  0.  0.  0.]\n",
      " [ 0.  1.  0.  0.]\n",
      " [ 1.  0.  0.  0.]\n",
      " [ 1.  1.  0.  0.]\n",
      " [ 1.  0.  0.  0.]]\n",
      "[[157]\n",
      " [157]\n",
      " [  9]\n",
      " [265]\n",
      " [ 45]\n",
      " [ 33]\n",
      " [280]\n",
      " [176]\n",
      " [232]\n",
      " [164]]\n"
     ]
    }
   ],
   "source": [
    "print(preds[:10])\n",
    "print(angle_test[:10])"
   ]
  },
  {
   "cell_type": "markdown",
   "metadata": {},
   "source": [
    "# Test resnet"
   ]
  },
  {
   "cell_type": "code",
   "execution_count": 48,
   "metadata": {
    "collapsed": true
   },
   "outputs": [],
   "source": [
    "from keras.models import Model\n",
    "from keras.layers import (\n",
    "    Input,\n",
    "    Activation,\n",
    "    Dense,\n",
    "    Flatten\n",
    ")\n",
    "from keras.layers.convolutional import (\n",
    "    Conv2D,\n",
    "    MaxPooling2D,\n",
    "    AveragePooling2D\n",
    ")\n",
    "from keras.layers.merge import add\n",
    "from keras.layers.normalization import BatchNormalization\n",
    "from keras.regularizers import l2\n",
    "from keras import backend as K\n",
    "from keras.utils import np_utils\n",
    "import numpy as np\n",
    "import matplotlib.pyplot as plt\n",
    "\n",
    "def _bn_relu(inputs):\n",
    "    \"\"\"\n",
    "    BN -> relu block\n",
    "    \"\"\"\n",
    "    norm = BatchNormalization(axis=CHANNEL_AXIS)(inputs)\n",
    "    return Activation(\"relu\")(norm)\n",
    "\n",
    "def _conv_bn_relu(filters, kernel_size=(3, 3), strides=(1, 1)):\n",
    "    \"\"\"\n",
    "    conv -> BN -> relu\n",
    "    \"\"\"\n",
    "    def f(inputs):\n",
    "        conv = Conv2D(filters=filters, kernel_size=kernel_size, strides=strides,\n",
    "                      padding='same', kernel_initializer=\"he_normal\", kernel_regularizer=l2(1e-4))(inputs)\n",
    "        norm = BatchNormalization(axis=CHANNEL_AXIS)(conv)\n",
    "        return Activation(\"relu\")(norm)\n",
    "    return f\n",
    "\n",
    "def _bn_relu_conv(filters, kernel_size=(3, 3), strides=(1, 1)):\n",
    "    \"\"\"\n",
    "    BN -> relu -> conv\n",
    "    \"\"\"\n",
    "    def f(inputs):\n",
    "        norm = BatchNormalization(axis=CHANNEL_AXIS)(inputs)\n",
    "        activation = Activation(\"relu\")(norm)\n",
    "        return Conv2D(filters=filters, kernel_size=kernel_size, strides=strides,\n",
    "                      padding='same', kernel_initializer=\"he_normal\", kernel_regularizer=l2(1e-4))(activation)\n",
    "    return f\n",
    "\n",
    "def basic_block(filters, init_strides=(1, 1), is_first_block_of_first_layer=False):\n",
    "    \"\"\"\n",
    "    basic residual block : 3*3 kernel\n",
    "    \"\"\"\n",
    "    def f(inputs):\n",
    "        if is_first_block_of_first_layer:\n",
    "            # don't repeat bn->relu since we just did bn->relu->maxpool\n",
    "            conv1 = Conv2D(filters=filters, kernel_size=(3, 3),\n",
    "                           strides=init_strides,\n",
    "                           padding=\"same\",\n",
    "                           kernel_initializer=\"he_normal\",\n",
    "                           kernel_regularizer=l2(1e-4))(inputs)\n",
    "        else:\n",
    "            conv1 = _bn_relu_conv(filters, (3, 3), strides=init_strides)(inputs)\n",
    "        residual = _bn_relu_conv(filters, (3, 3))(conv1)\n",
    "        return _shortcut(inputs, residual)\n",
    "    return f\n",
    "\n",
    "def bottleneck(filters, init_strides=(1, 1), is_first_block_of_first_layer=False):\n",
    "    \"\"\"\n",
    "    bottleneck : 1*1 filters -> 3*3 filters -> 1*1 4*filters\n",
    "    \"\"\"\n",
    "    def f(inputs):\n",
    "        if is_first_block_of_first_layer:\n",
    "            # don't repeat bn->relu since we just did bn->relu->maxpool\n",
    "            conv_1_1 = Conv2D(filters=filters, kernel_size=(1, 1),\n",
    "                              strides=init_strides,\n",
    "                              padding=\"same\",\n",
    "                              kernel_initializer=\"he_normal\",\n",
    "                              kernel_regularizer=l2(1e-4))(inputs)\n",
    "        else:\n",
    "            conv_1_1 = _bn_relu_conv(filters=filters, kernel_size=(1, 1),\n",
    "                                     strides=init_strides)(inputs)\n",
    "\n",
    "        conv_3_3 = _bn_relu_conv(filters=filters, kernel_size=(3, 3))(conv_1_1)\n",
    "        residual = _bn_relu_conv(filters=filters * 4, kernel_size=(1, 1))(conv_3_3)\n",
    "        return _shortcut(inputs, residual)\n",
    "    return f\n",
    "\n",
    "def _shortcut(inputs, residual):\n",
    "    input_shape = K.int_shape(inputs)\n",
    "    residual_shape = K.int_shape(residual)\n",
    "    stride_width = int(round(input_shape[ROW_AXIS] / residual_shape[ROW_AXIS]))\n",
    "    stride_height = int(round(input_shape[COL_AXIS] / residual_shape[COL_AXIS]))\n",
    "    equal_channels = residual._keras_shape[CHANNEL_AXIS] == inputs._keras_shape[CHANNEL_AXIS]\n",
    "\n",
    "    shortcut = inputs\n",
    "    if stride_width > 1 or stride_height > 1 or not equal_channels:\n",
    "        shortcut = Conv2D(filters=residual._keras_shape[CHANNEL_AXIS], kernel_size=(1, 1), strides=(stride_width, stride_height),\n",
    "                          padding=\"valid\", kernel_initializer=\"he_normal\")(inputs)\n",
    "\n",
    "    return add([shortcut, residual])\n",
    "\n",
    "def _residual_block(block_function, filters, repetitions, is_first_layer=False):\n",
    "    def f(inputs):\n",
    "        for i in range(repetitions):\n",
    "            init_strides = (1, 1)\n",
    "            if i == 0 and not is_first_layer:\n",
    "                init_strides = (2, 2)\n",
    "            inputs = block_function(filters=filters, init_strides=init_strides,\n",
    "                                    is_first_block_of_first_layer=(is_first_layer and i == 0))(inputs)\n",
    "        return inputs\n",
    "    return f\n",
    "\n",
    "\n",
    "class ResnetBuilder(object):\n",
    "    @staticmethod\n",
    "    def build(input_shape, num_outputs, block_fn, repetitions):\n",
    "        \"\"\"Builds a custom ResNet like architecture.\n",
    "\n",
    "        Args:\n",
    "            input_shape: The input shape in the form (nb_rows, nb_cols, nb_channels)\n",
    "            num_outputs: The number of outputs at final softmax layer\n",
    "            block_fn: The block function to use. This is either `basic_block` or `bottleneck`.\n",
    "                The original paper used basic_block for layers < 50\n",
    "            repetitions: Number of repetitions of various block units.\n",
    "                At each block unit, the number of filters are doubled and the input size is halved\n",
    "\n",
    "        Returns:\n",
    "            The keras `Model`.\n",
    "        \"\"\"\n",
    "        assert input_shape[-1] == 3, 'must use channel_last format!'\n",
    "        global ROW_AXIS, COL_AXIS, CHANNEL_AXIS\n",
    "        ROW_AXIS = 1\n",
    "        COL_AXIS = 2\n",
    "        CHANNEL_AXIS = 3\n",
    "        \n",
    "        inputs = Input(shape=input_shape)\n",
    "        conv1 = _conv_bn_relu(filters=64, kernel_size=(7, 7), strides=(2, 2))(inputs)\n",
    "        pool1 = MaxPooling2D(pool_size=(3, 3), strides=(2, 2), padding=\"same\")(conv1)\n",
    "\n",
    "        block = pool1\n",
    "        filters = 64\n",
    "        for i, r in enumerate(repetitions):\n",
    "            block = _residual_block(block_fn, filters=filters, repetitions=r, is_first_layer=(i == 0))(block)\n",
    "            filters *= 2\n",
    "\n",
    "        # Last activation\n",
    "        block = _bn_relu(block)\n",
    "\n",
    "        # Classifier block\n",
    "        block_shape = K.int_shape(block)\n",
    "        pool2 = AveragePooling2D(pool_size=(block_shape[ROW_AXIS], block_shape[COL_AXIS]),\n",
    "                                 strides=(1, 1))(block)\n",
    "        flatten1 = Flatten()(pool2)\n",
    "        dense = Dense(units=num_outputs, kernel_initializer=\"he_normal\", activation='sigmoid')(flatten1)\n",
    "\n",
    "        model = Model(inputs=inputs, outputs=dense)\n",
    "        return model\n",
    "\n",
    "    @staticmethod\n",
    "    def build_resnet_18(input_shape, num_outputs):\n",
    "        return ResnetBuilder.build(input_shape, num_outputs, basic_block, [2, 2, 2, 2])\n",
    "\n",
    "    @staticmethod\n",
    "    def build_resnet_34(input_shape, num_outputs):\n",
    "        return ResnetBuilder.build(input_shape, num_outputs, basic_block, [3, 4, 6, 3])\n",
    "\n",
    "    @staticmethod\n",
    "    def build_resnet_50(input_shape, num_outputs):\n",
    "        return ResnetBuilder.build(input_shape, num_outputs, bottleneck, [3, 4, 6, 3])\n",
    "\n",
    "    @staticmethod\n",
    "    def build_resnet_101(input_shape, num_outputs):\n",
    "        return ResnetBuilder.build(input_shape, num_outputs, bottleneck, [3, 4, 23, 3])\n",
    "\n",
    "    @staticmethod\n",
    "    def build_resnet_152(input_shape, num_outputs):\n",
    "        return ResnetBuilder.build(input_shape, num_outputs, bottleneck, [3, 8, 36, 3])"
   ]
  },
  {
   "cell_type": "code",
   "execution_count": 49,
   "metadata": {
    "collapsed": true
   },
   "outputs": [],
   "source": [
    "model_res = ResnetBuilder.build_resnet_18(img_train[0].shape, 4)\n",
    "model_res.compile(loss='binary_crossentropy',\n",
    "                  optimizer='adam',\n",
    "                  metrics=['accuracy'])"
   ]
  },
  {
   "cell_type": "code",
   "execution_count": 50,
   "metadata": {},
   "outputs": [
    {
     "name": "stdout",
     "output_type": "stream",
     "text": [
      "Train on 8688 samples, validate on 966 samples\n",
      "Epoch 1/10\n",
      "8688/8688 [==============================] - 17s - loss: 0.4669 - acc: 0.9403 - val_loss: 0.4608 - val_acc: 0.8929\n",
      "Epoch 2/10\n",
      "8688/8688 [==============================] - 14s - loss: 0.2218 - acc: 0.9609 - val_loss: 0.6278 - val_acc: 0.8300\n",
      "Epoch 3/10\n",
      "8688/8688 [==============================] - 13s - loss: 0.1661 - acc: 0.9678 - val_loss: 3.2019 - val_acc: 0.5828\n",
      "Epoch 4/10\n",
      "8688/8688 [==============================] - 14s - loss: 0.1442 - acc: 0.9699 - val_loss: 1.9427 - val_acc: 0.6928\n",
      "Epoch 5/10\n",
      "8688/8688 [==============================] - 14s - loss: 0.1331 - acc: 0.9726 - val_loss: 0.1696 - val_acc: 0.9565\n",
      "Epoch 6/10\n",
      "8688/8688 [==============================] - 13s - loss: 0.1195 - acc: 0.9743 - val_loss: 0.1709 - val_acc: 0.9578\n",
      "Epoch 7/10\n",
      "8688/8688 [==============================] - 13s - loss: 0.1060 - acc: 0.9783 - val_loss: 1.2767 - val_acc: 0.7953\n",
      "Epoch 8/10\n",
      "8688/8688 [==============================] - 14s - loss: 0.1029 - acc: 0.9791 - val_loss: 0.3063 - val_acc: 0.9125\n",
      "Epoch 9/10\n",
      "8688/8688 [==============================] - 14s - loss: 0.0988 - acc: 0.9797 - val_loss: 0.1366 - val_acc: 0.9643\n",
      "Epoch 10/10\n",
      "8688/8688 [==============================] - 13s - loss: 0.0928 - acc: 0.9807 - val_loss: 0.1456 - val_acc: 0.9570\n"
     ]
    },
    {
     "data": {
      "text/plain": [
       "<keras.callbacks.History at 0x7fd65395fe80>"
      ]
     },
     "execution_count": 50,
     "metadata": {},
     "output_type": "execute_result"
    }
   ],
   "source": [
    "model_res.fit(img_train, direction_train, epochs=10, batch_size=32, validation_data=(img_test, direction_test))"
   ]
  },
  {
   "cell_type": "code",
   "execution_count": 51,
   "metadata": {},
   "outputs": [],
   "source": [
    "preds = model_res.predict(img_test)\n",
    "preds[preds>=0.5] = 1\n",
    "preds[preds<0.5] = 0"
   ]
  },
  {
   "cell_type": "code",
   "execution_count": 52,
   "metadata": {},
   "outputs": [
    {
     "data": {
      "text/plain": [
       "array([ 0.93623188,  0.95718654,  0.88848263,  0.94930876])"
      ]
     },
     "execution_count": 52,
     "metadata": {},
     "output_type": "execute_result"
    }
   ],
   "source": [
    "f1_score(direction_test, preds, average=None)"
   ]
  },
  {
   "cell_type": "code",
   "execution_count": 22,
   "metadata": {
    "collapsed": true
   },
   "outputs": [],
   "source": [
    "model_res.save_weights('model/model_direction_res18_weights.h5')"
   ]
  },
  {
   "cell_type": "code",
   "execution_count": null,
   "metadata": {
    "collapsed": true
   },
   "outputs": [],
   "source": []
  }
 ],
 "metadata": {
  "kernelspec": {
   "display_name": "Python 3",
   "language": "python",
   "name": "python3"
  },
  "language_info": {
   "codemirror_mode": {
    "name": "ipython",
    "version": 3
   },
   "file_extension": ".py",
   "mimetype": "text/x-python",
   "name": "python",
   "nbconvert_exporter": "python",
   "pygments_lexer": "ipython3",
   "version": "3.6.3"
  }
 },
 "nbformat": 4,
 "nbformat_minor": 2
}
