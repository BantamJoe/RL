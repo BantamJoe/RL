{
 "cells": [
  {
   "cell_type": "code",
   "execution_count": 47,
   "metadata": {
    "collapsed": true
   },
   "outputs": [],
   "source": [
    "from keras.models import Sequential\n",
    "from keras.layers import Dense, Activation\n",
    "\n",
    "from sklearn.model_selection import train_test_split\n",
    "import matplotlib.pyplot as plt\n",
    "%matplotlib inline"
   ]
  },
  {
   "cell_type": "markdown",
   "metadata": {},
   "source": [
    "# Distance trainer"
   ]
  },
  {
   "cell_type": "code",
   "execution_count": 27,
   "metadata": {},
   "outputs": [],
   "source": [
    "import pickle\n",
    "\n",
    "with open('bounding_box_coordinates.pickle', 'rb') as handle:\n",
    "    X = pickle.load(handle)\n",
    "    \n",
    "with open('distances.pickle', 'rb') as handle:\n",
    "    y = pickle.load(handle)"
   ]
  },
  {
   "cell_type": "code",
   "execution_count": 28,
   "metadata": {
    "collapsed": true
   },
   "outputs": [],
   "source": [
    "X_train, X_test, y_train, y_test = train_test_split(X, y, test_size=0.1)"
   ]
  },
  {
   "cell_type": "code",
   "execution_count": 41,
   "metadata": {
    "collapsed": true
   },
   "outputs": [],
   "source": [
    "model_distance = Sequential()\n",
    "model_distance.add(Dense(32, input_dim=4, activation='relu'))\n",
    "model_distance.add(Dense(32, activation='relu'))\n",
    "model_distance.add(Dense(1))\n",
    "\n",
    "model_distance.compile(optimizer='adam',\n",
    "                       loss='mse')"
   ]
  },
  {
   "cell_type": "code",
   "execution_count": 42,
   "metadata": {
    "scrolled": true
   },
   "outputs": [
    {
     "name": "stdout",
     "output_type": "stream",
     "text": [
      "Train on 3381 samples, validate on 376 samples\n",
      "Epoch 1/100\n",
      "3381/3381 [==============================] - 0s - loss: 36.4313 - val_loss: 12.4722\n",
      "Epoch 2/100\n",
      "3381/3381 [==============================] - 0s - loss: 3.6756 - val_loss: 2.3696\n",
      "Epoch 3/100\n",
      "3381/3381 [==============================] - 0s - loss: 2.3576 - val_loss: 2.3573\n",
      "Epoch 4/100\n",
      "3381/3381 [==============================] - 0s - loss: 2.3294 - val_loss: 2.3208\n",
      "Epoch 5/100\n",
      "3381/3381 [==============================] - 0s - loss: 2.2974 - val_loss: 2.3112\n",
      "Epoch 6/100\n",
      "3381/3381 [==============================] - 0s - loss: 2.2706 - val_loss: 2.2506\n",
      "Epoch 7/100\n",
      "3381/3381 [==============================] - 0s - loss: 2.2230 - val_loss: 2.2222\n",
      "Epoch 8/100\n",
      "3381/3381 [==============================] - 0s - loss: 2.1812 - val_loss: 2.1813\n",
      "Epoch 9/100\n",
      "3381/3381 [==============================] - 0s - loss: 2.1384 - val_loss: 2.1404\n",
      "Epoch 10/100\n",
      "3381/3381 [==============================] - 0s - loss: 2.0999 - val_loss: 2.0908\n",
      "Epoch 11/100\n",
      "3381/3381 [==============================] - 0s - loss: 2.0406 - val_loss: 2.0363\n",
      "Epoch 12/100\n",
      "3381/3381 [==============================] - 0s - loss: 1.9795 - val_loss: 1.9720\n",
      "Epoch 13/100\n",
      "3381/3381 [==============================] - 0s - loss: 1.9135 - val_loss: 1.9007\n",
      "Epoch 14/100\n",
      "3381/3381 [==============================] - 0s - loss: 1.8360 - val_loss: 1.8506\n",
      "Epoch 15/100\n",
      "3381/3381 [==============================] - 0s - loss: 1.7512 - val_loss: 1.7319\n",
      "Epoch 16/100\n",
      "3381/3381 [==============================] - 0s - loss: 1.6492 - val_loss: 1.6312\n",
      "Epoch 17/100\n",
      "3381/3381 [==============================] - 0s - loss: 1.5330 - val_loss: 1.4894\n",
      "Epoch 18/100\n",
      "3381/3381 [==============================] - 0s - loss: 1.4006 - val_loss: 1.3543\n",
      "Epoch 19/100\n",
      "3381/3381 [==============================] - 0s - loss: 1.2627 - val_loss: 1.2056\n",
      "Epoch 20/100\n",
      "3381/3381 [==============================] - 0s - loss: 1.1176 - val_loss: 1.0519\n",
      "Epoch 21/100\n",
      "3381/3381 [==============================] - 0s - loss: 0.9783 - val_loss: 0.9347\n",
      "Epoch 22/100\n",
      "3381/3381 [==============================] - 0s - loss: 0.8196 - val_loss: 0.7428\n",
      "Epoch 23/100\n",
      "3381/3381 [==============================] - 0s - loss: 0.6815 - val_loss: 0.6151\n",
      "Epoch 24/100\n",
      "3381/3381 [==============================] - 0s - loss: 0.5648 - val_loss: 0.5131\n",
      "Epoch 25/100\n",
      "3381/3381 [==============================] - 0s - loss: 0.4665 - val_loss: 0.4405\n",
      "Epoch 26/100\n",
      "3381/3381 [==============================] - 0s - loss: 0.4012 - val_loss: 0.3499\n",
      "Epoch 27/100\n",
      "3381/3381 [==============================] - 0s - loss: 0.3472 - val_loss: 0.3129\n",
      "Epoch 28/100\n",
      "3381/3381 [==============================] - 0s - loss: 0.3142 - val_loss: 0.2884\n",
      "Epoch 29/100\n",
      "3381/3381 [==============================] - 0s - loss: 0.3035 - val_loss: 0.2744\n",
      "Epoch 30/100\n",
      "3381/3381 [==============================] - 0s - loss: 0.2943 - val_loss: 0.2953\n",
      "Epoch 31/100\n",
      "3381/3381 [==============================] - 0s - loss: 0.2882 - val_loss: 0.2873\n",
      "Epoch 32/100\n",
      "3381/3381 [==============================] - 0s - loss: 0.2897 - val_loss: 0.2609\n",
      "Epoch 33/100\n",
      "3381/3381 [==============================] - 0s - loss: 0.2887 - val_loss: 0.2690\n",
      "Epoch 34/100\n",
      "3381/3381 [==============================] - 0s - loss: 0.2899 - val_loss: 0.2584\n",
      "Epoch 35/100\n",
      "3381/3381 [==============================] - 0s - loss: 0.2804 - val_loss: 0.2585\n",
      "Epoch 36/100\n",
      "3381/3381 [==============================] - 0s - loss: 0.2823 - val_loss: 0.2603\n",
      "Epoch 37/100\n",
      "3381/3381 [==============================] - 0s - loss: 0.2811 - val_loss: 0.2775\n",
      "Epoch 38/100\n",
      "3381/3381 [==============================] - 0s - loss: 0.2826 - val_loss: 0.3220\n",
      "Epoch 39/100\n",
      "3381/3381 [==============================] - 0s - loss: 0.2936 - val_loss: 0.2496\n",
      "Epoch 40/100\n",
      "3381/3381 [==============================] - 0s - loss: 0.2911 - val_loss: 0.2647\n",
      "Epoch 41/100\n",
      "3381/3381 [==============================] - 0s - loss: 0.2734 - val_loss: 0.2444\n",
      "Epoch 42/100\n",
      "3381/3381 [==============================] - 0s - loss: 0.2772 - val_loss: 0.2539\n",
      "Epoch 43/100\n",
      "3381/3381 [==============================] - 0s - loss: 0.2658 - val_loss: 0.2572\n",
      "Epoch 44/100\n",
      "3381/3381 [==============================] - 0s - loss: 0.2667 - val_loss: 0.2420\n",
      "Epoch 45/100\n",
      "3381/3381 [==============================] - 0s - loss: 0.2643 - val_loss: 0.2391\n",
      "Epoch 46/100\n",
      "3381/3381 [==============================] - 0s - loss: 0.2660 - val_loss: 0.2386\n",
      "Epoch 47/100\n",
      "3381/3381 [==============================] - 0s - loss: 0.2647 - val_loss: 0.2470\n",
      "Epoch 48/100\n",
      "3381/3381 [==============================] - 0s - loss: 0.2680 - val_loss: 0.2393\n",
      "Epoch 49/100\n",
      "3381/3381 [==============================] - 0s - loss: 0.2640 - val_loss: 0.2369\n",
      "Epoch 50/100\n",
      "3381/3381 [==============================] - 0s - loss: 0.2708 - val_loss: 0.2544\n",
      "Epoch 51/100\n",
      "3381/3381 [==============================] - 0s - loss: 0.2680 - val_loss: 0.2428\n",
      "Epoch 52/100\n",
      "3381/3381 [==============================] - 0s - loss: 0.2649 - val_loss: 0.2367\n",
      "Epoch 53/100\n",
      "3381/3381 [==============================] - 0s - loss: 0.2628 - val_loss: 0.2344\n",
      "Epoch 54/100\n",
      "3381/3381 [==============================] - 0s - loss: 0.2713 - val_loss: 0.2329\n",
      "Epoch 55/100\n",
      "3381/3381 [==============================] - 0s - loss: 0.2612 - val_loss: 0.2365\n",
      "Epoch 56/100\n",
      "3381/3381 [==============================] - 0s - loss: 0.2660 - val_loss: 0.2328\n",
      "Epoch 57/100\n",
      "3381/3381 [==============================] - 0s - loss: 0.2642 - val_loss: 0.2326\n",
      "Epoch 58/100\n",
      "3381/3381 [==============================] - 0s - loss: 0.2591 - val_loss: 0.2331\n",
      "Epoch 59/100\n",
      "3381/3381 [==============================] - 0s - loss: 0.2563 - val_loss: 0.2309\n",
      "Epoch 60/100\n",
      "3381/3381 [==============================] - 0s - loss: 0.2607 - val_loss: 0.2327\n",
      "Epoch 61/100\n",
      "3381/3381 [==============================] - 0s - loss: 0.2583 - val_loss: 0.2348\n",
      "Epoch 62/100\n",
      "3381/3381 [==============================] - 0s - loss: 0.2558 - val_loss: 0.2316\n",
      "Epoch 63/100\n",
      "3381/3381 [==============================] - 0s - loss: 0.2560 - val_loss: 0.2294\n",
      "Epoch 64/100\n",
      "3381/3381 [==============================] - 0s - loss: 0.2543 - val_loss: 0.2563\n",
      "Epoch 65/100\n",
      "3381/3381 [==============================] - 0s - loss: 0.2553 - val_loss: 0.2351\n",
      "Epoch 66/100\n",
      "3381/3381 [==============================] - 0s - loss: 0.2558 - val_loss: 0.2438\n",
      "Epoch 67/100\n",
      "3381/3381 [==============================] - 0s - loss: 0.2560 - val_loss: 0.2300\n",
      "Epoch 68/100\n",
      "3381/3381 [==============================] - 0s - loss: 0.2517 - val_loss: 0.2280\n",
      "Epoch 69/100\n",
      "3381/3381 [==============================] - 0s - loss: 0.2556 - val_loss: 0.2585\n",
      "Epoch 70/100\n",
      "3381/3381 [==============================] - 0s - loss: 0.2541 - val_loss: 0.2304\n",
      "Epoch 71/100\n",
      "3381/3381 [==============================] - 0s - loss: 0.2490 - val_loss: 0.2361\n",
      "Epoch 72/100\n",
      "3381/3381 [==============================] - 0s - loss: 0.2494 - val_loss: 0.2384\n",
      "Epoch 73/100\n",
      "3381/3381 [==============================] - 0s - loss: 0.2546 - val_loss: 0.2352\n",
      "Epoch 74/100\n",
      "3381/3381 [==============================] - 0s - loss: 0.2496 - val_loss: 0.2230\n",
      "Epoch 75/100\n",
      "3381/3381 [==============================] - 0s - loss: 0.2438 - val_loss: 0.2271\n",
      "Epoch 76/100\n",
      "3381/3381 [==============================] - 0s - loss: 0.2431 - val_loss: 0.2305\n",
      "Epoch 77/100\n",
      "3381/3381 [==============================] - 0s - loss: 0.2438 - val_loss: 0.2189\n",
      "Epoch 78/100\n",
      "3381/3381 [==============================] - 0s - loss: 0.2489 - val_loss: 0.2238\n",
      "Epoch 79/100\n",
      "3381/3381 [==============================] - 0s - loss: 0.2449 - val_loss: 0.2180\n",
      "Epoch 80/100\n",
      "3381/3381 [==============================] - 0s - loss: 0.2440 - val_loss: 0.2210\n",
      "Epoch 81/100\n",
      "3381/3381 [==============================] - 0s - loss: 0.2397 - val_loss: 0.2361\n",
      "Epoch 82/100\n",
      "3381/3381 [==============================] - 0s - loss: 0.2391 - val_loss: 0.2184\n",
      "Epoch 83/100\n",
      "3381/3381 [==============================] - 0s - loss: 0.2414 - val_loss: 0.2108\n",
      "Epoch 84/100\n",
      "3381/3381 [==============================] - 0s - loss: 0.2371 - val_loss: 0.2122\n",
      "Epoch 85/100\n",
      "3381/3381 [==============================] - 0s - loss: 0.2412 - val_loss: 0.2097\n",
      "Epoch 86/100\n"
     ]
    },
    {
     "name": "stdout",
     "output_type": "stream",
     "text": [
      "3381/3381 [==============================] - 0s - loss: 0.2309 - val_loss: 0.2112\n",
      "Epoch 87/100\n",
      "3381/3381 [==============================] - 0s - loss: 0.2296 - val_loss: 0.2059\n",
      "Epoch 88/100\n",
      "3381/3381 [==============================] - 0s - loss: 0.2320 - val_loss: 0.2218\n",
      "Epoch 89/100\n",
      "3381/3381 [==============================] - 0s - loss: 0.2293 - val_loss: 0.2005\n",
      "Epoch 90/100\n",
      "3381/3381 [==============================] - 0s - loss: 0.2271 - val_loss: 0.2000\n",
      "Epoch 91/100\n",
      "3381/3381 [==============================] - 0s - loss: 0.2216 - val_loss: 0.1979\n",
      "Epoch 92/100\n",
      "3381/3381 [==============================] - 0s - loss: 0.2215 - val_loss: 0.2040\n",
      "Epoch 93/100\n",
      "3381/3381 [==============================] - 0s - loss: 0.2217 - val_loss: 0.2046\n",
      "Epoch 94/100\n",
      "3381/3381 [==============================] - 0s - loss: 0.2178 - val_loss: 0.1984\n",
      "Epoch 95/100\n",
      "3381/3381 [==============================] - 0s - loss: 0.2178 - val_loss: 0.1952\n",
      "Epoch 96/100\n",
      "3381/3381 [==============================] - 0s - loss: 0.2186 - val_loss: 0.1921\n",
      "Epoch 97/100\n",
      "3381/3381 [==============================] - 0s - loss: 0.2153 - val_loss: 0.1963\n",
      "Epoch 98/100\n",
      "3381/3381 [==============================] - 0s - loss: 0.2166 - val_loss: 0.1946\n",
      "Epoch 99/100\n",
      "3381/3381 [==============================] - 0s - loss: 0.2222 - val_loss: 0.2138\n",
      "Epoch 100/100\n",
      "3381/3381 [==============================] - 0s - loss: 0.2235 - val_loss: 0.1895\n"
     ]
    },
    {
     "data": {
      "text/plain": [
       "<keras.callbacks.History at 0x19714d26da0>"
      ]
     },
     "execution_count": 42,
     "metadata": {},
     "output_type": "execute_result"
    }
   ],
   "source": [
    "model_distance.fit(X_train, y_train, epochs=100, batch_size=32, validation_data=(X_test, y_test))"
   ]
  },
  {
   "cell_type": "code",
   "execution_count": 48,
   "metadata": {},
   "outputs": [
    {
     "data": {
      "text/plain": [
       "<seaborn.axisgrid.JointGrid at 0x1971b9e5978>"
      ]
     },
     "execution_count": 48,
     "metadata": {},
     "output_type": "execute_result"
    },
    {
     "data": {
      "image/png": "[encoded data removed]",
      "text/plain": [
       "<matplotlib.figure.Figure at 0x1971b9e5cc0>"
      ]
     },
     "metadata": {},
     "output_type": "display_data"
    }
   ],
   "source": [
    "import seaborn as sns\n",
    "sns.jointplot(model_distance.predict(X_test), y_test)"
   ]
  },
  {
   "cell_type": "code",
   "execution_count": 49,
   "metadata": {
    "collapsed": true
   },
   "outputs": [],
   "source": [
    "model_distance.save('model/model_distance.h5')"
   ]
  },
  {
   "cell_type": "markdown",
   "metadata": {},
   "source": [
    "# Direction trainer"
   ]
  },
  {
   "cell_type": "code",
   "execution_count": 3,
   "metadata": {
    "collapsed": true
   },
   "outputs": [],
   "source": [
    "from keras.layers import Dropout, Flatten, Conv2D, MaxPooling2D"
   ]
  },
  {
   "cell_type": "code",
   "execution_count": 6,
   "metadata": {},
   "outputs": [
    {
     "data": {
      "image/png": "[encoded data removed]",
      "text/plain": [
       "<matplotlib.figure.Figure at 0x1971031d6a0>"
      ]
     },
     "metadata": {},
     "output_type": "display_data"
    }
   ],
   "source": [
    "import cv2\n",
    "\n",
    "img = cv2.imread('human_imgs/0_5281.jpg')\n",
    "img = cv2.cvtColor(img, cv2.COLOR_BGR2RGB)\n",
    "plt.imshow(img)"
   ]
  },
  {
   "cell_type": "code",
   "execution_count": 7,
   "metadata": {},
   "outputs": [
    {
     "data": {
      "text/plain": [
       "(100, 50, 3)"
      ]
     },
     "execution_count": 7,
     "metadata": {},
     "output_type": "execute_result"
    }
   ],
   "source": [
    "img.shape"
   ]
  },
  {
   "cell_type": "code",
   "execution_count": 69,
   "metadata": {},
   "outputs": [],
   "source": [
    "imgs = []\n",
    "angles = []\n",
    "import os\n",
    "import numpy as np\n",
    "\n",
    "for jpg in os.listdir('human_imgs/'):\n",
    "    img = cv2.imread('human_imgs/'+jpg)\n",
    "    img = cv2.cvtColor(img, cv2.COLOR_BGR2RGB)\n",
    "    imgs += [img[np.newaxis, :]]\n",
    "    angles += [float(jpg.split('_')[0])]"
   ]
  },
  {
   "cell_type": "code",
   "execution_count": 70,
   "metadata": {},
   "outputs": [
    {
     "name": "stdout",
     "output_type": "stream",
     "text": [
      "(9654, 100, 50, 3)\n",
      "(9654, 1)\n"
     ]
    }
   ],
   "source": [
    "imgs = np.vstack(imgs)\n",
    "angles = np.vstack(angles)\n",
    "print(imgs.shape)\n",
    "print(angles.shape)"
   ]
  },
  {
   "cell_type": "code",
   "execution_count": 76,
   "metadata": {
    "collapsed": true
   },
   "outputs": [],
   "source": [
    "img_train, img_test, angle_train, angle_test = train_test_split(imgs, angles, test_size=0.1)"
   ]
  },
  {
   "cell_type": "code",
   "execution_count": 50,
   "metadata": {},
   "outputs": [
    {
     "name": "stdout",
     "output_type": "stream",
     "text": [
      "_________________________________________________________________\n",
      "Layer (type)                 Output Shape              Param #   \n",
      "=================================================================\n",
      "conv2d_23 (Conv2D)           (None, 48, 48, 96)        4416      \n",
      "_________________________________________________________________\n",
      "max_pooling2d_12 (MaxPooling (None, 24, 24, 96)        0         \n",
      "_________________________________________________________________\n",
      "conv2d_24 (Conv2D)           (None, 20, 20, 256)       614656    \n",
      "_________________________________________________________________\n",
      "max_pooling2d_13 (MaxPooling (None, 10, 10, 256)       0         \n",
      "_________________________________________________________________\n",
      "flatten_5 (Flatten)          (None, 25600)             0         \n",
      "_________________________________________________________________\n",
      "dense_15 (Dense)             (None, 512)               13107712  \n",
      "_________________________________________________________________\n",
      "dropout_7 (Dropout)          (None, 512)               0         \n",
      "_________________________________________________________________\n",
      "dense_16 (Dense)             (None, 1024)              525312    \n",
      "_________________________________________________________________\n",
      "dropout_8 (Dropout)          (None, 1024)              0         \n",
      "_________________________________________________________________\n",
      "dense_17 (Dense)             (None, 1)                 1025      \n",
      "=================================================================\n",
      "Total params: 14,253,121\n",
      "Trainable params: 14,253,121\n",
      "Non-trainable params: 0\n",
      "_________________________________________________________________\n"
     ]
    }
   ],
   "source": [
    "model_direction = Sequential()\n",
    "model_direction.add(Conv2D(96, (5,3), strides=(2,1), input_shape=(100, 50, 3)))\n",
    "model_direction.add(MaxPooling2D(pool_size=(2, 2), strides=(2, 2)))\n",
    "\n",
    "model_direction.add(Conv2D(256, (5,5), strides=(1,1)))\n",
    "model_direction.add(MaxPooling2D(pool_size=(2, 2), strides=(2, 2)))\n",
    "\n",
    "model_direction.add(Flatten())\n",
    "model_direction.add(Dense(512, activation='relu'))\n",
    "model_direction.add(Dropout(0.5))\n",
    "model_direction.add(Dense(1024, activation='relu'))\n",
    "model_direction.add(Dropout(0.5))\n",
    "model_direction.add(Dense(1))\n",
    "\n",
    "model_direction.summary()"
   ]
  },
  {
   "cell_type": "code",
   "execution_count": 79,
   "metadata": {
    "collapsed": true
   },
   "outputs": [
    {
     "name": "stdout",
     "output_type": "stream",
     "text": [
      "Train on 8688 samples, validate on 966 samples\n",
      "Epoch 1/10\n",
      " 256/8688 [..............................] - ETA: 443s - loss: 4557191.3809"
     ]
    },
    {
     "ename": "KeyboardInterrupt",
     "evalue": "",
     "output_type": "error",
     "traceback": [
      "\u001b[1;31m---------------------------------------------------------------------------\u001b[0m",
      "\u001b[1;31mKeyboardInterrupt\u001b[0m                         Traceback (most recent call last)",
      "\u001b[1;32m<ipython-input-79-bd01bc64bc84>\u001b[0m in \u001b[0;36m<module>\u001b[1;34m()\u001b[0m\n\u001b[0;32m      1\u001b[0m model_direction.compile(optimizer='adam',\n\u001b[0;32m      2\u001b[0m                        loss='mse')\n\u001b[1;32m----> 3\u001b[1;33m \u001b[0mmodel_direction\u001b[0m\u001b[1;33m.\u001b[0m\u001b[0mfit\u001b[0m\u001b[1;33m(\u001b[0m\u001b[0mimg_train\u001b[0m\u001b[1;33m,\u001b[0m \u001b[0mangle_train\u001b[0m\u001b[1;33m,\u001b[0m \u001b[0mepochs\u001b[0m\u001b[1;33m=\u001b[0m\u001b[1;36m10\u001b[0m\u001b[1;33m,\u001b[0m \u001b[0mbatch_size\u001b[0m\u001b[1;33m=\u001b[0m\u001b[1;36m128\u001b[0m\u001b[1;33m,\u001b[0m \u001b[0mvalidation_data\u001b[0m\u001b[1;33m=\u001b[0m\u001b[1;33m(\u001b[0m\u001b[0mimg_test\u001b[0m\u001b[1;33m,\u001b[0m \u001b[0mangle_test\u001b[0m\u001b[1;33m)\u001b[0m\u001b[1;33m)\u001b[0m\u001b[1;33m\u001b[0m\u001b[0m\n\u001b[0m",
      "\u001b[1;32mC:\\Users\\kwea123\\Anaconda3\\lib\\site-packages\\keras\\models.py\u001b[0m in \u001b[0;36mfit\u001b[1;34m(self, x, y, batch_size, epochs, verbose, callbacks, validation_split, validation_data, shuffle, class_weight, sample_weight, initial_epoch, **kwargs)\u001b[0m\n\u001b[0;32m    861\u001b[0m                               \u001b[0mclass_weight\u001b[0m\u001b[1;33m=\u001b[0m\u001b[0mclass_weight\u001b[0m\u001b[1;33m,\u001b[0m\u001b[1;33m\u001b[0m\u001b[0m\n\u001b[0;32m    862\u001b[0m                               \u001b[0msample_weight\u001b[0m\u001b[1;33m=\u001b[0m\u001b[0msample_weight\u001b[0m\u001b[1;33m,\u001b[0m\u001b[1;33m\u001b[0m\u001b[0m\n\u001b[1;32m--> 863\u001b[1;33m                               initial_epoch=initial_epoch)\n\u001b[0m\u001b[0;32m    864\u001b[0m \u001b[1;33m\u001b[0m\u001b[0m\n\u001b[0;32m    865\u001b[0m     def evaluate(self, x, y, batch_size=32, verbose=1,\n",
      "\u001b[1;32mC:\\Users\\kwea123\\Anaconda3\\lib\\site-packages\\keras\\engine\\training.py\u001b[0m in \u001b[0;36mfit\u001b[1;34m(self, x, y, batch_size, epochs, verbose, callbacks, validation_split, validation_data, shuffle, class_weight, sample_weight, initial_epoch, **kwargs)\u001b[0m\n\u001b[0;32m   1428\u001b[0m                               \u001b[0mval_f\u001b[0m\u001b[1;33m=\u001b[0m\u001b[0mval_f\u001b[0m\u001b[1;33m,\u001b[0m \u001b[0mval_ins\u001b[0m\u001b[1;33m=\u001b[0m\u001b[0mval_ins\u001b[0m\u001b[1;33m,\u001b[0m \u001b[0mshuffle\u001b[0m\u001b[1;33m=\u001b[0m\u001b[0mshuffle\u001b[0m\u001b[1;33m,\u001b[0m\u001b[1;33m\u001b[0m\u001b[0m\n\u001b[0;32m   1429\u001b[0m                               \u001b[0mcallback_metrics\u001b[0m\u001b[1;33m=\u001b[0m\u001b[0mcallback_metrics\u001b[0m\u001b[1;33m,\u001b[0m\u001b[1;33m\u001b[0m\u001b[0m\n\u001b[1;32m-> 1430\u001b[1;33m                               initial_epoch=initial_epoch)\n\u001b[0m\u001b[0;32m   1431\u001b[0m \u001b[1;33m\u001b[0m\u001b[0m\n\u001b[0;32m   1432\u001b[0m     \u001b[1;32mdef\u001b[0m \u001b[0mevaluate\u001b[0m\u001b[1;33m(\u001b[0m\u001b[0mself\u001b[0m\u001b[1;33m,\u001b[0m \u001b[0mx\u001b[0m\u001b[1;33m,\u001b[0m \u001b[0my\u001b[0m\u001b[1;33m,\u001b[0m \u001b[0mbatch_size\u001b[0m\u001b[1;33m=\u001b[0m\u001b[1;36m32\u001b[0m\u001b[1;33m,\u001b[0m \u001b[0mverbose\u001b[0m\u001b[1;33m=\u001b[0m\u001b[1;36m1\u001b[0m\u001b[1;33m,\u001b[0m \u001b[0msample_weight\u001b[0m\u001b[1;33m=\u001b[0m\u001b[1;32mNone\u001b[0m\u001b[1;33m)\u001b[0m\u001b[1;33m:\u001b[0m\u001b[1;33m\u001b[0m\u001b[0m\n",
      "\u001b[1;32mC:\\Users\\kwea123\\Anaconda3\\lib\\site-packages\\keras\\engine\\training.py\u001b[0m in \u001b[0;36m_fit_loop\u001b[1;34m(self, f, ins, out_labels, batch_size, epochs, verbose, callbacks, val_f, val_ins, shuffle, callback_metrics, initial_epoch)\u001b[0m\n\u001b[0;32m   1077\u001b[0m                 \u001b[0mbatch_logs\u001b[0m\u001b[1;33m[\u001b[0m\u001b[1;34m'size'\u001b[0m\u001b[1;33m]\u001b[0m \u001b[1;33m=\u001b[0m \u001b[0mlen\u001b[0m\u001b[1;33m(\u001b[0m\u001b[0mbatch_ids\u001b[0m\u001b[1;33m)\u001b[0m\u001b[1;33m\u001b[0m\u001b[0m\n\u001b[0;32m   1078\u001b[0m                 \u001b[0mcallbacks\u001b[0m\u001b[1;33m.\u001b[0m\u001b[0mon_batch_begin\u001b[0m\u001b[1;33m(\u001b[0m\u001b[0mbatch_index\u001b[0m\u001b[1;33m,\u001b[0m \u001b[0mbatch_logs\u001b[0m\u001b[1;33m)\u001b[0m\u001b[1;33m\u001b[0m\u001b[0m\n\u001b[1;32m-> 1079\u001b[1;33m                 \u001b[0mouts\u001b[0m \u001b[1;33m=\u001b[0m \u001b[0mf\u001b[0m\u001b[1;33m(\u001b[0m\u001b[0mins_batch\u001b[0m\u001b[1;33m)\u001b[0m\u001b[1;33m\u001b[0m\u001b[0m\n\u001b[0m\u001b[0;32m   1080\u001b[0m                 \u001b[1;32mif\u001b[0m \u001b[1;32mnot\u001b[0m \u001b[0misinstance\u001b[0m\u001b[1;33m(\u001b[0m\u001b[0mouts\u001b[0m\u001b[1;33m,\u001b[0m \u001b[0mlist\u001b[0m\u001b[1;33m)\u001b[0m\u001b[1;33m:\u001b[0m\u001b[1;33m\u001b[0m\u001b[0m\n\u001b[0;32m   1081\u001b[0m                     \u001b[0mouts\u001b[0m \u001b[1;33m=\u001b[0m \u001b[1;33m[\u001b[0m\u001b[0mouts\u001b[0m\u001b[1;33m]\u001b[0m\u001b[1;33m\u001b[0m\u001b[0m\n",
      "\u001b[1;32mC:\\Users\\kwea123\\Anaconda3\\lib\\site-packages\\keras\\backend\\tensorflow_backend.py\u001b[0m in \u001b[0;36m__call__\u001b[1;34m(self, inputs)\u001b[0m\n\u001b[0;32m   2266\u001b[0m         updated = session.run(self.outputs + [self.updates_op],\n\u001b[0;32m   2267\u001b[0m                               \u001b[0mfeed_dict\u001b[0m\u001b[1;33m=\u001b[0m\u001b[0mfeed_dict\u001b[0m\u001b[1;33m,\u001b[0m\u001b[1;33m\u001b[0m\u001b[0m\n\u001b[1;32m-> 2268\u001b[1;33m                               **self.session_kwargs)\n\u001b[0m\u001b[0;32m   2269\u001b[0m         \u001b[1;32mreturn\u001b[0m \u001b[0mupdated\u001b[0m\u001b[1;33m[\u001b[0m\u001b[1;33m:\u001b[0m\u001b[0mlen\u001b[0m\u001b[1;33m(\u001b[0m\u001b[0mself\u001b[0m\u001b[1;33m.\u001b[0m\u001b[0moutputs\u001b[0m\u001b[1;33m)\u001b[0m\u001b[1;33m]\u001b[0m\u001b[1;33m\u001b[0m\u001b[0m\n\u001b[0;32m   2270\u001b[0m \u001b[1;33m\u001b[0m\u001b[0m\n",
      "\u001b[1;32mC:\\Users\\kwea123\\Anaconda3\\lib\\site-packages\\tensorflow\\python\\client\\session.py\u001b[0m in \u001b[0;36mrun\u001b[1;34m(self, fetches, feed_dict, options, run_metadata)\u001b[0m\n\u001b[0;32m    887\u001b[0m     \u001b[1;32mtry\u001b[0m\u001b[1;33m:\u001b[0m\u001b[1;33m\u001b[0m\u001b[0m\n\u001b[0;32m    888\u001b[0m       result = self._run(None, fetches, feed_dict, options_ptr,\n\u001b[1;32m--> 889\u001b[1;33m                          run_metadata_ptr)\n\u001b[0m\u001b[0;32m    890\u001b[0m       \u001b[1;32mif\u001b[0m \u001b[0mrun_metadata\u001b[0m\u001b[1;33m:\u001b[0m\u001b[1;33m\u001b[0m\u001b[0m\n\u001b[0;32m    891\u001b[0m         \u001b[0mproto_data\u001b[0m \u001b[1;33m=\u001b[0m \u001b[0mtf_session\u001b[0m\u001b[1;33m.\u001b[0m\u001b[0mTF_GetBuffer\u001b[0m\u001b[1;33m(\u001b[0m\u001b[0mrun_metadata_ptr\u001b[0m\u001b[1;33m)\u001b[0m\u001b[1;33m\u001b[0m\u001b[0m\n",
      "\u001b[1;32mC:\\Users\\kwea123\\Anaconda3\\lib\\site-packages\\tensorflow\\python\\client\\session.py\u001b[0m in \u001b[0;36m_run\u001b[1;34m(self, handle, fetches, feed_dict, options, run_metadata)\u001b[0m\n\u001b[0;32m   1118\u001b[0m     \u001b[1;32mif\u001b[0m \u001b[0mfinal_fetches\u001b[0m \u001b[1;32mor\u001b[0m \u001b[0mfinal_targets\u001b[0m \u001b[1;32mor\u001b[0m \u001b[1;33m(\u001b[0m\u001b[0mhandle\u001b[0m \u001b[1;32mand\u001b[0m \u001b[0mfeed_dict_tensor\u001b[0m\u001b[1;33m)\u001b[0m\u001b[1;33m:\u001b[0m\u001b[1;33m\u001b[0m\u001b[0m\n\u001b[0;32m   1119\u001b[0m       results = self._do_run(handle, final_targets, final_fetches,\n\u001b[1;32m-> 1120\u001b[1;33m                              feed_dict_tensor, options, run_metadata)\n\u001b[0m\u001b[0;32m   1121\u001b[0m     \u001b[1;32melse\u001b[0m\u001b[1;33m:\u001b[0m\u001b[1;33m\u001b[0m\u001b[0m\n\u001b[0;32m   1122\u001b[0m       \u001b[0mresults\u001b[0m \u001b[1;33m=\u001b[0m \u001b[1;33m[\u001b[0m\u001b[1;33m]\u001b[0m\u001b[1;33m\u001b[0m\u001b[0m\n",
      "\u001b[1;32mC:\\Users\\kwea123\\Anaconda3\\lib\\site-packages\\tensorflow\\python\\client\\session.py\u001b[0m in \u001b[0;36m_do_run\u001b[1;34m(self, handle, target_list, fetch_list, feed_dict, options, run_metadata)\u001b[0m\n\u001b[0;32m   1315\u001b[0m     \u001b[1;32mif\u001b[0m \u001b[0mhandle\u001b[0m \u001b[1;32mis\u001b[0m \u001b[1;32mNone\u001b[0m\u001b[1;33m:\u001b[0m\u001b[1;33m\u001b[0m\u001b[0m\n\u001b[0;32m   1316\u001b[0m       return self._do_call(_run_fn, self._session, feeds, fetches, targets,\n\u001b[1;32m-> 1317\u001b[1;33m                            options, run_metadata)\n\u001b[0m\u001b[0;32m   1318\u001b[0m     \u001b[1;32melse\u001b[0m\u001b[1;33m:\u001b[0m\u001b[1;33m\u001b[0m\u001b[0m\n\u001b[0;32m   1319\u001b[0m       \u001b[1;32mreturn\u001b[0m \u001b[0mself\u001b[0m\u001b[1;33m.\u001b[0m\u001b[0m_do_call\u001b[0m\u001b[1;33m(\u001b[0m\u001b[0m_prun_fn\u001b[0m\u001b[1;33m,\u001b[0m \u001b[0mself\u001b[0m\u001b[1;33m.\u001b[0m\u001b[0m_session\u001b[0m\u001b[1;33m,\u001b[0m \u001b[0mhandle\u001b[0m\u001b[1;33m,\u001b[0m \u001b[0mfeeds\u001b[0m\u001b[1;33m,\u001b[0m \u001b[0mfetches\u001b[0m\u001b[1;33m)\u001b[0m\u001b[1;33m\u001b[0m\u001b[0m\n",
      "\u001b[1;32mC:\\Users\\kwea123\\Anaconda3\\lib\\site-packages\\tensorflow\\python\\client\\session.py\u001b[0m in \u001b[0;36m_do_call\u001b[1;34m(self, fn, *args)\u001b[0m\n\u001b[0;32m   1321\u001b[0m   \u001b[1;32mdef\u001b[0m \u001b[0m_do_call\u001b[0m\u001b[1;33m(\u001b[0m\u001b[0mself\u001b[0m\u001b[1;33m,\u001b[0m \u001b[0mfn\u001b[0m\u001b[1;33m,\u001b[0m \u001b[1;33m*\u001b[0m\u001b[0margs\u001b[0m\u001b[1;33m)\u001b[0m\u001b[1;33m:\u001b[0m\u001b[1;33m\u001b[0m\u001b[0m\n\u001b[0;32m   1322\u001b[0m     \u001b[1;32mtry\u001b[0m\u001b[1;33m:\u001b[0m\u001b[1;33m\u001b[0m\u001b[0m\n\u001b[1;32m-> 1323\u001b[1;33m       \u001b[1;32mreturn\u001b[0m \u001b[0mfn\u001b[0m\u001b[1;33m(\u001b[0m\u001b[1;33m*\u001b[0m\u001b[0margs\u001b[0m\u001b[1;33m)\u001b[0m\u001b[1;33m\u001b[0m\u001b[0m\n\u001b[0m\u001b[0;32m   1324\u001b[0m     \u001b[1;32mexcept\u001b[0m \u001b[0merrors\u001b[0m\u001b[1;33m.\u001b[0m\u001b[0mOpError\u001b[0m \u001b[1;32mas\u001b[0m \u001b[0me\u001b[0m\u001b[1;33m:\u001b[0m\u001b[1;33m\u001b[0m\u001b[0m\n\u001b[0;32m   1325\u001b[0m       \u001b[0mmessage\u001b[0m \u001b[1;33m=\u001b[0m \u001b[0mcompat\u001b[0m\u001b[1;33m.\u001b[0m\u001b[0mas_text\u001b[0m\u001b[1;33m(\u001b[0m\u001b[0me\u001b[0m\u001b[1;33m.\u001b[0m\u001b[0mmessage\u001b[0m\u001b[1;33m)\u001b[0m\u001b[1;33m\u001b[0m\u001b[0m\n",
      "\u001b[1;32mC:\\Users\\kwea123\\Anaconda3\\lib\\site-packages\\tensorflow\\python\\client\\session.py\u001b[0m in \u001b[0;36m_run_fn\u001b[1;34m(session, feed_dict, fetch_list, target_list, options, run_metadata)\u001b[0m\n\u001b[0;32m   1300\u001b[0m           return tf_session.TF_Run(session, options,\n\u001b[0;32m   1301\u001b[0m                                    \u001b[0mfeed_dict\u001b[0m\u001b[1;33m,\u001b[0m \u001b[0mfetch_list\u001b[0m\u001b[1;33m,\u001b[0m \u001b[0mtarget_list\u001b[0m\u001b[1;33m,\u001b[0m\u001b[1;33m\u001b[0m\u001b[0m\n\u001b[1;32m-> 1302\u001b[1;33m                                    status, run_metadata)\n\u001b[0m\u001b[0;32m   1303\u001b[0m \u001b[1;33m\u001b[0m\u001b[0m\n\u001b[0;32m   1304\u001b[0m     \u001b[1;32mdef\u001b[0m \u001b[0m_prun_fn\u001b[0m\u001b[1;33m(\u001b[0m\u001b[0msession\u001b[0m\u001b[1;33m,\u001b[0m \u001b[0mhandle\u001b[0m\u001b[1;33m,\u001b[0m \u001b[0mfeed_dict\u001b[0m\u001b[1;33m,\u001b[0m \u001b[0mfetch_list\u001b[0m\u001b[1;33m)\u001b[0m\u001b[1;33m:\u001b[0m\u001b[1;33m\u001b[0m\u001b[0m\n",
      "\u001b[1;31mKeyboardInterrupt\u001b[0m: "
     ]
    }
   ],
   "source": [
    "model_direction.compile(optimizer='adam',\n",
    "                       loss='mse')\n",
    "model_direction.fit(img_train, angle_train, epochs=10, batch_size=128, validation_data=(img_test, angle_test))"
   ]
  },
  {
   "cell_type": "code",
   "execution_count": null,
   "metadata": {
    "collapsed": true
   },
   "outputs": [],
   "source": []
  }
 ],
 "metadata": {
  "kernelspec": {
   "display_name": "Python 3",
   "language": "python",
   "name": "python3"
  },
  "language_info": {
   "codemirror_mode": {
    "name": "ipython",
    "version": 3
   },
   "file_extension": ".py",
   "mimetype": "text/x-python",
   "name": "python",
   "nbconvert_exporter": "python",
   "pygments_lexer": "ipython3",
   "version": "3.6.1"
  }
 },
 "nbformat": 4,
 "nbformat_minor": 2
}
