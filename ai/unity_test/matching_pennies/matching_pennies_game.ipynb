{
 "cells": [
  {
   "cell_type": "code",
   "execution_count": 1,
   "metadata": {
    "collapsed": true
   },
   "outputs": [],
   "source": [
    "import numpy as np\n",
    "import tensorflow as tf\n",
    "from numpy import newaxis\n",
    "from sklearn.utils import shuffle\n",
    "import matplotlib.pyplot as plt"
   ]
  },
  {
   "cell_type": "code",
   "execution_count": 4,
   "metadata": {
    "collapsed": true
   },
   "outputs": [],
   "source": [
    "class PPOAgent:\n",
    "    def __init__(self, n_actions, n_features, reward_decay=0.99,\n",
    "                 actor_learning_rate=0.01, critic_learning_rate=0.01, learning_rate_decay=0.95,\n",
    "                 ):\n",
    "        self.state_size = n_features\n",
    "        self.action_size = n_actions\n",
    "        self.gamma = reward_decay   # discount rate\n",
    "        self.actor_learning_rate = actor_learning_rate\n",
    "        self.critic_learning_rate = critic_learning_rate # often larger than actor_learning_rate\n",
    "        self.learning_rate_decay = learning_rate_decay\n",
    "        self.batch_size = 64\n",
    "        self.epsilon = 0.2 # used to clip\n",
    "        self.entfact = 1e-3 # entropy factor, to encourage exploration\n",
    "        self.lam = 0.95 # gae factor\n",
    "        self.memory = [] # store (s, a, r) for one agent\n",
    "        self.agents = 5 # number of agents that collect memory\n",
    "        self.history = {} # store the memory for different agents\n",
    "        self.history['states'] = []\n",
    "        self.history['actions'] = []\n",
    "        self.history['discounted_rs'] = []\n",
    "        self.history['advantages'] = []\n",
    "        self._construct_nets()\n",
    "        \n",
    "    def _construct_nets(self):\n",
    "        tf.reset_default_graph()\n",
    "        self.sess = tf.Session()\n",
    "        self.tfs = tf.placeholder(tf.float32, [None, self.state_size], 'state')\n",
    "\n",
    "        # critic\n",
    "        with tf.variable_scope('critic'):\n",
    "            net = tf.layers.dense(self.tfs, 10, tf.nn.relu)\n",
    "            self.v = tf.layers.dense(net, 1)\n",
    "            self.tfdc_r = tf.placeholder(tf.float32, [None, 1], 'discounted_r')\n",
    "            self.closs = tf.reduce_mean(tf.square(self.tfdc_r - self.v))\n",
    "            self.ctrain_op = tf.train.AdamOptimizer(self.critic_learning_rate).minimize(self.closs)\n",
    "\n",
    "        # actor\n",
    "        pi, pi_params = self._build_anet('pi', trainable=True)\n",
    "        oldpi, oldpi_params = self._build_anet('oldpi', trainable=False)\n",
    "        self.pi_probs = tf.nn.softmax(pi)\n",
    "        self.oldpi_probs = tf.nn.softmax(oldpi)\n",
    "        with tf.variable_scope('sample_action'):\n",
    "            self.sample_op = tf.squeeze(tf.multinomial(pi, 1), axis=0)       # choosing action\n",
    "            self.sample_op_old = tf.squeeze(tf.multinomial(oldpi, 1), axis=0)\n",
    "        with tf.variable_scope('update_oldpi'):\n",
    "            self.update_oldpi_op = [oldp.assign(p) for p, oldp in zip(pi_params, oldpi_params)]\n",
    "\n",
    "        self.tfa = tf.placeholder(tf.int32, [None, 1], 'action')\n",
    "        self.tfadv = tf.placeholder(tf.float32, [None, 1], 'advantage')\n",
    "        self.tfa_one_hot = tf.contrib.layers.one_hot_encoding(self.tfa, self.action_size)\n",
    "        with tf.variable_scope('loss'):\n",
    "            with tf.variable_scope('surrogate'):\n",
    "                self.ratio = tf.reduce_sum(self.pi_probs * self.tfa_one_hot) / (tf.reduce_sum(self.oldpi_probs * self.tfa_one_hot)+1e-10)\n",
    "                surr = self.ratio * self.tfadv\n",
    "                surr2 = tf.clip_by_value(self.ratio, 1-self.epsilon, 1+self.epsilon) * self.tfadv\n",
    "                entropy = - tf.reduce_sum(self.pi_probs * tf.log(self.pi_probs + 1e-10))\n",
    "                self.aloss = - tf.reduce_mean(tf.minimum(surr, surr2)) - self.entfact * entropy\n",
    "\n",
    "        with tf.variable_scope('atrain'):\n",
    "            self.atrain_op = tf.train.AdamOptimizer(self.actor_learning_rate).minimize(self.aloss, var_list=pi_params)\n",
    "\n",
    "        self.saver = tf.train.Saver(max_to_keep=None)\n",
    "        \n",
    "        self.sess.run(tf.global_variables_initializer())\n",
    "        \n",
    "    def _build_anet(self, name, trainable):\n",
    "        with tf.variable_scope(name):\n",
    "            net = tf.layers.dense(self.tfs, 10, tf.nn.relu, trainable=trainable)\n",
    "            logits = tf.layers.dense(net, self.action_size, trainable=trainable)\n",
    "        params = tf.get_collection(tf.GraphKeys.GLOBAL_VARIABLES, scope=name)\n",
    "        return logits, params\n",
    "    \n",
    "    def choose_action(self, state, old=False):\n",
    "        if old:\n",
    "            return self.sess.run(self.sample_op_old, {self.tfs: state})[0]\n",
    "        return self.sess.run(self.sample_op, {self.tfs: state})[0]\n",
    "    \n",
    "    def remember(self, state, action, reward):\n",
    "        self.memory += [[state[0], action, reward]]\n",
    "    \n",
    "    def discount_rewards(self, rewards, gamma, value_next=0.0):\n",
    "        discounted_r = np.zeros_like(rewards)\n",
    "        running_add = value_next\n",
    "        for t in reversed(range(0, len(rewards))):\n",
    "            discounted_r[t] = running_add = running_add * gamma + rewards[t]\n",
    "        return discounted_r\n",
    "    \n",
    "    def process_memory(self):\n",
    "        memory = np.vstack(self.memory)\n",
    "        states = np.vstack(memory[:,0])\n",
    "        actions = np.vstack(memory[:,1])\n",
    "        rewards = memory[:,2]\n",
    "        discounted_ep_rs = self.discount_rewards(rewards, self.gamma)[:, newaxis]\n",
    "        value_estimates = self.sess.run(self.v, {self.tfs: states}).flatten()\n",
    "#         value_estimates = self.sess.run(self.v, {self.tfs: np.r_[states, last_next_state[newaxis, :]]}).flatten()\n",
    "#         last_value_estimate = self.sess.run(self.v, {self.tfs: , self.obs: })[0]\n",
    "        value_estimates = np.append(value_estimates, 0)\n",
    "        delta_t = rewards + self.gamma * value_estimates[1:] - value_estimates[:-1]\n",
    "        advs = self.discount_rewards(delta_t, self.gamma * self.lam)[:, newaxis] #gae\n",
    "        last = states.shape[0]\n",
    "        self.history['states'] += [states[-last:]]\n",
    "        self.history['actions'] += [actions[-last:]]\n",
    "        self.history['discounted_rs'] += [discounted_ep_rs[-last:]]\n",
    "        self.history['advantages'] += [advs[-last:]]\n",
    "        self.memory = [] # empty the memory\n",
    "    \n",
    "    def replay(self):\n",
    "        self.sess.run(self.update_oldpi_op)\n",
    "        \n",
    "        s = np.vstack(self.history['states'])\n",
    "        ac = np.vstack(self.history['actions'])\n",
    "        dc_r = np.vstack(self.history['discounted_rs'])\n",
    "        ad = np.vstack(self.history['advantages'])\n",
    "        \n",
    "        for _ in range(10): # update K epochs\n",
    "            s, ac, dc_r, ad = shuffle(s, ac, dc_r, ad)\n",
    "            for l in range(s.shape[0]//self.batch_size):\n",
    "                start = l * self.batch_size\n",
    "                end = (l + 1) * self.batch_size\n",
    "                self.sess.run(self.atrain_op, {self.tfs: s[start:end], self.tfa: ac[start:end], self.tfadv: ad[start:end]})\n",
    "                self.sess.run(self.ctrain_op, {self.tfs: s[start:end], self.tfdc_r: dc_r[start:end]})\n",
    "            if s.shape[0] % self.batch_size != 0:\n",
    "                res = s.shape[0] % self.batch_size\n",
    "                self.sess.run(self.atrain_op, {self.tfs: s[-res:], self.tfa: ac[-res:], self.tfadv: ad[-res:]})\n",
    "                self.sess.run(self.ctrain_op, {self.tfs: s[-res:], self.tfdc_r: dc_r[-res:]})\n",
    "#         self.actor_learning_rate *= self.learning_rate_decay\n",
    "#         self.critic_learning_rate *= self.learning_rate_decay\n",
    "        \n",
    "        for key in self.history:\n",
    "            self.history[key] = [] # empty the history"
   ]
  },
  {
   "cell_type": "code",
   "execution_count": 5,
   "metadata": {},
   "outputs": [],
   "source": [
    "agent = PPOAgent(n_actions=2, n_features=2, actor_learning_rate=1e-5, critic_learning_rate=1e-5)"
   ]
  },
  {
   "cell_type": "markdown",
   "metadata": {},
   "source": [
    "# The first player (state = [0,1]) wins if their coins match"
   ]
  },
  {
   "cell_type": "markdown",
   "metadata": {},
   "source": [
    "### If the second player always plays the same side (side 0)"
   ]
  },
  {
   "cell_type": "code",
   "execution_count": 6,
   "metadata": {},
   "outputs": [],
   "source": [
    "oppo = 0\n",
    "state = [[0,1]]\n",
    "p = agent.sess.run(agent.pi_probs, {agent.tfs: state})[0]\n",
    "proba0 = [p[0]]\n",
    "proba1 = [p[1]]\n",
    "for ep in range(2000):\n",
    "    action = agent.choose_action(state)\n",
    "    if action == oppo:\n",
    "        reward = 1\n",
    "    else:\n",
    "        reward = -1\n",
    "    agent.remember(state, [action], reward)\n",
    "    agent.process_memory()\n",
    "    if (ep+1) % 5 == 0:\n",
    "        agent.replay()\n",
    "    if (ep+1) % 10 == 0:\n",
    "        p = agent.sess.run(agent.pi_probs, {agent.tfs: state})[0]\n",
    "        proba0 += [p[0]]\n",
    "        proba1 += [p[1]]"
   ]
  },
  {
   "cell_type": "code",
   "execution_count": 7,
   "metadata": {
    "scrolled": false
   },
   "outputs": [
    {
     "data": {
      "image/png": "[encoded data removed]",
      "text/plain": [
       "<matplotlib.figure.Figure at 0x1da4975ea90>"
      ]
     },
     "metadata": {},
     "output_type": "display_data"
    }
   ],
   "source": [
    "plt.plot(proba0, label=\"P(0)\")\n",
    "plt.plot(proba1, label=\"P(1)\")\n",
    "plt.legend(loc='best')\n",
    "plt.show()"
   ]
  },
  {
   "cell_type": "markdown",
   "metadata": {},
   "source": [
    "### The probability of choosing 0 (P(0)) increases"
   ]
  },
  {
   "cell_type": "markdown",
   "metadata": {},
   "source": [
    "### Now, if the opponent changes the strategy, always plays side 1"
   ]
  },
  {
   "cell_type": "code",
   "execution_count": 6,
   "metadata": {
    "collapsed": true
   },
   "outputs": [],
   "source": [
    "oppo = 1\n",
    "state = [[0,1]]\n",
    "p = agent.sess.run(agent.pi_probs, {agent.tfs: state})[0]\n",
    "proba0 = [p[0]]\n",
    "proba1 = [p[1]]\n",
    "for ep in range(2000):\n",
    "    action = agent.choose_action(state)\n",
    "    if action == oppo:\n",
    "        reward = 1\n",
    "    else:\n",
    "        reward = -1\n",
    "    agent.remember(state, [action], reward)\n",
    "    agent.process_memory()\n",
    "    if (ep+1) % 5 == 0:\n",
    "        agent.replay()\n",
    "    if (ep+1) % 10 == 0:\n",
    "        p = agent.sess.run(agent.pi_probs, {agent.tfs: state})[0]\n",
    "        proba0 += [p[0]]\n",
    "        proba1 += [p[1]]"
   ]
  },
  {
   "cell_type": "code",
   "execution_count": 7,
   "metadata": {},
   "outputs": [
    {
     "data": {
      "image/png": "[encoded data removed]",
      "text/plain": [
       "<matplotlib.figure.Figure at 0x1fa40b336a0>"
      ]
     },
     "metadata": {},
     "output_type": "display_data"
    }
   ],
   "source": [
    "plt.plot(proba0, label=\"P(0)\")\n",
    "plt.plot(proba1, label=\"P(1)\")\n",
    "plt.legend(loc='best')\n",
    "plt.show()"
   ]
  },
  {
   "cell_type": "markdown",
   "metadata": {},
   "source": [
    "### The probability of choosing 1 (P(1)) increases"
   ]
  },
  {
   "cell_type": "markdown",
   "metadata": {},
   "source": [
    "## Now, play against itself (The second player's state is [1,0])"
   ]
  },
  {
   "cell_type": "code",
   "execution_count": 12,
   "metadata": {},
   "outputs": [
    {
     "name": "stdout",
     "output_type": "stream",
     "text": [
      "episode 10000\n",
      "episode 20000\n",
      "episode 30000\n",
      "episode 40000\n",
      "episode 50000\n",
      "episode 60000\n",
      "episode 70000\n",
      "episode 80000\n",
      "episode 90000\n",
      "episode 100000\n",
      "0.49954\n"
     ]
    }
   ],
   "source": [
    "agent.critic_learning_rate = agent.actor_learning_rate = 1e-3\n",
    "state = [[0,1]]\n",
    "oppo_state = [[1,0]]\n",
    "p = agent.sess.run(agent.pi_probs, {agent.tfs: state})[0]\n",
    "p_ = agent.sess.run(agent.pi_probs, {agent.tfs: oppo_state})[0]\n",
    "# player1_proba0 = [p[0]]\n",
    "# player2_proba0 = [p_[0]]\n",
    "p1w = 0\n",
    "eps = 100000\n",
    "\n",
    "for ep in range(eps):\n",
    "    if (ep+1) % 10000 == 0:\n",
    "        print(\"episode\", ep+1)\n",
    "    ran = np.random.uniform(0,1,1)\n",
    "    old = ran[0] > 0.5\n",
    "    action = agent.choose_action(state, old=old)\n",
    "    oppo_action = agent.choose_action(oppo_state, old=not old)\n",
    "    if action == oppo_action:\n",
    "        reward = 1\n",
    "        oppo_reward = -1\n",
    "        p1w += 1\n",
    "    else:\n",
    "        reward = -1\n",
    "        oppo_reward = 1\n",
    "    if not old:\n",
    "        agent.remember(state, [action], reward)\n",
    "        agent.process_memory()\n",
    "    else:\n",
    "        agent.remember(oppo_state, [oppo_action], oppo_reward)\n",
    "        agent.process_memory()\n",
    "    if (ep+1) % 2000 == 0:\n",
    "        agent.replay()\n",
    "        p = agent.sess.run(agent.pi_probs, {agent.tfs: state})[0]\n",
    "        p_ = agent.sess.run(agent.pi_probs, {agent.tfs: oppo_state})[0]\n",
    "        player1_proba0 += [p[0]]\n",
    "        player2_proba0 += [p_[0]]\n",
    "print(p1w/eps)"
   ]
  },
  {
   "cell_type": "code",
   "execution_count": 13,
   "metadata": {},
   "outputs": [
    {
     "data": {
      "image/png": "[encoded data removed]",
      "text/plain": [
       "<matplotlib.figure.Figure at 0x1da497dcfd0>"
      ]
     },
     "metadata": {},
     "output_type": "display_data"
    }
   ],
   "source": [
    "plt.plot(player1_proba0, label=\"P1(0)\")\n",
    "plt.plot(player2_proba0, label=\"P2(0)\")\n",
    "plt.legend(loc='best')\n",
    "plt.show()"
   ]
  },
  {
   "cell_type": "code",
   "execution_count": null,
   "metadata": {
    "collapsed": true
   },
   "outputs": [],
   "source": []
  }
 ],
 "metadata": {
  "kernelspec": {
   "display_name": "Python 3",
   "language": "python",
   "name": "python3"
  },
  "language_info": {
   "codemirror_mode": {
    "name": "ipython",
    "version": 3
   },
   "file_extension": ".py",
   "mimetype": "text/x-python",
   "name": "python",
   "nbconvert_exporter": "python",
   "pygments_lexer": "ipython3",
   "version": "3.6.1"
  }
 },
 "nbformat": 4,
 "nbformat_minor": 2
}
