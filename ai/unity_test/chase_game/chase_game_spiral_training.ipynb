{
 "cells": [
  {
   "cell_type": "code",
   "execution_count": 1,
   "metadata": {
    "collapsed": true
   },
   "outputs": [],
   "source": [
    "import numpy as np\n",
    "import tensorflow as tf\n",
    "from numpy import newaxis\n",
    "from sklearn.utils import shuffle\n",
    "import matplotlib.pyplot as plt\n",
    "from unityagents import UnityEnvironment"
   ]
  },
  {
   "cell_type": "code",
   "execution_count": 2,
   "metadata": {
    "collapsed": true
   },
   "outputs": [],
   "source": [
    "class PPOAgent:\n",
    "    def __init__(self, n_actions, n_features, action_low=-1, action_high=1, reward_decay=0.99,\n",
    "                 actor_learning_rate=0.01, critic_learning_rate=0.01, learning_rate_decay=0.95,\n",
    "                 ):\n",
    "        self.state_size = n_features\n",
    "        self.action_size = n_actions\n",
    "        self.action_low = action_low\n",
    "        self.action_high = action_high\n",
    "        self.gamma = reward_decay   # discount rate\n",
    "        self.actor_learning_rate = actor_learning_rate\n",
    "        self.critic_learning_rate = critic_learning_rate # often larger than actor_learning_rate\n",
    "        self.learning_rate_decay = learning_rate_decay\n",
    "        self.batch_size = 64\n",
    "        self.epsilon = 0.2 # used to clip\n",
    "        self.entfact = 1e-3 # entropy factor, to encourage exploration\n",
    "        self.lam = 0.95 # gae factor\n",
    "        self.memory = [] # store (s, a, r) for one agent\n",
    "        self.agents = 5 # number of agents that collect memory\n",
    "        self.history = {} # store the memory for different agents\n",
    "        self.history['states'] = []\n",
    "        self.history['actions'] = []\n",
    "        self.history['discounted_rs'] = []\n",
    "        self.history['advantages'] = []\n",
    "        self._construct_nets()\n",
    "        \n",
    "    def _construct_nets(self):\n",
    "        tf.reset_default_graph()\n",
    "        self.sess = tf.Session()\n",
    "        self.tfs = tf.placeholder(tf.float32, [None, self.state_size], 'state')\n",
    "\n",
    "        # critic\n",
    "        with tf.variable_scope('critic'):\n",
    "            net = tf.layers.dense(self.tfs, 400, tf.nn.relu)\n",
    "            net = tf.layers.dense(net, 50, tf.nn.relu)\n",
    "#             net = tf.layers.dense(net, 1024, tf.nn.relu)\n",
    "            self.v = tf.layers.dense(net, 1)\n",
    "            self.tfdc_r = tf.placeholder(tf.float32, [None, 1], 'discounted_r')\n",
    "            self.closs = tf.reduce_mean(tf.square(self.tfdc_r - self.v))\n",
    "            self.ctrain_op = tf.train.AdamOptimizer(self.critic_learning_rate).minimize(self.closs)\n",
    "\n",
    "        # actor\n",
    "        pi, pi_params = self._build_anet('pi', trainable=True)\n",
    "        test_pi = tf.distributions.Normal(loc=pi.mean(), scale=tf.zeros_like(pi.stddev()))\n",
    "        oldpi, oldpi_params = self._build_anet('oldpi', trainable=False)\n",
    "        with tf.variable_scope('sample_action'):\n",
    "            self.sample_op = tf.squeeze(pi.sample(1), axis=0)       # choosing action\n",
    "            self.sample_test = tf.squeeze(test_pi.sample(1), axis=0) # deterministic action in test\n",
    "        with tf.variable_scope('update_oldpi'):\n",
    "            self.update_oldpi_op = [oldp.assign(p) for p, oldp in zip(pi_params, oldpi_params)]\n",
    "\n",
    "        self.tfa = tf.placeholder(tf.float32, [None, self.action_size], 'action')\n",
    "        self.tfadv = tf.placeholder(tf.float32, [None, 1], 'advantage')\n",
    "        with tf.variable_scope('loss'):\n",
    "            with tf.variable_scope('surrogate'):\n",
    "                self.ratio = pi.prob(self.tfa) / (oldpi.prob(self.tfa)+1e-10)\n",
    "                surr = self.ratio * self.tfadv\n",
    "                surr2 = tf.clip_by_value(self.ratio, 1-self.epsilon, 1+self.epsilon) * self.tfadv\n",
    "                self.aloss = - tf.reduce_mean(tf.minimum(surr, surr2)) - self.entfact * tf.reduce_mean(pi.entropy())\n",
    "\n",
    "        with tf.variable_scope('atrain'):\n",
    "            self.atrain_op = tf.train.AdamOptimizer(self.actor_learning_rate).minimize(self.aloss, var_list=pi_params)\n",
    "\n",
    "        self.saver = tf.train.Saver(max_to_keep=None)\n",
    "        \n",
    "        self.sess.run(tf.global_variables_initializer())\n",
    "        \n",
    "    def _build_anet(self, name, trainable):\n",
    "        with tf.variable_scope(name):\n",
    "            net = tf.layers.dense(self.tfs, 400, tf.nn.relu, trainable=trainable)\n",
    "#             net = tf.layers.dense(net, 1024, tf.nn.relu, trainable=trainable)\n",
    "            net = tf.layers.dense(net, 50, tf.nn.relu, trainable=trainable)\n",
    "            mu = max(np.abs(self.action_low), np.abs(self.action_high)) * tf.layers.dense(net, self.action_size, tf.nn.tanh, trainable=trainable)\n",
    "            sigma = tf.layers.dense(net, self.action_size, tf.nn.softplus, trainable=trainable)\n",
    "            norm_dist = tf.distributions.Normal(loc=mu, scale=sigma)\n",
    "        params = tf.get_collection(tf.GraphKeys.GLOBAL_VARIABLES, scope=name)\n",
    "        return norm_dist, params\n",
    "    \n",
    "    def choose_action(self, state, train=True): # normal distribution\n",
    "        if train:\n",
    "            a = self.sess.run(self.sample_op, {self.tfs: state})[0]\n",
    "        else:\n",
    "            a = self.sess.run(self.sample_test, {self.tfs: state})[0]\n",
    "        return np.clip(a, self.action_low, self.action_high)\n",
    "    \n",
    "    def remember(self, state, action, reward, next_state):\n",
    "        self.memory += [[state[0], action, reward, next_state[0]]]\n",
    "    \n",
    "    def discount_rewards(self, rewards, gamma, value_next=0.0):\n",
    "        discounted_r = np.zeros_like(rewards)\n",
    "        running_add = value_next\n",
    "        for t in reversed(range(0, len(rewards))):\n",
    "            discounted_r[t] = running_add = running_add * gamma + rewards[t]\n",
    "        return discounted_r\n",
    "    \n",
    "    def process_memory(self):\n",
    "        memory = np.vstack(self.memory)\n",
    "        states = np.vstack(memory[:,0])\n",
    "        actions = np.vstack(memory[:,1])\n",
    "        rewards = memory[:,2]\n",
    "        last_next_state = memory[:,3][-1]\n",
    "        discounted_ep_rs = self.discount_rewards(rewards, self.gamma)[:, newaxis]\n",
    "        value_estimates = self.sess.run(self.v, {self.tfs: states}).flatten()\n",
    "#         value_estimates = self.sess.run(self.v, {self.tfs: np.r_[states, last_next_state[newaxis, :]]}).flatten()\n",
    "#         last_value_estimate = self.sess.run(self.v, {self.tfs: , self.obs: })[0]\n",
    "        value_estimates = np.append(value_estimates, 0)\n",
    "        delta_t = rewards + self.gamma * value_estimates[1:] - value_estimates[:-1]\n",
    "        advs = self.discount_rewards(delta_t, self.gamma * self.lam)[:, newaxis] #gae\n",
    "        last = states.shape[0]\n",
    "        self.history['states'] += [states[-last:]]\n",
    "        self.history['actions'] += [actions[-last:]]\n",
    "        self.history['discounted_rs'] += [discounted_ep_rs[-last:]]\n",
    "        self.history['advantages'] += [advs[-last:]]\n",
    "        self.memory = [] # empty the memory\n",
    "    \n",
    "    def replay(self):\n",
    "        self.sess.run(self.update_oldpi_op)\n",
    "        \n",
    "        s = np.vstack(self.history['states'])\n",
    "        ac = np.vstack(self.history['actions'])\n",
    "        dc_r = np.vstack(self.history['discounted_rs'])\n",
    "        ad = np.vstack(self.history['advantages'])\n",
    "#         ad = (ad-ad.mean())/ad.std()\n",
    "        \n",
    "        for _ in range(10): # update K epochs\n",
    "            s, ac, dc_r, ad = shuffle(s, ac, dc_r, ad)\n",
    "            for l in range(s.shape[0]//self.batch_size):\n",
    "                start = l * self.batch_size\n",
    "                end = (l + 1) * self.batch_size\n",
    "                self.sess.run(self.atrain_op, {self.tfs: s[start:end], self.tfa: ac[start:end], self.tfadv: ad[start:end]})\n",
    "                self.sess.run(self.ctrain_op, {self.tfs: s[start:end], self.tfdc_r: dc_r[start:end]})\n",
    "            if s.shape[0] % self.batch_size != 0:\n",
    "                res = s.shape[0] % self.batch_size\n",
    "                self.sess.run(self.atrain_op, {self.tfs: s[-res:], self.tfa: ac[-res:], self.tfadv: ad[-res:]})\n",
    "                self.sess.run(self.ctrain_op, {self.tfs: s[-res:], self.tfdc_r: dc_r[-res:]})\n",
    "#         self.actor_learning_rate *= self.learning_rate_decay\n",
    "#         self.critic_learning_rate *= self.learning_rate_decay\n",
    "        \n",
    "        for key in self.history:\n",
    "            self.history[key] = [] # empty the history"
   ]
  },
  {
   "cell_type": "code",
   "execution_count": 3,
   "metadata": {},
   "outputs": [
    {
     "name": "stderr",
     "output_type": "stream",
     "text": [
      "INFO:unityagents.environment:\n",
      "'Academy' started successfully!\n"
     ]
    },
    {
     "name": "stdout",
     "output_type": "stream",
     "text": [
      "Unity Academy name: Academy\n",
      "        Number of brains: 1\n",
      "        Reset Parameters :\n",
      "\t\t\n",
      "Unity brain name: Brain\n",
      "        Number of observations (per agent): 0\n",
      "        State space type: continuous\n",
      "        State space size (per agent): 6\n",
      "        Action space type: continuous\n",
      "        Action space size (per agent): 2\n",
      "        Memory space size (per agent): 0\n",
      "        Action descriptions: , \n",
      "Agent 1's state looks like: \n",
      "[ 1.   0.   0.8  0.1 -1.2 -0.1]\n",
      "Agent 2's state looks like: \n",
      "[ 0.   1.   0.8  0.1 -1.2 -0.1]\n"
     ]
    }
   ],
   "source": [
    "env_name = \"chase_game\"\n",
    "env = UnityEnvironment(file_name=env_name)\n",
    "\n",
    "# Examine environment parameters\n",
    "print(str(env))\n",
    "\n",
    "# Set the default brain to work with\n",
    "default_brain = env.brain_names[0]\n",
    "brain = env.brains[default_brain]\n",
    "\n",
    "# Reset the environment\n",
    "env_info = env.reset(train_mode=False)[default_brain]\n",
    "    \n",
    "# Examine the state space for the default brain\n",
    "for i in range(env_info.states.shape[0]):\n",
    "    print(\"Agent {}'s state looks like: \\n{}\".format(i+1, env_info.states[i]))"
   ]
  },
  {
   "cell_type": "code",
   "execution_count": 4,
   "metadata": {},
   "outputs": [],
   "source": [
    "agent = PPOAgent(n_actions=2,\n",
    "                n_features=6,\n",
    "                action_high=1,\n",
    "                action_low=-1,\n",
    "                actor_learning_rate=1e-5,\n",
    "                critic_learning_rate=2e-5,\n",
    "                reward_decay=0.98\n",
    "                )\n",
    "rewards1 = []\n",
    "rewards2 = []"
   ]
  },
  {
   "cell_type": "markdown",
   "metadata": {},
   "source": [
    "# Train chaser using fixed dodger"
   ]
  },
  {
   "cell_type": "code",
   "execution_count": 6,
   "metadata": {},
   "outputs": [
    {
     "name": "stdout",
     "output_type": "stream",
     "text": [
      "INFO:tensorflow:model/model_chaseronly_1000.ckpt is not in all_model_checkpoint_paths. Manually adding it.: chaser : 7.62, dodger : 0.00 344 rewards: chaser : 9.63, dodger : 0.00393 rewards: chaser : 6.71, dodger : 0.00 409 rewards: chaser : 8.17, dodger : 0.00 443 rewards: chaser : 8.29, dodger : 0.00 528 rewards: chaser : 7.93, dodger : 0.00 693 rewards: chaser : 8.99, dodger : 0.00 744 rewards: chaser : 9.57, dodger : 0.00 747 rewards: chaser : 9.76, dodger : 0.00 778 rewards: chaser : 8.61, dodger : 0.00 789 rewards: chaser : -10.12, dodger : 0.00rewards: chaser : 9.47, dodger : 0.00 rewards: chaser : 9.57, dodger : 0.00 901 rewards: chaser : 8.88, dodger : 0.00 938 rewards: chaser : 7.67, dodger : 0.00 964 rewards: chaser : 6.66, dodger : 0.00 966 rewards: chaser : 9.20, dodger : 0.00 995 rewards: chaser : 7.84, dodger : 0.00\n"
     ]
    },
    {
     "name": "stderr",
     "output_type": "stream",
     "text": [
      "INFO:tensorflow:model/model_chaseronly_1000.ckpt is not in all_model_checkpoint_paths. Manually adding it.\n"
     ]
    },
    {
     "name": "stdout",
     "output_type": "stream",
     "text": [
      "\n",
      "\n",
      "finished learning!\n"
     ]
    }
   ],
   "source": [
    "# PPO\n",
    "n_episodes = 1000\n",
    "\n",
    "# agent.saver.restore(agent.sess, \"model/model_bipedal2-2-10000.ckpt\")\n",
    "for i_episode in range(n_episodes):\n",
    "    env_info = env.reset(train_mode=True)[default_brain]\n",
    "    state1 = [env_info.states[0]]\n",
    "#     state2 = [env_info.states[1]]\n",
    "    r1 = r2 = 0\n",
    "    while True:\n",
    "        action1 = agent.choose_action(state1)\n",
    "#         action2 = agent.choose_action(state2)\n",
    "        action2 = np.array([0,0]) # fixed dodger\n",
    "        env_info = env.step([action1, action2])[default_brain]\n",
    "        next_state1 = [env_info.states[0]]\n",
    "#         next_state2 = [env_info.states[1]]\n",
    "        reward1 = env_info.rewards[0]\n",
    "#         reward2 = env_info.rewards[1]\n",
    "        done = env_info.local_done[0] or env_info.local_done[1]\n",
    "        if not env_info.local_done[0] and env_info.local_done[1]: # dodger falls but chaser doesn't\n",
    "            reward1 += 10\n",
    "        r1 += reward1\n",
    "#         r2 += reward2\n",
    "        agent.remember(state1, action1, reward1, next_state1)\n",
    "#         agent.remember(state2, action2, reward2, next_state2)\n",
    "        state1 = next_state1\n",
    "#         state2 = next_state2\n",
    "        if done:\n",
    "            print(\"episode:\", i_episode+1, \"rewards: chaser : %.2f, dodger : %.2f\" % (r1, r2), end=\"\\r\")\n",
    "            agent.process_memory()\n",
    "            rewards1 += [r1]\n",
    "#             rewards2 += [r2]\n",
    "            break\n",
    "    if (i_episode+1) % agent.agents == 0: # update every n_agent episodes\n",
    "        agent.replay()\n",
    "    if (i_episode+1) % 1000 == 0:\n",
    "        agent.saver.save(agent.sess, \"model/model_chaseronly_\"+str(i_episode+1)+\".ckpt\");\n",
    "print(\"\\n\")\n",
    "print(\"finished learning!\")"
   ]
  },
  {
   "cell_type": "code",
   "execution_count": 7,
   "metadata": {},
   "outputs": [
    {
     "name": "stdout",
     "output_type": "stream",
     "text": [
      "INFO:tensorflow:Restoring parameters from model/model_chaseronly_1000.ckpt\n"
     ]
    },
    {
     "name": "stderr",
     "output_type": "stream",
     "text": [
      "INFO:tensorflow:Restoring parameters from model/model_chaseronly_1000.ckpt\n"
     ]
    },
    {
     "name": "stdout",
     "output_type": "stream",
     "text": [
      "episode: 20 rewards: chaser : 6.11, dodger : 0.00\n",
      "\n",
      "finished testing!\n"
     ]
    }
   ],
   "source": [
    "#ppo\n",
    "n_episodes = 20\n",
    "\n",
    "# test_rewards = []\n",
    "agent.saver.restore(agent.sess, \"model/model_chaseronly_1000.ckpt\")\n",
    "for i_episode in range(n_episodes):\n",
    "    env_info = env.reset(train_mode=False)[default_brain]\n",
    "    state1 = [env_info.states[0]]\n",
    "#     state2 = [env_info.states[1]]\n",
    "    r1 = r2 = 0\n",
    "    while True:\n",
    "        action1 = agent.choose_action(state1)\n",
    "#         action2 = agent.choose_action(state2)\n",
    "        action2 = np.array([0,0])\n",
    "        env_info = env.step([action1, action2])[default_brain]\n",
    "        next_state1 = [env_info.states[0]]\n",
    "#         next_state2 = [env_info.states[1]]\n",
    "        reward1 = env_info.rewards[0]\n",
    "#         reward2 = env_info.rewards[1]\n",
    "        done = env_info.local_done[0] or env_info.local_done[1]\n",
    "        if not env_info.local_done[0] and env_info.local_done[1]: # dodger falls but chaser doesn't\n",
    "            reward1 += 10\n",
    "        r1 += reward1\n",
    "#         r2 += reward2\n",
    "        state1 = next_state1\n",
    "#         state2 = next_state2\n",
    "        if done:\n",
    "            print(\"episode:\", i_episode+1, \"rewards: chaser : %.2f, dodger : %.2f\" % (r1, r2), end=\"\\r\")\n",
    "#             test_rewards += [r]\n",
    "            break\n",
    "print(\"\\n\")\n",
    "print(\"finished testing!\")"
   ]
  },
  {
   "cell_type": "markdown",
   "metadata": {},
   "source": [
    "# Plot rewards"
   ]
  },
  {
   "cell_type": "code",
   "execution_count": 5,
   "metadata": {
    "collapsed": true
   },
   "outputs": [],
   "source": [
    "def moving_average(a, n=3) :\n",
    "    ret = np.cumsum(a, dtype=float)\n",
    "    ret[n:] = ret[n:] - ret[:-n]\n",
    "    return ret[n-1:] / n"
   ]
  },
  {
   "cell_type": "code",
   "execution_count": 8,
   "metadata": {
    "scrolled": true
   },
   "outputs": [
    {
     "data": {
      "image/png": "[encoded data removed]",
      "text/plain": [
       "<matplotlib.figure.Figure at 0x13aafbc5e80>"
      ]
     },
     "metadata": {},
     "output_type": "display_data"
    },
    {
     "name": "stdout",
     "output_type": "stream",
     "text": [
      "5.56662279977\n"
     ]
    }
   ],
   "source": [
    "# plt.plot(rewards1)\n",
    "plt.plot(moving_average(rewards1, 100))\n",
    "plt.show()\n",
    "print(np.mean(rewards1))"
   ]
  },
  {
   "cell_type": "markdown",
   "metadata": {},
   "source": [
    "# Train dodger using good chaser"
   ]
  },
  {
   "cell_type": "code",
   "execution_count": 6,
   "metadata": {
    "collapsed": true
   },
   "outputs": [],
   "source": [
    "agent2 = PPOAgent(n_actions=2,\n",
    "                n_features=6,\n",
    "                action_high=1,\n",
    "                action_low=-1,\n",
    "                actor_learning_rate=1e-5,\n",
    "                critic_learning_rate=2e-5,\n",
    "                reward_decay=0.98\n",
    "                )"
   ]
  },
  {
   "cell_type": "code",
   "execution_count": 26,
   "metadata": {},
   "outputs": [
    {
     "name": "stdout",
     "output_type": "stream",
     "text": [
      "INFO:tensorflow:model/model_dodger_2000.ckpt is not in all_model_checkpoint_paths. Manually adding it.ewards: chaser : 9.07, dodger : -9.13\n"
     ]
    },
    {
     "name": "stderr",
     "output_type": "stream",
     "text": [
      "INFO:tensorflow:model/model_dodger_2000.ckpt is not in all_model_checkpoint_paths. Manually adding it.\n"
     ]
    },
    {
     "name": "stdout",
     "output_type": "stream",
     "text": [
      "INFO:tensorflow:model/model_dodger_4000.ckpt is not in all_model_checkpoint_paths. Manually adding it.\n"
     ]
    },
    {
     "name": "stderr",
     "output_type": "stream",
     "text": [
      "INFO:tensorflow:model/model_dodger_4000.ckpt is not in all_model_checkpoint_paths. Manually adding it.\n"
     ]
    },
    {
     "name": "stdout",
     "output_type": "stream",
     "text": [
      "INFO:tensorflow:model/model_dodger_6000.ckpt is not in all_model_checkpoint_paths. Manually adding it.\n"
     ]
    },
    {
     "name": "stderr",
     "output_type": "stream",
     "text": [
      "INFO:tensorflow:model/model_dodger_6000.ckpt is not in all_model_checkpoint_paths. Manually adding it.\n"
     ]
    },
    {
     "name": "stdout",
     "output_type": "stream",
     "text": [
      "INFO:tensorflow:model/model_dodger_8000.ckpt is not in all_model_checkpoint_paths. Manually adding it.\n"
     ]
    },
    {
     "name": "stderr",
     "output_type": "stream",
     "text": [
      "INFO:tensorflow:model/model_dodger_8000.ckpt is not in all_model_checkpoint_paths. Manually adding it.\n"
     ]
    },
    {
     "name": "stdout",
     "output_type": "stream",
     "text": [
      "INFO:tensorflow:model/model_dodger_10000.ckpt is not in all_model_checkpoint_paths. Manually adding it.\n"
     ]
    },
    {
     "name": "stderr",
     "output_type": "stream",
     "text": [
      "INFO:tensorflow:model/model_dodger_10000.ckpt is not in all_model_checkpoint_paths. Manually adding it.\n"
     ]
    },
    {
     "name": "stdout",
     "output_type": "stream",
     "text": [
      "\n",
      "\n",
      "finished learning!\n"
     ]
    }
   ],
   "source": [
    "# PPO\n",
    "n_episodes = 10000\n",
    "\n",
    "# agent.saver.restore(agent.sess, \"model/model_chaseronly_1000.ckpt\")\n",
    "for i_episode in range(n_episodes):\n",
    "    env_info = env.reset(train_mode=True)[default_brain]\n",
    "    state1 = [env_info.states[0]]\n",
    "    state2 = [env_info.states[1]]\n",
    "    r1 = r2 = 0\n",
    "    while True:\n",
    "        action1 = agent.choose_action(state1, train=False)\n",
    "        action2 = agent2.choose_action(state2)\n",
    "#         action2 = np.array([0,0])\n",
    "        env_info = env.step([action1, action2])[default_brain]\n",
    "        next_state1 = [env_info.states[0]]\n",
    "        next_state2 = [env_info.states[1]]\n",
    "        reward1 = env_info.rewards[0]\n",
    "        reward2 = env_info.rewards[1]\n",
    "        done = env_info.local_done[0] or env_info.local_done[1]\n",
    "        if not env_info.local_done[0] and env_info.local_done[1]: # dodger falls but chaser doesn't\n",
    "            reward1 += 10\n",
    "        elif not env_info.local_done[1] and env_info.local_done[0]: # chaser falls but dodger doesn't\n",
    "            reward2 += 10\n",
    "        r1 += reward1\n",
    "        r2 += reward2\n",
    "#         agent.remember(state1, action1, reward1, next_state1)\n",
    "        agent2.remember(state2, action2, reward2, next_state2)\n",
    "        state1 = next_state1\n",
    "        state2 = next_state2\n",
    "        if done:\n",
    "            print(\"episode:\", i_episode+1, \"rewards: chaser : %.2f, dodger : %.2f\" % (r1, r2), end=\"\\r\")\n",
    "            agent2.process_memory()\n",
    "            rewards1 += [r1]\n",
    "            rewards2 += [r2]\n",
    "            break\n",
    "    if (i_episode+1) % agent.agents == 0: # update every n_agent episodes\n",
    "        agent2.replay()\n",
    "    if (i_episode+1) % 2000 == 0:\n",
    "        agent2.saver.save(agent2.sess, \"model/model_dodger_\"+str(i_episode+1)+\".ckpt\");\n",
    "# agent.saver.save(agent.sess, \"model/model_chaser_\"+str(i_episode+1)+\".ckpt\");\n",
    "print(\"\\n\")\n",
    "print(\"finished learning!\")"
   ]
  },
  {
   "cell_type": "code",
   "execution_count": 30,
   "metadata": {},
   "outputs": [
    {
     "data": {
      "image/png": "[encoded data removed]",
      "text/plain": [
       "<matplotlib.figure.Figure at 0x11494024ac8>"
      ]
     },
     "metadata": {},
     "output_type": "display_data"
    },
    {
     "name": "stdout",
     "output_type": "stream",
     "text": [
      "-4.83744860567\n"
     ]
    }
   ],
   "source": [
    "# plt.plot(rewards1)\n",
    "plt.plot(moving_average(rewards1, 100))\n",
    "plt.show()\n",
    "print(np.mean(rewards1))"
   ]
  },
  {
   "cell_type": "code",
   "execution_count": 28,
   "metadata": {},
   "outputs": [
    {
     "data": {
      "image/png": "[encoded data removed]",
      "text/plain": [
       "<matplotlib.figure.Figure at 0x114913ff1d0>"
      ]
     },
     "metadata": {},
     "output_type": "display_data"
    },
    {
     "name": "stdout",
     "output_type": "stream",
     "text": [
      "4.33049059549\n"
     ]
    }
   ],
   "source": [
    "# plt.plot(rewards2)\n",
    "plt.plot(moving_average(rewards2, 100))\n",
    "plt.show()\n",
    "print(np.mean(rewards2))"
   ]
  },
  {
   "cell_type": "code",
   "execution_count": 33,
   "metadata": {},
   "outputs": [
    {
     "name": "stdout",
     "output_type": "stream",
     "text": [
      "episode: 5 rewards: chaser : -22.21, dodger : 21.32\n",
      "\n",
      "finished testing!\n"
     ]
    }
   ],
   "source": [
    "#ppo\n",
    "n_episodes = 5\n",
    "\n",
    "# test_rewards = []\n",
    "# agent.saver.restore(agent.sess, \"model/model_chaseronly_1000.ckpt\")\n",
    "for i_episode in range(n_episodes):\n",
    "    env_info = env.reset(train_mode=False)[default_brain]\n",
    "    state1 = [env_info.states[0]]\n",
    "    state2 = [env_info.states[1]]\n",
    "    r1 = r2 = 0\n",
    "    while True:\n",
    "#         action1 = np.array([0,0])\n",
    "        action1 = agent.choose_action(state1)\n",
    "        action2 = agent2.choose_action(state2)\n",
    "#         action2 = np.array([0,0])\n",
    "        env_info = env.step([action1, action2])[default_brain]\n",
    "        next_state1 = [env_info.states[0]]\n",
    "        next_state2 = [env_info.states[1]]\n",
    "        reward1 = env_info.rewards[0]\n",
    "        reward2 = env_info.rewards[1]\n",
    "        done = env_info.local_done[0] or env_info.local_done[1]\n",
    "        if not env_info.local_done[0] and env_info.local_done[1]: # dodger falls but chaser doesn't\n",
    "            reward1 += 10\n",
    "        elif not env_info.local_done[1] and env_info.local_done[0]: # chaser falls but dodger doesn't\n",
    "            reward2 += 10\n",
    "        r1 += reward1\n",
    "        r2 += reward2\n",
    "        state1 = next_state1\n",
    "        state2 = next_state2\n",
    "        if done:\n",
    "            print(\"episode:\", i_episode+1, \"rewards: chaser : %.2f, dodger : %.2f\" % (r1, r2), end=\"\\r\")\n",
    "#             test_rewards += [r]\n",
    "            break\n",
    "print(\"\\n\")\n",
    "print(\"finished testing!\")"
   ]
  },
  {
   "cell_type": "markdown",
   "metadata": {},
   "source": [
    "# Train chaser again using dodger"
   ]
  },
  {
   "cell_type": "code",
   "execution_count": 26,
   "metadata": {
    "scrolled": true
   },
   "outputs": [
    {
     "name": "stdout",
     "output_type": "stream",
     "text": [
      "INFO:tensorflow:Restoring parameters from model/model_chaser_5000.ckpt\n"
     ]
    },
    {
     "name": "stderr",
     "output_type": "stream",
     "text": [
      "INFO:tensorflow:Restoring parameters from model/model_chaser_5000.ckpt\n"
     ]
    },
    {
     "name": "stdout",
     "output_type": "stream",
     "text": [
      "INFO:tensorflow:Restoring parameters from model/model_dodger_10000.ckpt\n"
     ]
    },
    {
     "name": "stderr",
     "output_type": "stream",
     "text": [
      "INFO:tensorflow:Restoring parameters from model/model_dodger_10000.ckpt\n"
     ]
    },
    {
     "name": "stdout",
     "output_type": "stream",
     "text": [
      "INFO:tensorflow:model/model_chaser_1000.ckpt is not in all_model_checkpoint_paths. Manually adding it. chaser : 8.12, dodger : -8.22 339 rewards: chaser : 8.76, dodger : -8.85 348 rewards: chaser : 8.18, dodger : -8.28 359 rewards: chaser : 6.87, dodger : -6.97 363 rewards: chaser : 6.91, dodger : -7.03 489 rewards: chaser : 9.21, dodger : -9.29 594 rewards: chaser : 9.29, dodger : -9.35 645 rewards: chaser : 5.58, dodger : -5.74 670 rewards: chaser : 8.41, dodger : -8.51 680 rewards: chaser : 6.73, dodger : -6.84 772 rewards: chaser : 6.32, dodger : -6.47 940 rewards: chaser : 6.79, dodger : -6.91 976 rewards: chaser : 9.11, dodger : -9.14\n"
     ]
    },
    {
     "name": "stderr",
     "output_type": "stream",
     "text": [
      "INFO:tensorflow:model/model_chaser_1000.ckpt is not in all_model_checkpoint_paths. Manually adding it.\n"
     ]
    },
    {
     "name": "stdout",
     "output_type": "stream",
     "text": [
      "INFO:tensorflow:model/model_chaser_2000.ckpt is not in all_model_checkpoint_paths. Manually adding it.rewards: chaser : 9.40, dodger : -9.43 1104 rewards: chaser : 7.68, dodger : -7.74 1306 rewards: chaser : 9.07, dodger : -9.13 1313 rewards: chaser : 6.13, dodger : -6.24 1324 rewards: chaser : 7.09, dodger : -7.21 1447 rewards: chaser : 5.82, dodger : -5.97 1485 rewards: chaser : 9.97, dodger : -9.97 1536 rewards: chaser : 6.74, dodger : -6.84 1550 rewards: chaser : 9.47, dodger : -9.53 1678 rewards: chaser : 8.50, dodger : -8.56 1701 rewards: chaser : 9.02, dodger : -9.09 1729 rewards: chaser : 7.57, dodger : -7.68 1807 rewards: chaser : 6.35, dodger : -6.51\n"
     ]
    },
    {
     "name": "stderr",
     "output_type": "stream",
     "text": [
      "INFO:tensorflow:model/model_chaser_2000.ckpt is not in all_model_checkpoint_paths. Manually adding it.\n"
     ]
    },
    {
     "name": "stdout",
     "output_type": "stream",
     "text": [
      "INFO:tensorflow:model/model_chaser_3000.ckpt is not in all_model_checkpoint_paths. Manually adding it.rds: chaser : 8.88, dodger : -8.95 2155 rewards: chaser : 6.46, dodger : -6.56 2175 rewards: chaser : 8.12, dodger : -8.21rewards: chaser : 7.60, dodger : -7.702322 rewards: chaser : 8.64, dodger : -8.72 2393 rewards: chaser : 9.97, dodger : -9.97 2538 rewards: chaser : 6.84, dodger : -6.952545 rewards: chaser : 9.29, dodger : -9.37 2580 rewards: chaser : 8.96, dodger : -9.04 rewards: chaser : 7.34, dodger : -7.45 2660 rewards: chaser : 8.01, dodger : -8.10 2773 rewards: chaser : 6.46, dodger : -6.59 2834 rewards: chaser : 7.75, dodger : -7.84 2883 rewards: chaser : 6.53, dodger : -6.62 2904 rewards: chaser : 7.96, dodger : -8.06 2970 rewards: chaser : 6.48, dodger : -6.60\n"
     ]
    },
    {
     "name": "stderr",
     "output_type": "stream",
     "text": [
      "INFO:tensorflow:model/model_chaser_3000.ckpt is not in all_model_checkpoint_paths. Manually adding it.\n"
     ]
    },
    {
     "name": "stdout",
     "output_type": "stream",
     "text": [
      "INFO:tensorflow:model/model_chaser_4000.ckpt is not in all_model_checkpoint_paths. Manually adding it.ds: chaser : 8.20, dodger : -8.29rewards: chaser : 8.57, dodger : -8.64 3336 rewards: chaser : 7.53, dodger : -7.63 3475 rewards: chaser : 7.87, dodger : -7.97 3493 rewards: chaser : 6.88, dodger : -6.99 3504 rewards: chaser : 7.54, dodger : -7.64 3507 rewards: chaser : 6.89, dodger : -6.99 3561 rewards: chaser : 9.01, dodger : -9.08rewards: chaser : -10.36, dodger : 10.41 3588 rewards: chaser : 7.70, dodger : -7.803591 rewards: chaser : 8.88, dodger : -8.95 rewards: chaser : 9.17, dodger : -9.25 3690 rewards: chaser : 9.82, dodger : -9.86 3749 rewards: chaser : -11.10, dodger : 11.16 3752 rewards: chaser : 8.65, dodger : -8.733765 rewards: chaser : 8.18, dodger : -8.28 3807 rewards: chaser : 9.40, dodger : -9.443893 rewards: chaser : 6.85, dodger : -6.90 3959 rewards: chaser : 7.78, dodger : -7.87\n"
     ]
    },
    {
     "name": "stderr",
     "output_type": "stream",
     "text": [
      "INFO:tensorflow:model/model_chaser_4000.ckpt is not in all_model_checkpoint_paths. Manually adding it.\n"
     ]
    },
    {
     "name": "stdout",
     "output_type": "stream",
     "text": [
      "INFO:tensorflow:model/model_chaser_5000.ckpt is not in all_model_checkpoint_paths. Manually adding it.9 rewards: chaser : 8.72, dodger : -8.80 4271 rewards: chaser : 9.37, dodger : -9.38 4331 rewards: chaser : 9.15, dodger : -9.21 4465 rewards: chaser : 8.28, dodger : -8.35 4756 rewards: chaser : 9.42, dodger : -9.46 4759 rewards: chaser : 8.02, dodger : -8.11 4761 rewards: chaser : 8.42, dodger : -8.50rewards: chaser : 8.19, dodger : -8.29 4871 rewards: chaser : 6.51, dodger : -6.62 4894 rewards: chaser : 8.62, dodger : -8.71 4920 rewards: chaser : 8.87, dodger : -8.92 4928 rewards: chaser : 7.70, dodger : -7.76 4949 rewards: chaser : 8.50, dodger : -8.60\n"
     ]
    },
    {
     "name": "stderr",
     "output_type": "stream",
     "text": [
      "INFO:tensorflow:model/model_chaser_5000.ckpt is not in all_model_checkpoint_paths. Manually adding it.\n"
     ]
    },
    {
     "name": "stdout",
     "output_type": "stream",
     "text": [
      "\n",
      "\n",
      "finished learning!\n"
     ]
    }
   ],
   "source": [
    "rewards1 = []\n",
    "rewards2 = []\n",
    "n_episodes = 5000\n",
    "\n",
    "agent.saver.restore(agent.sess, \"model/model_chaser_5000.ckpt\")\n",
    "agent2.saver.restore(agent2.sess, \"model/model_dodger_10000.ckpt\")\n",
    "for i_episode in range(n_episodes):\n",
    "    env_info = env.reset(train_mode=True)[default_brain]\n",
    "    state1 = [env_info.states[0]]\n",
    "    state2 = [env_info.states[1]]\n",
    "    r1 = r2 = 0\n",
    "    while True:\n",
    "        action1 = agent.choose_action(state1)\n",
    "        action2 = agent2.choose_action(state2, train=False)\n",
    "        env_info = env.step([action1, action2])[default_brain]\n",
    "        next_state1 = [env_info.states[0]]\n",
    "        next_state2 = [env_info.states[1]]\n",
    "        reward1 = env_info.rewards[0]\n",
    "        reward2 = env_info.rewards[1]\n",
    "        done = env_info.local_done[0] or env_info.local_done[1]\n",
    "        if not env_info.local_done[0] and env_info.local_done[1]: # dodger falls but chaser doesn't\n",
    "            reward1 += 10\n",
    "        elif not env_info.local_done[1] and env_info.local_done[0]: # chaser falls but dodger doesn't\n",
    "            reward2 += 10\n",
    "        r1 += reward1\n",
    "        r2 += reward2\n",
    "        agent.remember(state1, action1, reward1, next_state1)\n",
    "#         agent2.remember(state2, action2, reward2, next_state2)\n",
    "        state1 = next_state1\n",
    "        state2 = next_state2\n",
    "        if done:\n",
    "            print(\"episode:\", i_episode+1, \"rewards: chaser : %.2f, dodger : %.2f\" % (r1, r2), end=\"\\r\")\n",
    "            agent.process_memory()\n",
    "            rewards1 += [r1]\n",
    "            rewards2 += [r2]\n",
    "            break\n",
    "    if (i_episode+1) % agent.agents == 0: # update every n_agent episodes\n",
    "        agent.replay()\n",
    "    if (i_episode+1) % 1000 == 0:\n",
    "        agent.saver.save(agent.sess, \"model/model_chaser_\"+str(i_episode+1)+\".ckpt\");\n",
    "print(\"\\n\")\n",
    "print(\"finished learning!\")"
   ]
  },
  {
   "cell_type": "code",
   "execution_count": 27,
   "metadata": {},
   "outputs": [
    {
     "data": {
      "image/png": "[encoded data removed]",
      "text/plain": [
       "<matplotlib.figure.Figure at 0x2817f9888d0>"
      ]
     },
     "metadata": {},
     "output_type": "display_data"
    },
    {
     "name": "stdout",
     "output_type": "stream",
     "text": [
      "7.4721596474\n"
     ]
    }
   ],
   "source": [
    "plt.plot(moving_average(rewards1, 100))\n",
    "plt.show()\n",
    "print(np.mean(rewards1))"
   ]
  },
  {
   "cell_type": "code",
   "execution_count": 28,
   "metadata": {},
   "outputs": [
    {
     "data": {
      "image/png": "[encoded data removed]",
      "text/plain": [
       "<matplotlib.figure.Figure at 0x2817f988128>"
      ]
     },
     "metadata": {},
     "output_type": "display_data"
    },
    {
     "name": "stdout",
     "output_type": "stream",
     "text": [
      "-7.59752442293\n"
     ]
    }
   ],
   "source": [
    "plt.plot(moving_average(rewards2, 100))\n",
    "plt.show()\n",
    "print(np.mean(rewards2))"
   ]
  },
  {
   "cell_type": "code",
   "execution_count": 32,
   "metadata": {
    "scrolled": true
   },
   "outputs": [
    {
     "name": "stdout",
     "output_type": "stream",
     "text": [
      "episode: 9 rewards: chaser : 9.09, dodger : -9.1310 rewards: chaser : 9.25, dodger : -9.33\n",
      "\n",
      "finished testing!\n"
     ]
    }
   ],
   "source": [
    "n_episodes = 10\n",
    "\n",
    "# test_rewards = []\n",
    "# agent.saver.restore(agent.sess, \"model/model_chaseronly_1000.ckpt\")\n",
    "for i_episode in range(n_episodes):\n",
    "    env_info = env.reset(train_mode=False)[default_brain]\n",
    "    state1 = [env_info.states[0]]\n",
    "    state2 = [env_info.states[1]]\n",
    "    r1 = r2 = 0\n",
    "    while True:\n",
    "#         action1 = np.array([0,0])\n",
    "        action1 = agent.choose_action(state1, train=False)\n",
    "        action2 = agent2.choose_action(state2, train=False)\n",
    "#         action2 = np.array([0,0])\n",
    "        env_info = env.step([action1, action2])[default_brain]\n",
    "        next_state1 = [env_info.states[0]]\n",
    "        next_state2 = [env_info.states[1]]\n",
    "        reward1 = env_info.rewards[0]\n",
    "        reward2 = env_info.rewards[1]\n",
    "        done = env_info.local_done[0] or env_info.local_done[1]\n",
    "        if not env_info.local_done[0] and env_info.local_done[1]: # dodger falls but chaser doesn't\n",
    "            reward1 += 10\n",
    "        elif not env_info.local_done[1] and env_info.local_done[0]: # chaser falls but dodger doesn't\n",
    "            reward2 += 10\n",
    "        r1 += reward1\n",
    "        r2 += reward2\n",
    "        state1 = next_state1\n",
    "        state2 = next_state2\n",
    "        if done:\n",
    "            print(\"episode:\", i_episode+1, \"rewards: chaser : %.2f, dodger : %.2f\" % (r1, r2), end=\"\\r\")\n",
    "#             test_rewards += [r]\n",
    "            break\n",
    "print(\"\\n\")\n",
    "print(\"finished testing!\")"
   ]
  },
  {
   "cell_type": "markdown",
   "metadata": {},
   "source": [
    "# Train dodger again using chaser2"
   ]
  },
  {
   "cell_type": "code",
   "execution_count": 57,
   "metadata": {
    "scrolled": false
   },
   "outputs": [
    {
     "name": "stdout",
     "output_type": "stream",
     "text": [
      "INFO:tensorflow:model/model_dodger2_20000.ckpt is not in all_model_checkpoint_paths. Manually adding it.: chaser : 6.57, dodger : -6.68 255 rewards: chaser : 7.82, dodger : -7.90 262 rewards: chaser : 7.24, dodger : -7.30485 rewards: chaser : 9.66, dodger : -9.67 554 rewards: chaser : 9.57, dodger : -9.61 578 rewards: chaser : 9.02, dodger : -9.06663 rewards: chaser : 8.23, dodger : -8.28 685 rewards: chaser : 8.35, dodger : -8.41 692 rewards: chaser : 6.04, dodger : -6.13 730 rewards: chaser : 5.96, dodger : -6.06739 rewards: chaser : 4.98, dodger : -5.08 780 rewards: chaser : 8.49, dodger : -8.58 915 rewards: chaser : 7.56, dodger : -7.60 919 rewards: chaser : 7.65, dodger : -7.72977 rewards: chaser : 6.98, dodger : -7.06 999 rewards: chaser : 8.60, dodger : -8.68 1027 rewards: chaser : 6.73, dodger : -6.81 1262 rewards: chaser : 8.96, dodger : -8.98 1385 rewards: chaser : 8.58, dodger : -8.68 1390 rewards: chaser : 8.50, dodger : -8.55 rewards: chaser : 9.27, dodger : -9.32 1509 rewards: chaser : -10.52, dodger : 10.60 1555 rewards: chaser : 3.74, dodger : -3.89 1592 rewards: chaser : 6.09, dodger : -6.17 1605 rewards: chaser : 6.32, dodger : -6.41 1633 rewards: chaser : 6.79, dodger : -6.88 1645 rewards: chaser : 8.48, dodger : -8.53 1648 rewards: chaser : 9.17, dodger : -9.231685 rewards: chaser : 7.53, dodger : -7.59 1698 rewards: chaser : 9.88, dodger : -9.86 1784 rewards: chaser : 9.74, dodger : -9.79 2010 rewards: chaser : 9.26, dodger : -9.30 2174 rewards: chaser : 6.24, dodger : -6.31 2233 rewards: chaser : 9.58, dodger : -9.64 2265 rewards: chaser : 7.45, dodger : -7.53 2361 rewards: chaser : 9.81, dodger : -9.84 2530 rewards: chaser : 5.84, dodger : -5.92 2580 rewards: chaser : 6.15, dodger : -6.27 2629 rewards: chaser : 5.92, dodger : -6.02 2677 rewards: chaser : 4.61, dodger : -4.71 2739 rewards: chaser : 6.06, dodger : -6.16 2762 rewards: chaser : 4.56, dodger : -4.66 2912 rewards: chaser : 7.57, dodger : -7.612998 rewards: chaser : 7.28, dodger : -7.37 3029 rewards: chaser : 3.30, dodger : -3.40 3124 rewards: chaser : 8.20, dodger : -8.27 3130 rewards: chaser : 7.74, dodger : -7.86 3133 rewards: chaser : 6.42, dodger : -6.54rewards: chaser : 9.04, dodger : -9.10 3303 rewards: chaser : 9.95, dodger : -9.963307 rewards: chaser : 6.52, dodger : -6.61 3528 rewards: chaser : 9.42, dodger : -9.42 rewards: chaser : 6.38, dodger : -6.46 3705 rewards: chaser : 9.41, dodger : -9.47rewards: chaser : 8.15, dodger : -8.21 3787 rewards: chaser : 6.43, dodger : -6.54 3809 rewards: chaser : 7.14, dodger : -7.19 4210 rewards: chaser : 6.76, dodger : -6.834344 rewards: chaser : 7.13, dodger : -7.21 4375 rewards: chaser : 6.64, dodger : -6.72 4399 rewards: chaser : 6.79, dodger : -6.85 4460 rewards: chaser : 8.70, dodger : -8.76 4475 rewards: chaser : 6.47, dodger : -6.57 4523 rewards: chaser : 7.95, dodger : -7.99 4583 rewards: chaser : 8.16, dodger : -8.20 4585 rewards: chaser : 6.21, dodger : -6.29 4669 rewards: chaser : 6.95, dodger : -7.03 4750 rewards: chaser : 7.68, dodger : -7.77 4757 rewards: chaser : 4.43, dodger : -4.52 4764 rewards: chaser : 6.65, dodger : -6.71 5019 rewards: chaser : 6.49, dodger : -6.58 5045 rewards: chaser : 8.27, dodger : -8.34 5063 rewards: chaser : 4.87, dodger : -4.96 5124 rewards: chaser : 8.74, dodger : -8.79 5240 rewards: chaser : 6.75, dodger : -6.81rewards: chaser : -10.32, dodger : 10.38rewards: chaser : 8.21, dodger : -8.27 5393 rewards: chaser : 6.51, dodger : -6.58 5425 rewards: chaser : 9.04, dodger : -9.09 5447 rewards: chaser : 6.83, dodger : -6.88 5455 rewards: chaser : 7.89, dodger : -7.95 5537 rewards: chaser : 6.01, dodger : -6.08 5583 rewards: chaser : 7.01, dodger : -7.07 5760 rewards: chaser : 6.37, dodger : -6.43 5819 rewards: chaser : 9.86, dodger : -9.865859 rewards: chaser : 4.61, dodger : -4.70 5940 rewards: chaser : 6.52, dodger : -6.57 6032 rewards: chaser : 6.78, dodger : -6.856049 rewards: chaser : 8.32, dodger : -8.37 6095 rewards: chaser : 7.67, dodger : -7.74 6180 rewards: chaser : 6.67, dodger : -6.73 6182 rewards: chaser : 5.78, dodger : -5.876264 rewards: chaser : 6.59, dodger : -6.65 6305 rewards: chaser : 7.66, dodger : -7.71 6447 rewards: chaser : 6.50, dodger : -6.57 6479 rewards: chaser : 6.69, dodger : -6.75 6605 rewards: chaser : 6.86, dodger : -6.94 6633 rewards: chaser : 7.91, dodger : -7.98 6689 rewards: chaser : 6.03, dodger : -6.13 6772 rewards: chaser : 7.48, dodger : -7.51 6845 rewards: chaser : 6.45, dodger : -6.52 6987 rewards: chaser : 6.53, dodger : -6.63 7460 rewards: chaser : 8.04, dodger : -8.12 7520 rewards: chaser : 8.31, dodger : -8.36 rewards: chaser : 6.60, dodger : -6.66 7570 rewards: chaser : -10.65, dodger : 10.70 7578 rewards: chaser : 7.48, dodger : -7.547644 rewards: chaser : 6.68, dodger : -6.76 7694 rewards: chaser : 6.61, dodger : -6.72 7868 rewards: chaser : 7.61, dodger : -7.71 7915 rewards: chaser : 8.97, dodger : -9.03 8044 rewards: chaser : 6.26, dodger : -6.35 8054 rewards: chaser : 7.91, dodger : -7.97 8072 rewards: chaser : 7.83, dodger : -7.89 8117 rewards: chaser : 5.79, dodger : -5.89 8172 rewards: chaser : 5.23, dodger : -5.32 8243 rewards: chaser : 7.53, dodger : -7.61 8248 rewards: chaser : 8.91, dodger : -8.96 rewards: chaser : 6.64, dodger : -6.72 8273 rewards: chaser : 9.06, dodger : -9.118333 rewards: chaser : 6.87, dodger : -6.96 8335 rewards: chaser : 4.68, dodger : -4.788373 rewards: chaser : -10.97, dodger : 11.01 8444 rewards: chaser : 7.59, dodger : -7.66 8450 rewards: chaser : 9.40, dodger : -9.43 8505 rewards: chaser : 9.55, dodger : -9.56 8646 rewards: chaser : 8.52, dodger : -8.58 8743 rewards: chaser : 6.63, dodger : -6.70 8828 rewards: chaser : 8.10, dodger : -8.16 8995 rewards: chaser : 7.98, dodger : -8.05 9020 rewards: chaser : -10.29, dodger : 10.33 9169 rewards: chaser : 7.81, dodger : -7.90 9207 rewards: chaser : 7.63, dodger : -7.70 9313 rewards: chaser : 8.62, dodger : -8.68 9522 rewards: chaser : 5.93, dodger : -6.00 9572 rewards: chaser : 5.71, dodger : -5.79 9639 rewards: chaser : 8.89, dodger : -8.96 9692 rewards: chaser : 6.73, dodger : -6.81 9733 rewards: chaser : 6.99, dodger : -7.06 9880 rewards: chaser : 7.85, dodger : -7.919894 rewards: chaser : 7.79, dodger : -7.86 9902 rewards: chaser : 7.53, dodger : -7.62 9918 rewards: chaser : 6.98, dodger : -7.06 9982 rewards: chaser : 6.67, dodger : -6.77\n"
     ]
    },
    {
     "name": "stderr",
     "output_type": "stream",
     "text": [
      "INFO:tensorflow:model/model_dodger2_20000.ckpt is not in all_model_checkpoint_paths. Manually adding it.\n"
     ]
    },
    {
     "name": "stdout",
     "output_type": "stream",
     "text": [
      "\n",
      "\n",
      "finished learning!\n"
     ]
    }
   ],
   "source": [
    "# rewards1 = []\n",
    "# rewards2 = []\n",
    "n_episodes = 10000\n",
    "\n",
    "# agent.saver.restore(agent.sess, \"model/model_chaser_5000.ckpt\")\n",
    "# agent2.saver.restore(agent2.sess, \"model/model_dodger2_5000.ckpt\")\n",
    "\n",
    "for i_episode in range(n_episodes):\n",
    "    env_info = env.reset(train_mode=True)[default_brain]\n",
    "    state1 = [env_info.states[0]]\n",
    "    state2 = [env_info.states[1]]\n",
    "    r1 = r2 = 0\n",
    "    while True:\n",
    "        action1 = agent.choose_action(state1, train=False)\n",
    "        action2 = agent2.choose_action(state2)\n",
    "#         action2 = np.array([0,0])\n",
    "        env_info = env.step([action1, action2])[default_brain]\n",
    "        next_state1 = [env_info.states[0]]\n",
    "        next_state2 = [env_info.states[1]]\n",
    "        reward1 = env_info.rewards[0]\n",
    "        reward2 = env_info.rewards[1]\n",
    "        done = env_info.local_done[0] or env_info.local_done[1]\n",
    "        if not env_info.local_done[0] and env_info.local_done[1]: # dodger falls but chaser doesn't\n",
    "            reward1 += 10\n",
    "        elif not env_info.local_done[1] and env_info.local_done[0]: # chaser falls but dodger doesn't\n",
    "            reward2 += 10\n",
    "        r1 += reward1\n",
    "        r2 += reward2\n",
    "#         agent.remember(state1, action1, reward1, next_state1)\n",
    "        agent2.remember(state2, action2, reward2, next_state2)\n",
    "        state1 = next_state1\n",
    "        state2 = next_state2\n",
    "        if done:\n",
    "            print(\"episode:\", i_episode+1, \"rewards: chaser : %.2f, dodger : %.2f\" % (r1, r2), end=\"\\r\")\n",
    "            agent2.process_memory()\n",
    "            rewards1 += [r1]\n",
    "            rewards2 += [r2]\n",
    "            break\n",
    "    if (i_episode+1) % agent.agents == 0: # update every n_agent episodes\n",
    "        agent2.replay()\n",
    "    if (i_episode+1) % 10000 == 0:\n",
    "        agent2.saver.save(agent2.sess, \"model/model_dodger2_\"+str(i_episode+1)+\".ckpt\");\n",
    "# agent.saver.save(agent.sess, \"model/model_chaser_\"+str(i_episode+1)+\".ckpt\");\n",
    "print(\"\\n\")\n",
    "print(\"finished learning!\")"
   ]
  },
  {
   "cell_type": "code",
   "execution_count": 58,
   "metadata": {},
   "outputs": [
    {
     "data": {
      "image/png": "[encoded data removed]",
      "text/plain": [
       "<matplotlib.figure.Figure at 0x2817da20198>"
      ]
     },
     "metadata": {},
     "output_type": "display_data"
    },
    {
     "name": "stdout",
     "output_type": "stream",
     "text": [
      "6.88421275346\n"
     ]
    }
   ],
   "source": [
    "plt.plot(moving_average(rewards1, 100))\n",
    "plt.show()\n",
    "print(np.mean(rewards1))"
   ]
  },
  {
   "cell_type": "code",
   "execution_count": 59,
   "metadata": {},
   "outputs": [
    {
     "data": {
      "image/png": "[encoded data removed]",
      "text/plain": [
       "<matplotlib.figure.Figure at 0x2817afe84a8>"
      ]
     },
     "metadata": {},
     "output_type": "display_data"
    },
    {
     "name": "stdout",
     "output_type": "stream",
     "text": [
      "-6.97257593406\n"
     ]
    }
   ],
   "source": [
    "plt.plot(moving_average(rewards2, 100))\n",
    "plt.show()\n",
    "print(np.mean(rewards2))"
   ]
  },
  {
   "cell_type": "code",
   "execution_count": 61,
   "metadata": {},
   "outputs": [
    {
     "name": "stdout",
     "output_type": "stream",
     "text": [
      "episode: 10 rewards: chaser : 7.38, dodger : -7.44\n",
      "\n",
      "finished testing!\n"
     ]
    }
   ],
   "source": [
    "n_episodes = 10\n",
    "\n",
    "# test_rewards = []\n",
    "# agent.saver.restore(agent.sess, \"model/model_chaser_5000.ckpt\")\n",
    "# agent2.saver.restore(agent2.sess, \"model/model_dodger2_1000.ckpt\")\n",
    "for i_episode in range(n_episodes):\n",
    "    env_info = env.reset(train_mode=False)[default_brain]\n",
    "    state1 = [env_info.states[0]]\n",
    "    state2 = [env_info.states[1]]\n",
    "    r1 = r2 = 0\n",
    "    while True:\n",
    "        action1 = agent.choose_action(state1, train=False)\n",
    "        action2 = agent2.choose_action(state2)\n",
    "        env_info = env.step([action1, action2])[default_brain]\n",
    "        next_state1 = [env_info.states[0]]\n",
    "        next_state2 = [env_info.states[1]]\n",
    "        reward1 = env_info.rewards[0]\n",
    "        reward2 = env_info.rewards[1]\n",
    "        done = env_info.local_done[0] or env_info.local_done[1]\n",
    "        if not env_info.local_done[0] and env_info.local_done[1]: # dodger falls but chaser doesn't\n",
    "            reward1 += 10\n",
    "        elif not env_info.local_done[1] and env_info.local_done[0]: # chaser falls but dodger doesn't\n",
    "            reward2 += 10\n",
    "        r1 += reward1\n",
    "        r2 += reward2\n",
    "        state1 = next_state1\n",
    "        state2 = next_state2\n",
    "        if done:\n",
    "            print(\"episode:\", i_episode+1, \"rewards: chaser : %.2f, dodger : %.2f\" % (r1, r2), end=\"\\r\")\n",
    "#             test_rewards += [r]\n",
    "            break\n",
    "print(\"\\n\")\n",
    "print(\"finished testing!\")"
   ]
  },
  {
   "cell_type": "markdown",
   "metadata": {},
   "source": [
    "# Train together"
   ]
  },
  {
   "cell_type": "code",
   "execution_count": 7,
   "metadata": {},
   "outputs": [
    {
     "name": "stdout",
     "output_type": "stream",
     "text": [
      "INFO:tensorflow:Restoring parameters from model/model_chaser_5000.ckpt\n"
     ]
    },
    {
     "name": "stderr",
     "output_type": "stream",
     "text": [
      "INFO:tensorflow:Restoring parameters from model/model_chaser_5000.ckpt\n"
     ]
    },
    {
     "name": "stdout",
     "output_type": "stream",
     "text": [
      "INFO:tensorflow:Restoring parameters from model/model_dodger_10000.ckpt\n"
     ]
    },
    {
     "name": "stderr",
     "output_type": "stream",
     "text": [
      "INFO:tensorflow:Restoring parameters from model/model_dodger_10000.ckpt\n"
     ]
    },
    {
     "name": "stdout",
     "output_type": "stream",
     "text": [
      "INFO:tensorflow:model/model_together_chaser_1000.ckpt is not in all_model_checkpoint_paths. Manually adding it. : 7.37, dodger : -7.44 189 rewards: chaser : 9.74, dodger : -9.74 257 rewards: chaser : 7.15, dodger : -7.28rewards: chaser : 7.09, dodger : -7.17 429 rewards: chaser : 6.55, dodger : -6.67 475 rewards: chaser : 9.56, dodger : -9.58 662 rewards: chaser : 7.16, dodger : -7.22 749 rewards: chaser : 6.61, dodger : -6.70 775 rewards: chaser : 6.34, dodger : -6.49 849 rewards: chaser : 5.20, dodger : -5.29 872 rewards: chaser : 7.20, dodger : -7.28885 rewards: chaser : 6.52, dodger : -6.63 rewards: chaser : 5.64, dodger : -5.76\n"
     ]
    },
    {
     "name": "stderr",
     "output_type": "stream",
     "text": [
      "INFO:tensorflow:model/model_together_chaser_1000.ckpt is not in all_model_checkpoint_paths. Manually adding it.\n"
     ]
    },
    {
     "name": "stdout",
     "output_type": "stream",
     "text": [
      "INFO:tensorflow:model/model_together_dodger_1000.ckpt is not in all_model_checkpoint_paths. Manually adding it.\n"
     ]
    },
    {
     "name": "stderr",
     "output_type": "stream",
     "text": [
      "INFO:tensorflow:model/model_together_dodger_1000.ckpt is not in all_model_checkpoint_paths. Manually adding it.\n"
     ]
    },
    {
     "name": "stdout",
     "output_type": "stream",
     "text": [
      "\n",
      "\n",
      "finished learning!\n"
     ]
    }
   ],
   "source": [
    "rewards1 = []\n",
    "rewards2 = []\n",
    "n_episodes = 1000\n",
    "\n",
    "agent.saver.restore(agent.sess, \"model/model_chaser_5000.ckpt\")\n",
    "agent2.saver.restore(agent2.sess, \"model/model_dodger2_1000.ckpt\")\n",
    "\n",
    "for i_episode in range(n_episodes):\n",
    "    env_info = env.reset(train_mode=True)[default_brain]\n",
    "    state1 = [env_info.states[0]]\n",
    "    state2 = [env_info.states[1]]\n",
    "    r1 = r2 = 0\n",
    "    while True:\n",
    "        action1 = agent.choose_action(state1)\n",
    "        action2 = agent2.choose_action(state2)\n",
    "        env_info = env.step([action1, action2])[default_brain]\n",
    "        next_state1 = [env_info.states[0]]\n",
    "        next_state2 = [env_info.states[1]]\n",
    "        reward1 = env_info.rewards[0]\n",
    "        reward2 = env_info.rewards[1]\n",
    "        done = env_info.local_done[0] or env_info.local_done[1]\n",
    "        if not env_info.local_done[0] and env_info.local_done[1]: # dodger falls but chaser doesn't\n",
    "            reward1 += 10\n",
    "        elif not env_info.local_done[1] and env_info.local_done[0]: # chaser falls but dodger doesn't\n",
    "            reward2 += 10\n",
    "        r1 += reward1\n",
    "        r2 += reward2\n",
    "        agent.remember(state1, action1, reward1, next_state1)\n",
    "        agent2.remember(state2, action2, reward2, next_state2)\n",
    "        state1 = next_state1\n",
    "        state2 = next_state2\n",
    "        if done:\n",
    "            print(\"episode:\", i_episode+1, \"rewards: chaser : %.2f, dodger : %.2f\" % (r1, r2), end=\"\\r\")\n",
    "            agent.process_memory()\n",
    "            agent2.process_memory()\n",
    "            rewards1 += [r1]\n",
    "            rewards2 += [r2]\n",
    "            break\n",
    "    if (i_episode+1) % agent.agents == 0: # update every n_agent episodes\n",
    "        agent.replay()\n",
    "        agent2.replay()\n",
    "    if (i_episode+1) % 1000 == 0:\n",
    "        agent.saver.save(agent2.sess, \"model/model_together_chaser_\"+str(i_episode+1)+\".ckpt\");\n",
    "        agent2.saver.save(agent2.sess, \"model/model_together_dodger_\"+str(i_episode+1)+\".ckpt\");\n",
    "print(\"\\n\")\n",
    "print(\"finished learning!\")"
   ]
  },
  {
   "cell_type": "code",
   "execution_count": 8,
   "metadata": {},
   "outputs": [
    {
     "data": {
      "image/png": "[encoded data removed]",
      "text/plain": [
       "<matplotlib.figure.Figure at 0x2817d75eb38>"
      ]
     },
     "metadata": {},
     "output_type": "display_data"
    }
   ],
   "source": [
    "plt.plot(moving_average(rewards1, 100))\n",
    "plt.show()"
   ]
  },
  {
   "cell_type": "code",
   "execution_count": 9,
   "metadata": {},
   "outputs": [
    {
     "data": {
      "image/png": "[encoded data removed]",
      "text/plain": [
       "<matplotlib.figure.Figure at 0x2817de7c3c8>"
      ]
     },
     "metadata": {},
     "output_type": "display_data"
    }
   ],
   "source": [
    "plt.plot(moving_average(rewards2, 100))\n",
    "plt.show()"
   ]
  },
  {
   "cell_type": "code",
   "execution_count": 11,
   "metadata": {},
   "outputs": [
    {
     "data": {
      "text/plain": [
       "0.93400000000000005"
      ]
     },
     "execution_count": 11,
     "metadata": {},
     "output_type": "execute_result"
    }
   ],
   "source": [
    "np.mean(np.asarray(rewards1)>0)"
   ]
  },
  {
   "cell_type": "code",
   "execution_count": 25,
   "metadata": {},
   "outputs": [
    {
     "name": "stdout",
     "output_type": "stream",
     "text": [
      "INFO:tensorflow:Restoring parameters from model/model_chaser_5000.ckpt\n"
     ]
    },
    {
     "name": "stderr",
     "output_type": "stream",
     "text": [
      "INFO:tensorflow:Restoring parameters from model/model_chaser_5000.ckpt\n"
     ]
    },
    {
     "name": "stdout",
     "output_type": "stream",
     "text": [
      "INFO:tensorflow:Restoring parameters from model/model_dodger2_1000.ckpt\n"
     ]
    },
    {
     "name": "stderr",
     "output_type": "stream",
     "text": [
      "INFO:tensorflow:Restoring parameters from model/model_dodger2_1000.ckpt\n"
     ]
    },
    {
     "name": "stdout",
     "output_type": "stream",
     "text": [
      "episode: 10 rewards: chaser : 5.07, dodger : -5.203\n",
      "\n",
      "finished testing!\n"
     ]
    }
   ],
   "source": [
    "n_episodes = 10\n",
    "\n",
    "# test_rewards = []\n",
    "agent.saver.restore(agent.sess, \"model/model_chaser_5000.ckpt\")\n",
    "agent2.saver.restore(agent2.sess, \"model/model_dodger2_1000.ckpt\")\n",
    "\n",
    "for i_episode in range(n_episodes):\n",
    "    env_info = env.reset(train_mode=False)[default_brain]\n",
    "    state1 = [env_info.states[0]]\n",
    "    state2 = [env_info.states[1]]\n",
    "    r1 = r2 = 0\n",
    "    while True:\n",
    "#         action1 = np.array([0,0])\n",
    "        action1 = agent.choose_action(state1)\n",
    "        action2 = agent2.choose_action(state2)\n",
    "#         action2 = np.array([0,0])\n",
    "        env_info = env.step([action1, action2])[default_brain]\n",
    "        next_state1 = [env_info.states[0]]\n",
    "        next_state2 = [env_info.states[1]]\n",
    "        reward1 = env_info.rewards[0]\n",
    "        reward2 = env_info.rewards[1]\n",
    "        done = env_info.local_done[0] or env_info.local_done[1]\n",
    "        if not env_info.local_done[0] and env_info.local_done[1]: # dodger falls but chaser doesn't\n",
    "            reward1 += 10\n",
    "        elif not env_info.local_done[1] and env_info.local_done[0]: # chaser falls but dodger doesn't\n",
    "            reward2 += 10\n",
    "        r1 += reward1\n",
    "        r2 += reward2\n",
    "        state1 = next_state1\n",
    "        state2 = next_state2\n",
    "        if done:\n",
    "            print(\"episode:\", i_episode+1, \"rewards: chaser : %.2f, dodger : %.2f\" % (r1, r2), end=\"\\r\")\n",
    "#             test_rewards += [r]\n",
    "            break\n",
    "print(\"\\n\")\n",
    "print(\"finished testing!\")"
   ]
  },
  {
   "cell_type": "code",
   "execution_count": 19,
   "metadata": {
    "collapsed": true
   },
   "outputs": [],
   "source": [
    "env.close()"
   ]
  },
  {
   "cell_type": "code",
   "execution_count": null,
   "metadata": {
    "collapsed": true
   },
   "outputs": [],
   "source": []
  }
 ],
 "metadata": {
  "kernelspec": {
   "display_name": "Python 3",
   "language": "python",
   "name": "python3"
  },
  "language_info": {
   "codemirror_mode": {
    "name": "ipython",
    "version": 3
   },
   "file_extension": ".py",
   "mimetype": "text/x-python",
   "name": "python",
   "nbconvert_exporter": "python",
   "pygments_lexer": "ipython3",
   "version": "3.6.1"
  }
 },
 "nbformat": 4,
 "nbformat_minor": 2
}
