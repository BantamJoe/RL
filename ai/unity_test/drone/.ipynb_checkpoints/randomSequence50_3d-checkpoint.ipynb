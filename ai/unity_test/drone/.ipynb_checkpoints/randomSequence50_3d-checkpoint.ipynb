{
 "cells": [
  {
   "cell_type": "code",
   "execution_count": 1,
   "metadata": {
    "collapsed": true
   },
   "outputs": [],
   "source": [
    "import numpy as np\n",
    "import tensorflow as tf\n",
    "from numpy import newaxis\n",
    "from sklearn.utils import shuffle\n",
    "import matplotlib.pyplot as plt\n",
    "from unityagents import UnityEnvironment"
   ]
  },
  {
   "cell_type": "code",
   "execution_count": 2,
   "metadata": {
    "collapsed": true
   },
   "outputs": [],
   "source": [
    "class PPOAgent:\n",
    "    def __init__(self, n_actions, n_states, action_low=-1, action_high=1, reward_decay=0.99,\n",
    "                 actor_learning_rate=1e-4, critic_learning_rate=2e-4, learning_rate_decay=0.95,\n",
    "                 ):\n",
    "        self.state_size = n_states\n",
    "        self.action_size = n_actions\n",
    "        self.action_low = action_low\n",
    "        self.action_high = action_high\n",
    "        self.gamma = reward_decay   # discount rate\n",
    "        self.actor_learning_rate = actor_learning_rate\n",
    "        self.critic_learning_rate = critic_learning_rate # often larger than actor_learning_rate\n",
    "        self.learning_rate_decay = learning_rate_decay\n",
    "        self.batch_size = 64\n",
    "        self.epsilon = 0.2 # used to clip\n",
    "        self.entfact = 1e-3 # entropy factor, to encourage exploration\n",
    "        self.lam = 0.95 # gae factor\n",
    "        self.memory = [] # store (s, a, r) for one agent\n",
    "        self.agents = 5 # number of agents that collect memory\n",
    "        self.history = {'states':[], 'actions':[], \n",
    "                       'discounted_rs':[], 'advantages':[]} # store the memory for different agents\n",
    "        self._construct_nets()\n",
    "        \n",
    "    def _construct_nets(self):\n",
    "        tf.reset_default_graph()\n",
    "        self.sess = tf.Session()\n",
    "        \n",
    "        self.tfs = tf.placeholder(tf.float32, [None, self.state_size], 'state')\n",
    "\n",
    "        # critic\n",
    "        with tf.variable_scope('critic'):\n",
    "            net = tf.layers.dense(self.tfs, 30, tf.nn.relu)\n",
    "            net = tf.layers.dense(net, 30, tf.nn.relu)\n",
    "            self.v = tf.layers.dense(net, 1)\n",
    "            self.tfdc_r = tf.placeholder(tf.float32, [None, 1], 'discounted_r')\n",
    "            self.closs = tf.reduce_mean(tf.square(self.tfdc_r - self.v))\n",
    "            self.ctrain_op = tf.train.AdamOptimizer(self.critic_learning_rate).minimize(self.closs)\n",
    "\n",
    "        # actor\n",
    "        pi, pi_params = self._build_anet('pi', trainable=True)\n",
    "        test_pi = tf.distributions.Normal(loc=pi.mean(), scale=tf.zeros_like(pi.stddev()))\n",
    "        oldpi, oldpi_params = self._build_anet('oldpi', trainable=False)\n",
    "        with tf.variable_scope('sample_action'):\n",
    "            self.sample_op = tf.squeeze(pi.sample(1), axis=0)       # choosing action\n",
    "            self.sample_test = tf.squeeze(test_pi.sample(1), axis=0) # deterministic action in test\n",
    "        with tf.variable_scope('update_oldpi'):\n",
    "            self.update_oldpi_op = [oldp.assign(p) for p, oldp in zip(pi_params, oldpi_params)]\n",
    "\n",
    "        self.tfa = tf.placeholder(tf.float32, [None, self.action_size], 'action')\n",
    "        self.tfadv = tf.placeholder(tf.float32, [None, 1], 'advantage')\n",
    "        with tf.variable_scope('loss'):\n",
    "            with tf.variable_scope('surrogate'):\n",
    "                self.ratio = pi.prob(self.tfa) / (oldpi.prob(self.tfa)+1e-10)\n",
    "                surr = self.ratio * self.tfadv\n",
    "                surr2 = tf.clip_by_value(self.ratio, 1-self.epsilon, 1+self.epsilon) * self.tfadv\n",
    "                self.aloss = - tf.reduce_mean(tf.minimum(surr, surr2)) - self.entfact * tf.reduce_mean(pi.entropy())\n",
    "\n",
    "        with tf.variable_scope('atrain'):\n",
    "            self.atrain_op = tf.train.AdamOptimizer(self.actor_learning_rate).minimize(self.aloss, var_list=pi_params)\n",
    "\n",
    "        self.saver = tf.train.Saver(max_to_keep=None)\n",
    "        \n",
    "        self.sess.run(tf.global_variables_initializer())\n",
    "        \n",
    "    def _build_anet(self, name, trainable):\n",
    "        with tf.variable_scope(name):\n",
    "            net = tf.layers.dense(self.tfs, 30, tf.nn.relu, trainable=trainable)\n",
    "            net = tf.layers.dense(net, 30, tf.nn.relu, trainable=trainable)\n",
    "            mu = max(np.abs(self.action_low), np.abs(self.action_high)) * tf.layers.dense(net, self.action_size, tf.nn.tanh, trainable=trainable)\n",
    "            sigma = tf.layers.dense(net, self.action_size, tf.nn.softplus, trainable=trainable)\n",
    "            norm_dist = tf.distributions.Normal(loc=mu, scale=sigma)\n",
    "        params = tf.get_collection(tf.GraphKeys.GLOBAL_VARIABLES, scope=name)\n",
    "        return norm_dist, params\n",
    "    \n",
    "    def choose_action(self, state, train=True): # normal distribution\n",
    "        dic = {self.tfs: state}\n",
    "        if train:\n",
    "            a = self.sess.run(self.sample_op, dic)[0]\n",
    "        else:\n",
    "            a = self.sess.run(self.sample_test, dic)[0]\n",
    "        return np.clip(a, self.action_low, self.action_high)\n",
    "    \n",
    "    def remember(self, state, action, reward):\n",
    "        self.memory += [[state, action, reward]]\n",
    "    \n",
    "    def discount_rewards(self, rewards, gamma, value_next=0.0):\n",
    "        discounted_r = np.zeros_like(rewards)\n",
    "        running_add = value_next\n",
    "        for t in reversed(range(0, len(rewards))):\n",
    "            discounted_r[t] = running_add = running_add * gamma + rewards[t]\n",
    "        return discounted_r\n",
    "    \n",
    "    def process_memory(self):\n",
    "        memory = np.vstack(self.memory)\n",
    "        states = np.vstack(memory[:,0])\n",
    "        actions = np.vstack(memory[:,1])\n",
    "        rewards = memory[:,2]\n",
    "        discounted_ep_rs = self.discount_rewards(rewards, self.gamma)[:, newaxis]\n",
    "        value_estimates = self.sess.run(self.v, {self.tfs: states}).flatten()\n",
    "        value_estimates = np.append(value_estimates, 0)\n",
    "        delta_t = rewards + self.gamma * value_estimates[1:] - value_estimates[:-1]\n",
    "        advs = self.discount_rewards(delta_t, self.gamma * self.lam)[:, newaxis] #gae\n",
    "        self.history['states'] += [states]\n",
    "        self.history['actions'] += [actions]\n",
    "        self.history['discounted_rs'] += [discounted_ep_rs]\n",
    "        self.history['advantages'] += [advs]\n",
    "        self.memory = [] # empty the memory\n",
    "    \n",
    "    def replay(self):\n",
    "        self.sess.run(self.update_oldpi_op)\n",
    "        \n",
    "        s = np.vstack(self.history['states'])\n",
    "        ac = np.vstack(self.history['actions'])\n",
    "        dc_r = np.vstack(self.history['discounted_rs'])\n",
    "        ad = np.vstack(self.history['advantages'])\n",
    "        ad = (ad-ad.mean())/ad.std()\n",
    "        \n",
    "        for _ in range(10): # update K epochs\n",
    "            s, ac, dc_r, ad = shuffle(s, ac, dc_r, ad)\n",
    "            for l in range(s.shape[0]//self.batch_size):\n",
    "                start = l * self.batch_size\n",
    "                end = (l + 1) * self.batch_size\n",
    "                self.sess.run(self.atrain_op, {self.tfs: s[start:end], self.tfa: ac[start:end], self.tfadv: ad[start:end]})\n",
    "                self.sess.run(self.ctrain_op, {self.tfs: s[start:end], self.tfdc_r: dc_r[start:end]})\n",
    "            if s.shape[0] % self.batch_size != 0:\n",
    "                res = s.shape[0] % self.batch_size\n",
    "                self.sess.run(self.atrain_op, {self.tfs: s[-res:], self.tfa: ac[-res:], self.tfadv: ad[-res:]})\n",
    "                self.sess.run(self.ctrain_op, {self.tfs: s[-res:], self.tfdc_r: dc_r[-res:]})\n",
    "        \n",
    "        for key in self.history:\n",
    "            self.history[key] = [] # empty the history"
   ]
  },
  {
   "cell_type": "code",
   "execution_count": 3,
   "metadata": {},
   "outputs": [
    {
     "name": "stderr",
     "output_type": "stream",
     "text": [
      "INFO:unityagents.environment:\n",
      "'Academy' started successfully!\n"
     ]
    },
    {
     "name": "stdout",
     "output_type": "stream",
     "text": [
      "Unity Academy name: Academy\n",
      "        Number of brains: 1\n",
      "        Reset Parameters :\n",
      "\t\t\n",
      "Unity brain name: Brain\n",
      "        Number of observations (per agent): 0\n",
      "        State space type: continuous\n",
      "        State space size (per agent): 22\n",
      "        Action space type: continuous\n",
      "        Action space size (per agent): 4\n",
      "        Memory space size (per agent): 0\n",
      "        Action descriptions: \n",
      "Agent's state looks like: \n",
      "[ 10.   0.   0.   0.   0.   0.   0.   0.  -1.   0.   0.   0.  -1.   0.   0.\n",
      "   1.   0.   0.   2.   1.   0.   2.]\n"
     ]
    }
   ],
   "source": [
    "env_name = \"randomSequence10_3d\"\n",
    "env = UnityEnvironment(file_name=env_name)\n",
    "\n",
    "# Examine environment parameters\n",
    "print(str(env))\n",
    "\n",
    "# Set the default brain to work with\n",
    "default_brain = env.brain_names[0]\n",
    "brain = env.brains[default_brain]\n",
    "\n",
    "# Reset the environment\n",
    "env_info = env.reset(train_mode=False)[default_brain]\n",
    "\n",
    "# Examine the state space for the default brain\n",
    "print(\"Agent's state looks like: \\n{}\".format(env_info.states[0]))"
   ]
  },
  {
   "cell_type": "code",
   "execution_count": 4,
   "metadata": {
    "collapsed": true
   },
   "outputs": [],
   "source": [
    "state_n = 3\n",
    "def split_state(env_info):\n",
    "    seqlen = env_info.states[0][:1].astype(int)\n",
    "    state = env_info.states[0][1:3*state_n+7][newaxis, :]\n",
    "    state[0][6:]/=state_n\n",
    "#     rec_state = env_info.states[0][7:].reshape((1, 5, 3))\n",
    "    return state, seqlen"
   ]
  },
  {
   "cell_type": "code",
   "execution_count": 5,
   "metadata": {
    "collapsed": true
   },
   "outputs": [],
   "source": [
    "agent = PPOAgent(n_actions=4, n_states=3*state_n+6)\n",
    "rewards = []"
   ]
  },
  {
   "cell_type": "code",
   "execution_count": 8,
   "metadata": {
    "scrolled": true
   },
   "outputs": [
    {
     "name": "stdout",
     "output_type": "stream",
     "text": [
      "INFO:tensorflow:model/drone_randomSequence10_3d_2.ckpt is not in all_model_checkpoint_paths. Manually adding it.\n"
     ]
    },
    {
     "name": "stderr",
     "output_type": "stream",
     "text": [
      "INFO:tensorflow:model/drone_randomSequence10_3d_2.ckpt is not in all_model_checkpoint_paths. Manually adding it.\n"
     ]
    },
    {
     "name": "stdout",
     "output_type": "stream",
     "text": [
      "finished learning!\n"
     ]
    }
   ],
   "source": [
    "# PPO\n",
    "n_episodes = 200\n",
    "\n",
    "# agent.saver.restore(agent.sess, \"model/drone_randomSequence1_3d.ckpt\")\n",
    "for i_episode in range(n_episodes):\n",
    "    env_info = env.reset(train_mode=True)[default_brain]\n",
    "    state, seqlen = split_state(env_info)\n",
    "    init_seqlen = seqlen\n",
    "    r = 0\n",
    "    while True:\n",
    "        action = agent.choose_action(state)\n",
    "        env_info = env.step(action)[default_brain]\n",
    "        reward = env_info.rewards[0]\n",
    "        done = env_info.local_done[0]\n",
    "        r += reward\n",
    "        agent.remember(state, action, reward)\n",
    "        state, seqlen = split_state(env_info)\n",
    "        if done:\n",
    "            print(\"episode:\", i_episode+1, \"seqlen\", init_seqlen, \"rewards: %.2f\" % r, end=\"\\r\")\n",
    "            agent.process_memory()\n",
    "            rewards += [r/init_seqlen]\n",
    "            break\n",
    "    if (i_episode+1) % agent.agents == 0: # update every n_agent episodes\n",
    "        agent.replay()\n",
    "#     if (i_episode+1) % 100 == 0:\n",
    "#         agent.saver.save(agent.sess, \"model/model_ppo.ckpt\");\n",
    "agent.saver.save(agent.sess, \"model/drone_randomSequence10_3d_2.ckpt\");\n",
    "print(\"finished learning!\")"
   ]
  },
  {
   "cell_type": "code",
   "execution_count": 11,
   "metadata": {},
   "outputs": [
    {
     "name": "stdout",
     "output_type": "stream",
     "text": [
      "episode: 10 seqlen [10] rewards: 96.04\n",
      "\n",
      "finished testing!\n"
     ]
    }
   ],
   "source": [
    "n_episodes = 10\n",
    "\n",
    "test_rewards = []\n",
    "actions = []\n",
    "speeds = []\n",
    "angles = []\n",
    "# agent.saver.restore(agent.sess, \"model/drone_randomSequence1_3d.ckpt\")\n",
    "for i_episode in range(n_episodes):\n",
    "    env_info = env.reset(train_mode=False)[default_brain]\n",
    "    state, seqlen = split_state(env_info)\n",
    "    init_seqlen = seqlen\n",
    "    r = 0\n",
    "    while True:\n",
    "        action = agent.choose_action(state, train=False)\n",
    "        speeds += [state[0][:3]]\n",
    "        angles += [state[0][3:6]]\n",
    "        actions += [action]\n",
    "        env_info = env.step(action)[default_brain]\n",
    "        state, seqlen = split_state(env_info)\n",
    "        reward = env_info.rewards[0]\n",
    "        done = env_info.local_done[0]\n",
    "        r += reward\n",
    "        if done:\n",
    "            print(\"episode:\", i_episode+1, \"seqlen\", init_seqlen, \"rewards: %.2f\" % r, end=\"\\r\")\n",
    "            test_rewards += [r/init_seqlen]\n",
    "            break\n",
    "print(\"\\n\")\n",
    "print(\"finished testing!\")"
   ]
  },
  {
   "cell_type": "code",
   "execution_count": 9,
   "metadata": {
    "scrolled": true
   },
   "outputs": [
    {
     "data": {
      "image/png": "[encoded data removed]",
      "text/plain": [
       "<matplotlib.figure.Figure at 0x145b5e93390>"
      ]
     },
     "metadata": {},
     "output_type": "display_data"
    },
    {
     "name": "stdout",
     "output_type": "stream",
     "text": [
      "4.26424317547\n"
     ]
    }
   ],
   "source": [
    "plt.plot(rewards)\n",
    "plt.show()\n",
    "print(np.mean(rewards))"
   ]
  },
  {
   "cell_type": "code",
   "execution_count": 9,
   "metadata": {},
   "outputs": [
    {
     "data": {
      "image/png": "[encoded data removed]",
      "text/plain": [
       "<matplotlib.figure.Figure at 0x1c733ac9ac8>"
      ]
     },
     "metadata": {},
     "output_type": "display_data"
    },
    {
     "name": "stdout",
     "output_type": "stream",
     "text": [
      "6.84705240369\n"
     ]
    }
   ],
   "source": [
    "plt.plot(test_rewards)\n",
    "plt.show()\n",
    "print(np.mean(test_rewards))"
   ]
  },
  {
   "cell_type": "code",
   "execution_count": 34,
   "metadata": {
    "collapsed": true
   },
   "outputs": [],
   "source": [
    "env.close()"
   ]
  },
  {
   "cell_type": "code",
   "execution_count": null,
   "metadata": {
    "collapsed": true
   },
   "outputs": [],
   "source": []
  }
 ],
 "metadata": {
  "kernelspec": {
   "display_name": "Python 3",
   "language": "python",
   "name": "python3"
  },
  "language_info": {
   "codemirror_mode": {
    "name": "ipython",
    "version": 3
   },
   "file_extension": ".py",
   "mimetype": "text/x-python",
   "name": "python",
   "nbconvert_exporter": "python",
   "pygments_lexer": "ipython3",
   "version": "3.6.1"
  }
 },
 "nbformat": 4,
 "nbformat_minor": 2
}
