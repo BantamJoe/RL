{
 "cells": [
  {
   "cell_type": "code",
   "execution_count": 1,
   "metadata": {},
   "outputs": [
    {
     "name": "stderr",
     "output_type": "stream",
     "text": [
      "C:\\Users\\kwea123\\Anaconda3\\lib\\site-packages\\h5py\\__init__.py:34: FutureWarning: Conversion of the second argument of issubdtype from `float` to `np.floating` is deprecated. In future, it will be treated as `np.float64 == np.dtype(float).type`.\n",
      "  from ._conv import register_converters as _register_converters\n"
     ]
    }
   ],
   "source": [
    "import numpy as np\n",
    "import matplotlib.pyplot as plt\n",
    "import tensorflow as tf\n",
    "import time"
   ]
  },
  {
   "cell_type": "code",
   "execution_count": 17,
   "metadata": {},
   "outputs": [],
   "source": [
    "class Episode_experience():\n",
    "    def __init__(self):\n",
    "        self.memory = {'states':[], 'actions':[], 'rewards':[], 'next_states':[], 'dones':[], 'goals':[]}\n",
    "        \n",
    "    def add(self, state, action, reward, next_state, done, goal):\n",
    "        self.memory['states'] += [state]\n",
    "        self.memory['actions'] += [action]\n",
    "        self.memory['rewards'] += [reward]\n",
    "        self.memory['next_states'] += [next_state]\n",
    "        self.memory['dones'] += [done]\n",
    "        self.memory['goals'] += [goal]\n",
    "    \n",
    "    def clear(self):\n",
    "        for k in self.memory:\n",
    "            self.memory[k] = []\n",
    "        \n",
    "class DQNAgent():\n",
    "    def __init__(self, state_size, action_size, goal_size, double_dqn=True, clip_target_value=True):\n",
    "        self.state_size = state_size\n",
    "        self.goal_size = goal_size\n",
    "        self.action_size = action_size\n",
    "        self.double_dqn = double_dqn\n",
    "        self.clip_target_value = clip_target_value\n",
    "        self.memory = {'states':[], 'actions':[], 'rewards':[], 'next_states':[], 'dones':[], 'goals':[]}\n",
    "        self.epsilon = 0.2 # exploration\n",
    "        self.epsilon_min = 0.02 # min exploration\n",
    "        self.epsilon_decay = 0.95\n",
    "        self.tau = 0.95 # target net update weight\n",
    "        self.gamma = 0.98\n",
    "        self.batch_size = 128\n",
    "        self.learning_rate = 1e-3\n",
    "        self.buffer_size = 1e6\n",
    "        self._set_model()\n",
    "        \n",
    "    def _set_model(self): # set value network\n",
    "        tf.reset_default_graph()\n",
    "        self.sess = tf.Session()\n",
    "        \n",
    "        self.tfs = tf.placeholder(tf.float32, [None, self.state_size], 'state')\n",
    "        self.tfs_ = tf.placeholder(tf.float32, [None, self.state_size], 'next_state')\n",
    "        self.tfg = tf.placeholder(tf.float32, [None, self.goal_size], 'goal')\n",
    "        self.tfa = tf.placeholder(tf.int32, [None, ], 'action')\n",
    "        self.tfr = tf.placeholder(tf.float32, [None, ], 'reward')\n",
    "        self.tfd = tf.placeholder(tf.float32, [None, ], 'done')\n",
    "        \n",
    "        def _build_qnet(state, scope, trainable, reuse):\n",
    "            with tf.variable_scope(scope, reuse=reuse):\n",
    "                net = tf.layers.dense(tf.concat([state, self.tfg], axis=1), 256, activation=tf.nn.relu, trainable=trainable)\n",
    "                q = tf.layers.dense(net, self.action_size, trainable=trainable)\n",
    "            return q, tf.get_collection(tf.GraphKeys.GLOBAL_VARIABLES, scope=scope)\n",
    "        \n",
    "        self.q_eval, e_params = _build_qnet(self.tfs, 'eval', trainable=True, reuse=False)\n",
    "        self.q_targ, t_params = _build_qnet(self.tfs_, 'target', trainable=False, reuse=False)\n",
    "        \n",
    "        self.update_op = [tf.assign(t, self.tau*e+(1-self.tau)*t) for t, e in zip(t_params, e_params)] # soft update\n",
    "\n",
    "        if self.double_dqn:\n",
    "            q_eval_next, _ = _build_qnet(self.tfs_, 'eval', trainable=True, reuse=True)\n",
    "            q_eval_next_best_action = tf.argmax(q_eval_next, 1)\n",
    "            self.q_target = tf.reduce_sum(self.q_targ * tf.one_hot(q_eval_next_best_action, self.action_size), axis=1)\n",
    "        else:\n",
    "            self.q_target = tf.reduce_max(self.q_targ, axis=1)\n",
    "            \n",
    "        self.q_target = self.tfr + self.gamma * (1-self.tfd) * self.q_target\n",
    "        \n",
    "        if self.clip_target_value:\n",
    "            self.q_target = tf.clip_by_value(self.q_target, -1/(1-self.gamma), 0)\n",
    "        \n",
    "        self.q_eval_action = tf.reduce_sum(self.q_eval * tf.one_hot(self.tfa, self.action_size), axis=1)\n",
    "        \n",
    "        self.loss = tf.losses.mean_squared_error(self.q_target, self.q_eval_action)\n",
    "        self.train_op = tf.train.AdamOptimizer(self.learning_rate).minimize(self.loss)\n",
    "        \n",
    "        self.sess.run(tf.global_variables_initializer())\n",
    "        \n",
    "    def choose_action(self, state, goal):\n",
    "        if np.random.rand() <= self.epsilon:\n",
    "            return np.random.randint(self.action_size)\n",
    "        return self.sess.run(tf.argmax(self.q_eval, axis=1), {self.tfs: state, self.tfg: goal})[0]\n",
    "    \n",
    "    def remember(self, ep_experience):\n",
    "        if len(self.memory['states']) > self.buffer_size:\n",
    "            for k in self.memory:\n",
    "                self.memory[k] = self.memory[k][int(1e-4 * self.buffer_size):] # empty the first memories\n",
    "        self.memory['states'] += ep_experience.memory['states']\n",
    "        self.memory['actions'] += ep_experience.memory['actions']\n",
    "        self.memory['rewards'] += ep_experience.memory['rewards']\n",
    "        self.memory['next_states'] += ep_experience.memory['next_states']\n",
    "        self.memory['dones'] += ep_experience.memory['dones']\n",
    "        self.memory['goals'] += ep_experience.memory['goals']\n",
    "        \n",
    "    def replay(self, optimization_steps):       \n",
    "        ss = np.vstack(self.memory['states'])\n",
    "        acs = np.vstack(self.memory['actions']).flatten()\n",
    "        rs = np.vstack(self.memory['rewards']).flatten()\n",
    "        nss = np.vstack(self.memory['next_states'])\n",
    "        ds = np.vstack(self.memory['dones']).flatten()\n",
    "        gs = np.vstack(self.memory['goals'])\n",
    "        \n",
    "        losses = 0\n",
    "        for _ in range(optimization_steps):\n",
    "            idx = np.random.choice(len(self.memory['states']), size=self.batch_size)\n",
    "            loss, _ = self.sess.run([self.loss, self.train_op], \n",
    "                                    {self.tfs: ss[idx], self.tfg: gs[idx], self.tfa: acs[idx],\n",
    "                                     self.tfr: rs[idx], self.tfs_: nss[idx], self.tfd: ds[idx]})\n",
    "            losses += loss\n",
    "            \n",
    "        return losses/optimization_steps # return mean loss\n",
    "    \n",
    "    def update_target_net(self, decay=True):\n",
    "        self.sess.run(self.update_op)\n",
    "        if decay:\n",
    "            self.epsilon = max(self.epsilon*self.epsilon_decay, self.epsilon_min)"
   ]
  },
  {
   "cell_type": "code",
   "execution_count": 3,
   "metadata": {
    "collapsed": true
   },
   "outputs": [],
   "source": [
    "class BitFlip():\n",
    "    def __init__(self, n, reward_type):\n",
    "        self.n = n # number of bits\n",
    "        self.reward_type = reward_type\n",
    "    def reset(self):\n",
    "        self.goal = np.random.randint(2, size=(self.n)) # a random sequence of 0's and 1's\n",
    "        self.state = np.random.randint(2, size=(self.n)) # another random sequence of 0's and 1's as initial state\n",
    "        return np.copy(self.state), np.copy(self.goal)\n",
    "    def step(self, action):\n",
    "        self.state[action] = 1-self.state[action] # flip this bit\n",
    "        done = np.array_equal(self.state, self.goal)\n",
    "        if self.reward_type == 'sparse':\n",
    "            reward = 0 if done else -1\n",
    "        else:\n",
    "            reward = -np.sum(np.square(self.state-self.goal))\n",
    "        return np.copy(self.state), reward, done\n",
    "    def render(self):\n",
    "        print(\"\\rstate :\", np.array_str(self.state), \", goal :\", np.array_str(self.goal), end=' '*10)"
   ]
  },
  {
   "cell_type": "code",
   "execution_count": 42,
   "metadata": {},
   "outputs": [],
   "source": [
    "size = 30\n",
    "env = BitFlip(size, 'sparse')\n",
    "agent = DQNAgent(size, size, size)"
   ]
  },
  {
   "cell_type": "code",
   "execution_count": 45,
   "metadata": {},
   "outputs": [
    {
     "name": "stdout",
     "output_type": "stream",
     "text": [
      "epoch 300 success rate 1.0 loss 0.05 exploration 0.02             "
     ]
    }
   ],
   "source": [
    "num_epochs = 300\n",
    "num_episodes = 16\n",
    "optimisation_steps = 40\n",
    "K = 4 # number of random future states\n",
    "\n",
    "# losses = []\n",
    "# success_rate = []\n",
    "\n",
    "ep_experience = Episode_experience()\n",
    "\n",
    "for i in range(num_epochs):\n",
    "    successes = 0\n",
    "    for n in range(num_episodes):\n",
    "        state, goal = env.reset()\n",
    "        for t in range(size):\n",
    "            action = agent.choose_action([state], [goal])\n",
    "            next_state, reward, done = env.step(action)\n",
    "            ep_experience.add(state, action, reward, next_state, done, goal)\n",
    "            state = next_state\n",
    "            if done:\n",
    "                break\n",
    "        successes += done\n",
    "\n",
    "#         goal = state # HER, with substituted goal=final_state\n",
    "        for t in range(len(ep_experience.memory['states'])):\n",
    "            for k in range(K):\n",
    "                future = np.random.randint(t, len(ep_experience.memory['states']))\n",
    "                goal = ep_experience.memory['next_states'][future]\n",
    "                state = ep_experience.memory['states'][t]\n",
    "                action = ep_experience.memory['actions'][t]\n",
    "                next_state = ep_experience.memory['next_states'][t]\n",
    "                done = np.array_equal(next_state, goal)\n",
    "                reward = 0 if done else -1\n",
    "                ep_experience.add(state, action, reward, next_state, done, goal)\n",
    "\n",
    "        agent.remember(ep_experience)  \n",
    "        ep_experience.clear()\n",
    "\n",
    "    mean_loss = agent.replay(optimisation_steps)\n",
    "    agent.update_target_net()\n",
    "    \n",
    "    losses.append(mean_loss)\n",
    "    success_rate.append(successes/num_episodes)\n",
    "    print(\"\\repoch\", i+1, \"success rate\", success_rate[-1], 'loss %.2f'%losses[-1], 'exploration %.2f'%agent.epsilon, end=' '*10)"
   ]
  },
  {
   "cell_type": "code",
   "execution_count": 46,
   "metadata": {},
   "outputs": [
    {
     "data": {
      "image/png": "[encoded data removed]",
      "text/plain": [
       "<matplotlib.figure.Figure at 0x1e9ff176c18>"
      ]
     },
     "metadata": {},
     "output_type": "display_data"
    }
   ],
   "source": [
    "plt.plot(losses)\n",
    "plt.show()"
   ]
  },
  {
   "cell_type": "code",
   "execution_count": 47,
   "metadata": {},
   "outputs": [
    {
     "data": {
      "image/png": "[encoded data removed]",
      "text/plain": [
       "<matplotlib.figure.Figure at 0x1e9ff8ec908>"
      ]
     },
     "metadata": {},
     "output_type": "display_data"
    }
   ],
   "source": [
    "plt.plot(success_rate)\n",
    "plt.show()"
   ]
  },
  {
   "cell_type": "code",
   "execution_count": 48,
   "metadata": {},
   "outputs": [
    {
     "name": "stdout",
     "output_type": "stream",
     "text": [
      "state : [1 0 1 1 1 0 1 0 0 1 0 0 1 0 0 0 0 0 0 1 0 1 0 1 0 1 1 1 1 0] , goal : [1 0 1 1 1 0 1 0 0 1 0 0 1 0 0 0 0 0 0 1 0 1 0 1 0 1 1 1 1 0]          True\n",
      "state : [0 0 1 1 1 0 0 1 1 1 1 0 0 0 1 0 1 1 1 0 1 0 0 1 1 0 0 0 0 1] , goal : [0 0 1 1 1 0 0 1 1 1 1 0 0 0 1 0 1 1 1 0 1 0 0 1 1 0 0 0 0 1]          True\n",
      "state : [0 1 0 1 1 0 1 0 1 0 1 0 0 1 1 0 0 0 0 0 1 1 0 0 1 1 0 1 1 1] , goal : [0 1 0 1 1 0 1 0 1 0 1 0 0 1 1 0 0 0 0 0 1 1 0 0 1 1 0 1 1 1]          True\n",
      "state : [0 1 0 0 0 0 0 0 0 0 1 0 1 1 1 0 0 1 0 0 1 1 1 1 0 1 0 1 0 1] , goal : [0 1 0 0 0 0 0 0 0 0 1 0 1 1 1 0 0 1 0 0 1 1 1 1 0 1 0 1 0 1]          True\n",
      "state : [0 1 1 0 1 0 1 0 1 1 0 1 0 0 1 1 1 0 1 0 0 1 1 0 1 0 1 0 1 0] , goal : [0 1 1 0 1 0 1 0 1 1 0 1 0 0 1 1 1 0 1 0 0 1 1 0 1 0 1 0 1 0]          True\n"
     ]
    }
   ],
   "source": [
    "for _ in range(5):\n",
    "    state, goal = env.reset()\n",
    "    env.render()\n",
    "    for t in range(size):\n",
    "        action = agent.choose_action([state], [goal])\n",
    "        next_state, reward, done = env.step(action)\n",
    "        state = next_state\n",
    "        env.render()\n",
    "        time.sleep(0.5)\n",
    "        if done:\n",
    "            break\n",
    "    print(done)"
   ]
  },
  {
   "cell_type": "code",
   "execution_count": null,
   "metadata": {
    "collapsed": true
   },
   "outputs": [],
   "source": []
  }
 ],
 "metadata": {
  "kernelspec": {
   "display_name": "Python 3",
   "language": "python",
   "name": "python3"
  },
  "language_info": {
   "codemirror_mode": {
    "name": "ipython",
    "version": 3
   },
   "file_extension": ".py",
   "mimetype": "text/x-python",
   "name": "python",
   "nbconvert_exporter": "python",
   "pygments_lexer": "ipython3",
   "version": "3.6.1"
  }
 },
 "nbformat": 4,
 "nbformat_minor": 2
}
