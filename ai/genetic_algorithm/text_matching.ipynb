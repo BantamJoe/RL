{
 "cells": [
  {
   "cell_type": "code",
   "execution_count": 1,
   "metadata": {
    "collapsed": true
   },
   "outputs": [],
   "source": [
    "import numpy as np\n",
    "import time"
   ]
  },
  {
   "cell_type": "code",
   "execution_count": 8,
   "metadata": {},
   "outputs": [
    {
     "name": "stderr",
     "output_type": "stream",
     "text": [
      "C:\\Users\\kwea123\\Anaconda3\\lib\\site-packages\\ipykernel_launcher.py:2: DeprecationWarning: The binary mode of fromstring is deprecated, as it behaves surprisingly on unicode inputs. Use frombuffer instead\n",
      "  \n"
     ]
    }
   ],
   "source": [
    "TARGET = \"01001101101\"\n",
    "TARGET_ASCII = np.fromstring(TARGET, dtype=np.uint8)\n",
    "DNA_SIZE = len(TARGET)\n",
    "POP_SIZE = 100\n",
    "CROSS_RATE = 0.8\n",
    "MUTATION_RATE = 0.003"
   ]
  },
  {
   "cell_type": "code",
   "execution_count": 9,
   "metadata": {
    "collapsed": true
   },
   "outputs": [],
   "source": [
    "def get_fitness(pred):\n",
    "    match_count = (pop == TARGET_ASCII).sum(axis=1)\n",
    "    return match_count\n",
    "\n",
    "def translateDNA(pop): \n",
    "    return pop.tostring().decode('ascii')\n",
    "\n",
    "def select(pop, fitness):    # nature selection wrt pop's fitness\n",
    "    idx = np.random.choice(np.arange(POP_SIZE), size=POP_SIZE, replace=True,\n",
    "                           p=fitness/fitness.sum())\n",
    "    return pop[idx]\n",
    "\n",
    "def crossover(parent, pop):     # mating process (genes crossover)\n",
    "    if np.random.rand() < CROSS_RATE:\n",
    "        i_ = np.random.randint(0, POP_SIZE, size=1)                             # select another individual from pop\n",
    "        cross_points = np.random.randint(0, 2, size=DNA_SIZE).astype(np.bool)   # choose crossover points\n",
    "        parent[cross_points] = pop[i_, cross_points]                            # mating and produce one child\n",
    "    return parent\n",
    "\n",
    "\n",
    "def mutate(child):\n",
    "    for point in range(DNA_SIZE):\n",
    "        if np.random.rand() < MUTATION_RATE:\n",
    "            child[point] = np.random.randint(48, 50)\n",
    "    return child"
   ]
  },
  {
   "cell_type": "code",
   "execution_count": 11,
   "metadata": {},
   "outputs": [
    {
     "name": "stdout",
     "output_type": "stream",
     "text": [
      "\r",
      "iteration 7 best phrase : 01001101101          "
     ]
    }
   ],
   "source": [
    "pop = np.random.randint(48, 50, size=(POP_SIZE, DNA_SIZE)).astype(np.int8)\n",
    "\n",
    "N_GENERATIONS = 5000\n",
    "for i in range(N_GENERATIONS):\n",
    "    fitness = get_fitness(pop)\n",
    "    best_DNA = pop[np.argmax(fitness)]\n",
    "    best_phrase = translateDNA(best_DNA)\n",
    "    if (i+1) % 100 == 0:\n",
    "        print('\\riteration',i+1 ,'best phrase : '+best_phrase, end=' '*10)\n",
    "    if best_phrase == TARGET:\n",
    "        print('\\riteration',i+1 ,'best phrase : '+best_phrase, end=' '*10)\n",
    "        break\n",
    "    \n",
    "    # GA part (evolution)\n",
    "    pop = select(pop, fitness)\n",
    "    pop_copy = pop.copy()\n",
    "    for parent in pop:\n",
    "        child = crossover(parent, pop_copy)\n",
    "        child = mutate(child)\n",
    "        parent = child       # parent is replaced by its child"
   ]
  },
  {
   "cell_type": "code",
   "execution_count": null,
   "metadata": {
    "collapsed": true
   },
   "outputs": [],
   "source": []
  }
 ],
 "metadata": {
  "kernelspec": {
   "display_name": "Python 3",
   "language": "python",
   "name": "python3"
  },
  "language_info": {
   "codemirror_mode": {
    "name": "ipython",
    "version": 3
   },
   "file_extension": ".py",
   "mimetype": "text/x-python",
   "name": "python",
   "nbconvert_exporter": "python",
   "pygments_lexer": "ipython3",
   "version": "3.6.1"
  }
 },
 "nbformat": 4,
 "nbformat_minor": 2
}
