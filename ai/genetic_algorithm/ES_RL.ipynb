{
 "cells": [
  {
   "cell_type": "code",
   "execution_count": 1,
   "metadata": {
    "collapsed": true
   },
   "outputs": [],
   "source": [
    "import gym\n",
    "import numpy as np"
   ]
  },
  {
   "cell_type": "code",
   "execution_count": 17,
   "metadata": {},
   "outputs": [
    {
     "name": "stderr",
     "output_type": "stream",
     "text": [
      "[2018-02-15 19:24:35,928] Making new env: CartPole-v0\n"
     ]
    }
   ],
   "source": [
    "env = gym.make('CartPole-v0')"
   ]
  },
  {
   "cell_type": "code",
   "execution_count": 3,
   "metadata": {
    "collapsed": true
   },
   "outputs": [],
   "source": [
    "class ES():\n",
    "    def __init__(self):\n",
    "        self.shapes, self.oldnet = self.build_net()\n",
    "        self.net = np.copy(self.oldnet)\n",
    "        \n",
    "    def build_net(self):\n",
    "        def linear(n_in, n_out):  # network linear layer\n",
    "            w = np.random.randn(n_in * n_out).astype(np.float32) * .1\n",
    "            b = np.random.randn(n_out).astype(np.float32) * .1\n",
    "            return (n_in, n_out), np.concatenate((w, b))\n",
    "        s0, p0 = linear(4, 20)\n",
    "        s1, p1 = linear(20, 1)\n",
    "        return [s0, s1], np.concatenate((p0, p1))\n",
    "    \n",
    "    def reset_net(self):\n",
    "        self.net = np.copy(self.oldnet)\n",
    "    \n",
    "    def mutate(self):\n",
    "        noise = np.random.randn(self.net.shape[0])\n",
    "        self.net += sigma*noise\n",
    "        return noise\n",
    "    \n",
    "    def update(self, learning_rate, noises, advs):\n",
    "        gradient = np.dot(noises.T, advs)\n",
    "        self.oldnet += learning_rate*gradient\n",
    "    \n",
    "    def choose_action(self, state):\n",
    "        start = 0\n",
    "        state = state[np.newaxis, :]\n",
    "        for s in self.shapes:\n",
    "            n_w, n_b = s[0]*s[1], s[1]\n",
    "            state = np.tanh(state.dot(self.net[start:start+n_w].reshape(s))+self.net[start+n_w:start+n_w+n_b])\n",
    "            start += n_w+n_b\n",
    "        if state[0] > 0:\n",
    "            return 1\n",
    "        return 0"
   ]
  },
  {
   "cell_type": "code",
   "execution_count": 24,
   "metadata": {},
   "outputs": [
    {
     "name": "stdout",
     "output_type": "stream",
     "text": [
      "best reward for ep 100 : 200.0          31 : 200.0           36 : 200.0           83 : 200.0          "
     ]
    }
   ],
   "source": [
    "def discounted_rewards(rs):\n",
    "    r = 0\n",
    "    for t in reversed(range(len(rs))):\n",
    "        r = r*gamma + rs[t]\n",
    "    return r\n",
    "\n",
    "npop = 20\n",
    "sigma = 1e-2\n",
    "alpha = 1e-2\n",
    "gamma = 0.98\n",
    "\n",
    "es = ES()\n",
    "\n",
    "rank = np.arange(1, npop + 1)\n",
    "util_ = np.maximum(0, np.log(npop / 2 + 1) - np.log(rank))\n",
    "utility = util_ / util_.sum() - 1 / npop\n",
    "    \n",
    "for e in range(100):\n",
    "    noises = []\n",
    "    rewards = []\n",
    "    best_r = 0\n",
    "    for i in range(npop):\n",
    "        state = env.reset()\n",
    "        es.reset_net() # reset the old params\n",
    "        noise_i = es.mutate() # mutate the child\n",
    "        r_i = []\n",
    "        while True: # run simulation\n",
    "            action = es.choose_action(state)\n",
    "            next_state, reward, done, _ = env.step(action)\n",
    "            state = next_state\n",
    "            r_i += [reward]\n",
    "            if done:\n",
    "                best_r = max(sum(r_i), best_r)\n",
    "                break\n",
    "        # save the noises and rewards\n",
    "        noises += [noise_i]\n",
    "        rewards += [discounted_rewards(r_i)]\n",
    "    print('\\rbest reward for ep', e+1, ':', best_r, end=' '*10)\n",
    "    \n",
    "#     advs = (rewards - np.mean(rewards))/np.std(rewards) # 如果用這個更新會永遠無法收斂 不知道為什麼\n",
    "    ranks = np.argsort(rewards)[::-1]\n",
    "    noises = np.vstack(noises)[ranks]\n",
    "    es.update(alpha/(npop*sigma), noises, utility)"
   ]
  },
  {
   "cell_type": "code",
   "execution_count": 19,
   "metadata": {},
   "outputs": [
    {
     "name": "stdout",
     "output_type": "stream",
     "text": [
      "reward for ep 1 : 19.0\n",
      "reward for ep 2 : 37.0\n",
      "reward for ep 3 : 18.0\n",
      "reward for ep 4 : 16.0\n",
      "reward for ep 5 : 19.0\n"
     ]
    }
   ],
   "source": [
    "#test\n",
    "for e in range(5):\n",
    "    state = env.reset()\n",
    "    r = 0\n",
    "    while True:\n",
    "        env.render()\n",
    "        action = es.choose_action(state)\n",
    "        next_state, reward, done, _ = env.step(action)\n",
    "        state = next_state\n",
    "        r += reward\n",
    "        if done:\n",
    "            print('reward for ep', e+1, ':', r)\n",
    "            break"
   ]
  },
  {
   "cell_type": "code",
   "execution_count": 16,
   "metadata": {
    "collapsed": true
   },
   "outputs": [],
   "source": [
    "env.close()"
   ]
  },
  {
   "cell_type": "code",
   "execution_count": null,
   "metadata": {
    "collapsed": true
   },
   "outputs": [],
   "source": []
  }
 ],
 "metadata": {
  "kernelspec": {
   "display_name": "Python 3",
   "language": "python",
   "name": "python3"
  },
  "language_info": {
   "codemirror_mode": {
    "name": "ipython",
    "version": 3
   },
   "file_extension": ".py",
   "mimetype": "text/x-python",
   "name": "python",
   "nbconvert_exporter": "python",
   "pygments_lexer": "ipython3",
   "version": "3.6.1"
  }
 },
 "nbformat": 4,
 "nbformat_minor": 2
}
